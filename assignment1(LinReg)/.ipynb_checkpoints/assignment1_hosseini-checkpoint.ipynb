{
 "cells": [
  {
   "cell_type": "markdown",
   "id": "a1dedbb6-2595-4a0b-abec-5e8e472d507a",
   "metadata": {},
   "source": [
    "Download the TF-DNA binding gcPBM data for Max, Myc, and Mad from Blackboard: ‘Max.txt’\n",
    "for TF Max, ‘Mad.txt’ for TF Mad, and ‘Myc.txt’ for TF Myc. Each file contains two columns,\n",
    "where the first column represents the binding sequence and the second column shows the\n",
    "binding affinity. Utilize pandas to read these files into a DataFrame format. Once the data is\n",
    "loaded, count and report the number of sequences for each TF. [0.5pt]"
   ]
  },
  {
   "cell_type": "code",
   "execution_count": 1,
   "id": "f7063042-3fec-4e4c-9cd5-683ded58424a",
   "metadata": {},
   "outputs": [],
   "source": [
    "import pandas as pd"
   ]
  },
  {
   "cell_type": "code",
   "execution_count": 2,
   "id": "dfef8824-b43f-40f5-bb28-95c8447d2208",
   "metadata": {},
   "outputs": [
    {
     "data": {
      "text/html": [
       "<div>\n",
       "<style scoped>\n",
       "    .dataframe tbody tr th:only-of-type {\n",
       "        vertical-align: middle;\n",
       "    }\n",
       "\n",
       "    .dataframe tbody tr th {\n",
       "        vertical-align: top;\n",
       "    }\n",
       "\n",
       "    .dataframe thead th {\n",
       "        text-align: right;\n",
       "    }\n",
       "</style>\n",
       "<table border=\"1\" class=\"dataframe\">\n",
       "  <thead>\n",
       "    <tr style=\"text-align: right;\">\n",
       "      <th></th>\n",
       "      <th>binding sequence</th>\n",
       "      <th>binding affinity</th>\n",
       "    </tr>\n",
       "  </thead>\n",
       "  <tbody>\n",
       "    <tr>\n",
       "      <th>0</th>\n",
       "      <td>GGGCATGAAAGCCACCTCGTGGTTTTGCAGCAAGTG</td>\n",
       "      <td>8.763428</td>\n",
       "    </tr>\n",
       "    <tr>\n",
       "      <th>1</th>\n",
       "      <td>CGGGGAGGAGCCACCCACGCGCCACAGCAAGTCCTG</td>\n",
       "      <td>7.903412</td>\n",
       "    </tr>\n",
       "    <tr>\n",
       "      <th>2</th>\n",
       "      <td>GGCGGCCCGGGCATCCACGTGGGTCGGGCTCCTGGT</td>\n",
       "      <td>10.208874</td>\n",
       "    </tr>\n",
       "    <tr>\n",
       "      <th>3</th>\n",
       "      <td>TGCGGCTTCGGCTTCCACGCGGCATCCTAGGTAAGC</td>\n",
       "      <td>8.273974</td>\n",
       "    </tr>\n",
       "    <tr>\n",
       "      <th>4</th>\n",
       "      <td>TGCTCGCCTGCCTGCCATGTGCAGCGGCCCCTTTGT</td>\n",
       "      <td>8.325185</td>\n",
       "    </tr>\n",
       "    <tr>\n",
       "      <th>...</th>\n",
       "      <td>...</td>\n",
       "      <td>...</td>\n",
       "    </tr>\n",
       "    <tr>\n",
       "      <th>7529</th>\n",
       "      <td>CGGCCCCCGGCCCGCCATGTGGCGCGGCTGACCGCG</td>\n",
       "      <td>8.361708</td>\n",
       "    </tr>\n",
       "    <tr>\n",
       "      <th>7530</th>\n",
       "      <td>GTACCCGCGCTGTTGCGCGTGGGTCCCGGGAGCGGC</td>\n",
       "      <td>7.964677</td>\n",
       "    </tr>\n",
       "    <tr>\n",
       "      <th>7531</th>\n",
       "      <td>GCGCAGGAGCGCCGACACGCGTCAGCACTAGCCGGC</td>\n",
       "      <td>7.808526</td>\n",
       "    </tr>\n",
       "    <tr>\n",
       "      <th>7532</th>\n",
       "      <td>CGAGGCAGGTGCGGTCACGTGACCCGGCGGCGCTGC</td>\n",
       "      <td>8.852808</td>\n",
       "    </tr>\n",
       "    <tr>\n",
       "      <th>7533</th>\n",
       "      <td>CTTGAAAACAGAGGCCATGTGGTGGCCTGTTACATA</td>\n",
       "      <td>8.644618</td>\n",
       "    </tr>\n",
       "  </tbody>\n",
       "</table>\n",
       "<p>7534 rows × 2 columns</p>\n",
       "</div>"
      ],
      "text/plain": [
       "                          binding sequence  binding affinity\n",
       "0     GGGCATGAAAGCCACCTCGTGGTTTTGCAGCAAGTG          8.763428\n",
       "1     CGGGGAGGAGCCACCCACGCGCCACAGCAAGTCCTG          7.903412\n",
       "2     GGCGGCCCGGGCATCCACGTGGGTCGGGCTCCTGGT         10.208874\n",
       "3     TGCGGCTTCGGCTTCCACGCGGCATCCTAGGTAAGC          8.273974\n",
       "4     TGCTCGCCTGCCTGCCATGTGCAGCGGCCCCTTTGT          8.325185\n",
       "...                                    ...               ...\n",
       "7529  CGGCCCCCGGCCCGCCATGTGGCGCGGCTGACCGCG          8.361708\n",
       "7530  GTACCCGCGCTGTTGCGCGTGGGTCCCGGGAGCGGC          7.964677\n",
       "7531  GCGCAGGAGCGCCGACACGCGTCAGCACTAGCCGGC          7.808526\n",
       "7532  CGAGGCAGGTGCGGTCACGTGACCCGGCGGCGCTGC          8.852808\n",
       "7533  CTTGAAAACAGAGGCCATGTGGTGGCCTGTTACATA          8.644618\n",
       "\n",
       "[7534 rows x 2 columns]"
      ]
     },
     "execution_count": 2,
     "metadata": {},
     "output_type": "execute_result"
    }
   ],
   "source": [
    "mad_df = pd.read_table('Mad.txt', delimiter='\\t', header = None, names = ['binding sequence', 'binding affinity'])\n",
    "mad_df "
   ]
  },
  {
   "cell_type": "markdown",
   "id": "8816e5f9-d09e-465b-a08c-b8d76527bbda",
   "metadata": {},
   "source": [
    "The TF Mad datset contains 7534 sequences."
   ]
  },
  {
   "cell_type": "code",
   "execution_count": 3,
   "id": "8308d3dc-1a9b-451e-a8e2-36b37f001894",
   "metadata": {},
   "outputs": [
    {
     "data": {
      "text/html": [
       "<div>\n",
       "<style scoped>\n",
       "    .dataframe tbody tr th:only-of-type {\n",
       "        vertical-align: middle;\n",
       "    }\n",
       "\n",
       "    .dataframe tbody tr th {\n",
       "        vertical-align: top;\n",
       "    }\n",
       "\n",
       "    .dataframe thead th {\n",
       "        text-align: right;\n",
       "    }\n",
       "</style>\n",
       "<table border=\"1\" class=\"dataframe\">\n",
       "  <thead>\n",
       "    <tr style=\"text-align: right;\">\n",
       "      <th></th>\n",
       "      <th>binding sequence</th>\n",
       "      <th>binding affinity</th>\n",
       "    </tr>\n",
       "  </thead>\n",
       "  <tbody>\n",
       "    <tr>\n",
       "      <th>0</th>\n",
       "      <td>GAAGCCCTGGCGGGGCGCGTGCCCGCCGCCGCCGCC</td>\n",
       "      <td>3.737829</td>\n",
       "    </tr>\n",
       "    <tr>\n",
       "      <th>1</th>\n",
       "      <td>TCCCGGGGCTAGAGGCATGTGGACTCAGGAGGATGA</td>\n",
       "      <td>3.895754</td>\n",
       "    </tr>\n",
       "    <tr>\n",
       "      <th>2</th>\n",
       "      <td>GGCGCTGCCGGACTGCGCGTGGAGTGGCGCGCTGCT</td>\n",
       "      <td>3.797545</td>\n",
       "    </tr>\n",
       "    <tr>\n",
       "      <th>3</th>\n",
       "      <td>GCAGCTCGCCCGGGCCACGCGGTGCCGGCCCTCGGC</td>\n",
       "      <td>4.080446</td>\n",
       "    </tr>\n",
       "    <tr>\n",
       "      <th>4</th>\n",
       "      <td>GGAATTACCTTCATCCACATGGTTGAAGCTGGCTGG</td>\n",
       "      <td>4.126748</td>\n",
       "    </tr>\n",
       "    <tr>\n",
       "      <th>...</th>\n",
       "      <td>...</td>\n",
       "      <td>...</td>\n",
       "    </tr>\n",
       "    <tr>\n",
       "      <th>8563</th>\n",
       "      <td>AGCAAAGCTGGCCCCCACGTTGTCCTTCCGCAGAAC</td>\n",
       "      <td>4.010130</td>\n",
       "    </tr>\n",
       "    <tr>\n",
       "      <th>8564</th>\n",
       "      <td>GGGACCCTGCCTTCCCGCGTGGCCGCACCGAGACGA</td>\n",
       "      <td>4.036789</td>\n",
       "    </tr>\n",
       "    <tr>\n",
       "      <th>8565</th>\n",
       "      <td>AGAAGAACCCGGGCGCACGTGGCCGACTCCAGGCTG</td>\n",
       "      <td>4.418053</td>\n",
       "    </tr>\n",
       "    <tr>\n",
       "      <th>8566</th>\n",
       "      <td>GGGGCCCGGGTGGGGCATGTGGGGACAACGCCTGGA</td>\n",
       "      <td>3.939968</td>\n",
       "    </tr>\n",
       "    <tr>\n",
       "      <th>8567</th>\n",
       "      <td>AAGCAAACCCCCCAACACGTGTTTCCTAGTTGGGAA</td>\n",
       "      <td>4.511081</td>\n",
       "    </tr>\n",
       "  </tbody>\n",
       "</table>\n",
       "<p>8568 rows × 2 columns</p>\n",
       "</div>"
      ],
      "text/plain": [
       "                          binding sequence  binding affinity\n",
       "0     GAAGCCCTGGCGGGGCGCGTGCCCGCCGCCGCCGCC          3.737829\n",
       "1     TCCCGGGGCTAGAGGCATGTGGACTCAGGAGGATGA          3.895754\n",
       "2     GGCGCTGCCGGACTGCGCGTGGAGTGGCGCGCTGCT          3.797545\n",
       "3     GCAGCTCGCCCGGGCCACGCGGTGCCGGCCCTCGGC          4.080446\n",
       "4     GGAATTACCTTCATCCACATGGTTGAAGCTGGCTGG          4.126748\n",
       "...                                    ...               ...\n",
       "8563  AGCAAAGCTGGCCCCCACGTTGTCCTTCCGCAGAAC          4.010130\n",
       "8564  GGGACCCTGCCTTCCCGCGTGGCCGCACCGAGACGA          4.036789\n",
       "8565  AGAAGAACCCGGGCGCACGTGGCCGACTCCAGGCTG          4.418053\n",
       "8566  GGGGCCCGGGTGGGGCATGTGGGGACAACGCCTGGA          3.939968\n",
       "8567  AAGCAAACCCCCCAACACGTGTTTCCTAGTTGGGAA          4.511081\n",
       "\n",
       "[8568 rows x 2 columns]"
      ]
     },
     "execution_count": 3,
     "metadata": {},
     "output_type": "execute_result"
    }
   ],
   "source": [
    "max_df = pd.read_table('Max.txt', delimiter = '\\t', header = None, names = ['binding sequence', 'binding affinity'])\n",
    "max_df"
   ]
  },
  {
   "cell_type": "markdown",
   "id": "aa133cee-c04c-4a88-a4ed-9e12c6145237",
   "metadata": {},
   "source": [
    "The TF Max dataset contains 8568 sequences."
   ]
  },
  {
   "cell_type": "code",
   "execution_count": null,
   "id": "05d00e89-7435-405d-a07e-a20bb6868dda",
   "metadata": {},
   "outputs": [],
   "source": [
    "myc_df = pd.read_table('Myc.txt', delimiter = '\\t', header = None, names = ['binding sequence', 'binding affinity'])\n",
    "myc_df"
   ]
  },
  {
   "cell_type": "markdown",
   "id": "b495dc09-5c11-4019-b80d-a0bb7af0d48d",
   "metadata": {},
   "source": [
    "The TF Myc dataset contains 6926 sequences."
   ]
  },
  {
   "cell_type": "markdown",
   "id": "e53bb71d-0eea-419a-83f5-95ef9040260c",
   "metadata": {},
   "source": [
    "Write a function to convert DNA sequences into a one-hot encoding format. This should be done\n",
    "for both mononucleotide (1mer) and dinucleotide (2mer) formats. Use the following mappings:\n",
    "a. For 1mer: A: 1000, C: 0100, G: 0010, T: 0001\n",
    "b. For 2mer: AA: 1000000000000000, AC: 0100000000000000, AG: 0010000000000000,\n",
    "AT: 0001000000000000, …, TT: 0000000000000001\n",
    "For instance, given the input sequence 'AAC', the output should be '100010000100' in 1mer\n",
    "encoding. In 2mer encoding, the output should be '10000000000000000100000000000000'.\n",
    "[2pt]"
   ]
  },
  {
   "cell_type": "code",
   "execution_count": 5,
   "id": "c1816184-fb0c-4e75-8a0c-7eef07f25311",
   "metadata": {},
   "outputs": [
    {
     "name": "stdout",
     "output_type": "stream",
     "text": [
      "[1, 0, 0, 0, 1, 0, 0, 0, 0, 1, 0, 0]\n"
     ]
    }
   ],
   "source": [
    "def one_hot_encode_1mer(seq):\n",
    "    temp = list(seq.replace('A', '1000').replace('C', '0100').replace('G', '0010').replace('T','0001'))\n",
    "    return [int(x) for x in temp]\n",
    "print(one_hot_encode_1mer('AAC'))"
   ]
  },
  {
   "cell_type": "code",
   "execution_count": 6,
   "id": "c4e72de3-e34f-467b-9912-46976291a600",
   "metadata": {},
   "outputs": [
    {
     "name": "stdout",
     "output_type": "stream",
     "text": [
      "[1, 0, 0, 0, 0, 0, 0, 0, 0, 0, 0, 0, 0, 0, 0, 0, 0, 1, 0, 0, 0, 0, 0, 0, 0, 0, 0, 0, 0, 0, 0, 0]\n"
     ]
    }
   ],
   "source": [
    "def one_hot_encode_2mer(seq):\n",
    "    str = ''\n",
    "    for i in range(len(seq)-1):\n",
    "        str += seq[i:i+2].replace('AA', '1000000000000000').replace('AC', '0100000000000000').replace('AG', '0010000000000000').replace('AT', '0001000000000000').replace('CA', '0000100000000000').replace('CC', '0000010000000000').replace('CG', '0000001000000000').replace('CT', '0000000100000000').replace('GA', '0000000010000000').replace('GC', '0000000001000000').replace('GG', '0000000000100000').replace('GT', '0000000000010000').replace('TA', '0000000000001000').replace('TC', '0000000000000100').replace('TG', '0000000000000010').replace('TT', '0000000000000001')\n",
    "    return [int(x) for x in list(str)]\n",
    "print(one_hot_encode_2mer('AAC'))"
   ]
  },
  {
   "cell_type": "markdown",
   "id": "75b06e74-f112-48fe-943c-7e1980c41cd6",
   "metadata": {},
   "source": [
    "Normalize the binding affinity values, which is located in the second column, using the min-max\n",
    "normalization method. Min-max normalization will scale the binding affinity values to a range\n",
    "between 0 and 1, based on the minimum and maximum values in the data. [1pt]"
   ]
  },
  {
   "cell_type": "code",
   "execution_count": 7,
   "id": "866182d6-8759-4778-b570-c1ad99a12dd6",
   "metadata": {
    "scrolled": true
   },
   "outputs": [
    {
     "data": {
      "text/html": [
       "<div>\n",
       "<style scoped>\n",
       "    .dataframe tbody tr th:only-of-type {\n",
       "        vertical-align: middle;\n",
       "    }\n",
       "\n",
       "    .dataframe tbody tr th {\n",
       "        vertical-align: top;\n",
       "    }\n",
       "\n",
       "    .dataframe thead th {\n",
       "        text-align: right;\n",
       "    }\n",
       "</style>\n",
       "<table border=\"1\" class=\"dataframe\">\n",
       "  <thead>\n",
       "    <tr style=\"text-align: right;\">\n",
       "      <th></th>\n",
       "      <th>binding sequence</th>\n",
       "      <th>binding affinity</th>\n",
       "    </tr>\n",
       "  </thead>\n",
       "  <tbody>\n",
       "    <tr>\n",
       "      <th>0</th>\n",
       "      <td>ACCGACCGGCGCGGGCACGAGGCAATGGCGGCCGGG</td>\n",
       "      <td>0.174288</td>\n",
       "    </tr>\n",
       "    <tr>\n",
       "      <th>1</th>\n",
       "      <td>AACAGCGCCACCGGCCTCGTGCACTTCTTCCACTGT</td>\n",
       "      <td>0.217422</td>\n",
       "    </tr>\n",
       "    <tr>\n",
       "      <th>2</th>\n",
       "      <td>GCGGCCGGTCTGCACCATGCTGCGAACGTCCGTCCT</td>\n",
       "      <td>0.133137</td>\n",
       "    </tr>\n",
       "    <tr>\n",
       "      <th>3</th>\n",
       "      <td>TTATTGAGCCCCTACCATGTGCCAGGCCCTGGGCTA</td>\n",
       "      <td>0.311328</td>\n",
       "    </tr>\n",
       "    <tr>\n",
       "      <th>4</th>\n",
       "      <td>CCCCTCAGCTGCTTCCTCGTGGCGCTGATCATCTGG</td>\n",
       "      <td>0.319377</td>\n",
       "    </tr>\n",
       "    <tr>\n",
       "      <th>...</th>\n",
       "      <td>...</td>\n",
       "      <td>...</td>\n",
       "    </tr>\n",
       "    <tr>\n",
       "      <th>6921</th>\n",
       "      <td>GCCCCCTGCGGGAGCCGCGTGGACCGCCCCGGTGGC</td>\n",
       "      <td>0.389523</td>\n",
       "    </tr>\n",
       "    <tr>\n",
       "      <th>6922</th>\n",
       "      <td>GGACGTCTCAAAACACACGTGTGACTTAGATGGTAA</td>\n",
       "      <td>0.520336</td>\n",
       "    </tr>\n",
       "    <tr>\n",
       "      <th>6923</th>\n",
       "      <td>TCTGCCCAGTCCCTCCACATGGGAAATATAGCACTG</td>\n",
       "      <td>0.294541</td>\n",
       "    </tr>\n",
       "    <tr>\n",
       "      <th>6924</th>\n",
       "      <td>AGGACTACAAGTTCCAGCGTGCTTTGCTCGATTTCG</td>\n",
       "      <td>0.058199</td>\n",
       "    </tr>\n",
       "    <tr>\n",
       "      <th>6925</th>\n",
       "      <td>CGGGAGGGGCGGGGCCACGCTGCGGGCCCGGGCCAT</td>\n",
       "      <td>0.249490</td>\n",
       "    </tr>\n",
       "  </tbody>\n",
       "</table>\n",
       "<p>6926 rows × 2 columns</p>\n",
       "</div>"
      ],
      "text/plain": [
       "                          binding sequence  binding affinity\n",
       "0     ACCGACCGGCGCGGGCACGAGGCAATGGCGGCCGGG          0.174288\n",
       "1     AACAGCGCCACCGGCCTCGTGCACTTCTTCCACTGT          0.217422\n",
       "2     GCGGCCGGTCTGCACCATGCTGCGAACGTCCGTCCT          0.133137\n",
       "3     TTATTGAGCCCCTACCATGTGCCAGGCCCTGGGCTA          0.311328\n",
       "4     CCCCTCAGCTGCTTCCTCGTGGCGCTGATCATCTGG          0.319377\n",
       "...                                    ...               ...\n",
       "6921  GCCCCCTGCGGGAGCCGCGTGGACCGCCCCGGTGGC          0.389523\n",
       "6922  GGACGTCTCAAAACACACGTGTGACTTAGATGGTAA          0.520336\n",
       "6923  TCTGCCCAGTCCCTCCACATGGGAAATATAGCACTG          0.294541\n",
       "6924  AGGACTACAAGTTCCAGCGTGCTTTGCTCGATTTCG          0.058199\n",
       "6925  CGGGAGGGGCGGGGCCACGCTGCGGGCCCGGGCCAT          0.249490\n",
       "\n",
       "[6926 rows x 2 columns]"
      ]
     },
     "execution_count": 7,
     "metadata": {},
     "output_type": "execute_result"
    }
   ],
   "source": [
    "def normalize_binding(df):\n",
    "    min_val = min(df['binding affinity'])\n",
    "    max_val = max(df['binding affinity'])\n",
    "    df['binding affinity'] = df['binding affinity'].apply(lambda x: (x - min_val)/(max_val - min_val))\n",
    "    return df\n",
    "\n",
    "normalize_binding(mad_df)\n",
    "normalize_binding(max_df)\n",
    "normalize_binding(myc_df)"
   ]
  },
  {
   "cell_type": "markdown",
   "id": "1175bf18-86bb-4d16-8f98-9e3ae88cda86",
   "metadata": {},
   "source": [
    "(Cross-validation) Use 10-fold cross validation to train these two models. [1pt]"
   ]
  },
  {
   "cell_type": "markdown",
   "id": "bed7ad4c-6b81-45a8-9633-8459d8237b99",
   "metadata": {},
   "source": [
    "(Regularization) Based on the characteristics of the data and the nature of the task, choose an\n",
    "appropriate type of regularization (L1, L2, or Elastic Net). Justify your choice with a brief\n",
    "explanation. Additionally, describe your strategy to find the optimal lambda value, which is the\n",
    "regularization parameter that determines the strength of the penalty. Note that you are not\n",
    "required to write code for this part; instead, focus on explaining the methodology you plan to\n",
    "use. [1.5pt]"
   ]
  },
  {
   "cell_type": "markdown",
   "id": "046317f9-3bd2-43ce-8ecc-213fcceb64e4",
   "metadata": {},
   "source": [
    "**Elastic net regularization may be appropriate for this task because there is some multicollinearity in the features extracted by the model but there are still numerous relevant features, each of which has a small but non-zero weight. Therefore, we would not want to eliminate many features in favor of a few features like in L1 regularization. We also would not like to include as many features as possible (as in L2 regularization) because there are some features that are collinear and which measure similar properties. For instance, if the model is able to learn that sequences of alternating A and T have higher binding affinity scores, then we could capture that in a few features. We wouldn't need a feature that scans for \"ATATATAT\" and another feature that scans for \"ATATATATAT\", and even more features for even longer AT repeats. Therefore, we would want to prune those collinear features using Elastic Net regularization to zero their weights.**\n",
    "\n",
    "**Given that we will use Elastic Net, we can obtain an optimal labmda parameter value via many approaches which fall under the umbrella of hyperparameter optimization. One simple approach is that we can conduct gradient descent with respect to lambda in order to minimize the loss function. Alternatively, we can do a random search by sampling random values in the hyperparameter space. However, cursory online research shows that common practice is to do grid search, which is similar to randoms search but the search space is bounded by user-selected range values. Therefore, we are instructing the algorithm to search within a range of reasonable values and find the set of values which minimize/maximize some loss or performance metric. In this case, I would opt for grid search because it achieves relatively optimal lambda values while also being quick and computationally efficient.**"
   ]
  },
  {
   "cell_type": "code",
   "execution_count": null,
   "id": "4bac3c51-eea8-4d9d-b17e-924963e643c4",
   "metadata": {},
   "outputs": [],
   "source": [
    "import numpy as np\n",
    "from sklearn.preprocessing import MinMaxScaler\n",
    "from sklearn.model_selection import KFold\n",
    "from sklearn.linear_model import LinearRegression, Lasso, Ridge, ElasticNet\n",
    "from sklearn.metrics import mean_squared_error"
   ]
  },
  {
   "cell_type": "code",
   "execution_count": 8,
   "id": "5ababbb9-6e6a-4f63-b594-40dc87504b6f",
   "metadata": {},
   "outputs": [],
   "source": [
    "max_sequences = max_df['binding sequence'].tolist()\n",
    "max_values = max_df['binding affinity'].tolist()\n",
    "\n",
    "# One-hot encode the sequences\n",
    "max_X = np.array([one_hot_encode_1mer(seq) for seq in max_sequences])\n",
    "max_y = np.array(max_df['binding affinity'])\n",
    "\n",
    "max_cv = KFold(n_splits=10, shuffle=True, random_state=1)"
   ]
  },
  {
   "cell_type": "code",
   "execution_count": 9,
   "id": "f7a06b0c-4545-48df-8b43-27922b41d293",
   "metadata": {},
   "outputs": [
    {
     "name": "stdout",
     "output_type": "stream",
     "text": [
      "TRIAL FOR MAX TF 1-MER: Average MSE: 0.006311913071929501 Average r_squared: 0.78088946154413\n"
     ]
    }
   ],
   "source": [
    "# results\n",
    "mse_scores = []; r_squared_scores = []\n",
    "\n",
    "# Initialize Linear Regression model\n",
    "#model = LinearRegression()\n",
    "#model = Lasso(alpha=0.001)\n",
    "#model = Ridge(alpha=0.001)\n",
    "model = ElasticNet(alpha=0.001, l1_ratio=0.5)\n",
    "\n",
    "# Loop over each fold\n",
    "for train_index, valid_index in max_cv.split(max_X):\n",
    "    # Split data\n",
    "    X_train, X_valid = max_X[train_index], max_X[valid_index]\n",
    "    y_train, y_valid = max_y[train_index], max_y[valid_index]\n",
    "\n",
    "    # Fit the model\n",
    "    model.fit(X_train, y_train)\n",
    "    \n",
    "    # Predict on valid set\n",
    "    predictions = model.predict(X_valid)\n",
    "    \n",
    "    # Evaluate the model\n",
    "    mse = mean_squared_error(y_valid, predictions)\n",
    "    mse_scores.append(mse)\n",
    "    \n",
    "    r_squared = model.score(X_valid, y_valid)\n",
    "    r_squared_scores.append(r_squared)\n",
    "    \n",
    "average_mse = np.mean(mse_scores)\n",
    "average_r_squared = np.mean(r_squared_scores)\n",
    "\n",
    "print(f'TRIAL FOR MAX TF 1-MER: Average MSE: {average_mse} Average r_squared: {average_r_squared}')"
   ]
  },
  {
   "cell_type": "code",
   "execution_count": 10,
   "id": "65836784-80c9-4db0-93d6-745404f5c02b",
   "metadata": {},
   "outputs": [],
   "source": [
    "max_sequences = max_df['binding sequence'].tolist()\n",
    "max_values = max_df['binding affinity'].tolist()\n",
    "\n",
    "# One-hot encode the sequences\n",
    "max_X = np.array([one_hot_encode_2mer(seq) for seq in max_sequences])\n",
    "max_y = np.array(max_df['binding affinity'])\n",
    "\n",
    "max_cv = KFold(n_splits=10, shuffle=True, random_state=1)"
   ]
  },
  {
   "cell_type": "code",
   "execution_count": 11,
   "id": "140eb493-51d0-4964-8588-ae51577d6cf6",
   "metadata": {},
   "outputs": [
    {
     "name": "stdout",
     "output_type": "stream",
     "text": [
      "TRIAL FOR MAX TF 2-MER: Average MSE: 0.004261243948972678 Average r_squared: 0.8520113133526607\n"
     ]
    }
   ],
   "source": [
    "# results\n",
    "mse_scores = []; r_squared_scores = []\n",
    "\n",
    "# Initialize Linear Regression model\n",
    "#model = LinearRegression()\n",
    "#model = Lasso(alpha=0.001)\n",
    "#model = Ridge(alpha=0.001)\n",
    "model = ElasticNet(alpha=0.001, l1_ratio=0.5)\n",
    "\n",
    "# Loop over each fold\n",
    "for train_index, valid_index in max_cv.split(max_X):\n",
    "    # Split data\n",
    "    X_train, X_valid = max_X[train_index], max_X[valid_index]\n",
    "    y_train, y_valid = max_y[train_index], max_y[valid_index]\n",
    "\n",
    "    # Fit the model\n",
    "    model.fit(X_train, y_train)\n",
    "    \n",
    "    # Predict on valid set\n",
    "    predictions = model.predict(X_valid)\n",
    "    \n",
    "    # Evaluate the model\n",
    "    mse = mean_squared_error(y_valid, predictions)\n",
    "    mse_scores.append(mse)\n",
    "    \n",
    "    r_squared = model.score(X_valid, y_valid)\n",
    "    r_squared_scores.append(r_squared)\n",
    "    \n",
    "average_mse = np.mean(mse_scores)\n",
    "average_r_squared = np.mean(r_squared_scores)\n",
    "\n",
    "print(f'TRIAL FOR MAX TF 2-MER: Average MSE: {average_mse} Average r_squared: {average_r_squared}')"
   ]
  },
  {
   "cell_type": "code",
   "execution_count": 12,
   "id": "49b79f16-ff18-435c-9e37-b63fbf56c5a3",
   "metadata": {},
   "outputs": [],
   "source": [
    "mad_sequences = mad_df['binding sequence'].tolist()\n",
    "mad_values = mad_df['binding affinity'].tolist()\n",
    "\n",
    "# One-hot encode the sequences\n",
    "mad_X = np.array([one_hot_encode_1mer(seq) for seq in mad_sequences])\n",
    "mad_y = np.array(mad_df['binding affinity'])\n",
    "\n",
    "mad_cv = KFold(n_splits=10, shuffle=True, random_state=1)"
   ]
  },
  {
   "cell_type": "code",
   "execution_count": 13,
   "id": "2b069f34-451b-4ee3-bbfe-03a3e6c82dd0",
   "metadata": {},
   "outputs": [
    {
     "name": "stdout",
     "output_type": "stream",
     "text": [
      "TRIAL FOR MAD TF 1-MER: Average MSE: 0.010255679123879247 Average r_squared: 0.7711734757652452\n"
     ]
    }
   ],
   "source": [
    "# results\n",
    "mse_scores = []; r_squared_scores = []\n",
    "\n",
    "# Initialize Linear Regression model\n",
    "#model = LinearRegression()\n",
    "#model = Lasso(alpha=0.001)\n",
    "#model = Ridge(alpha=0.001)\n",
    "model = ElasticNet(alpha=0.001, l1_ratio=0.5)\n",
    "\n",
    "# Loop over each fold\n",
    "for train_index, valid_index in max_cv.split(mad_X):\n",
    "    # Split data\n",
    "    X_train, X_valid = mad_X[train_index], mad_X[valid_index]\n",
    "    y_train, y_valid = mad_y[train_index], mad_y[valid_index]\n",
    "\n",
    "    # Fit the model\n",
    "    model.fit(X_train, y_train)\n",
    "    \n",
    "    # Predict on valid set\n",
    "    predictions = model.predict(X_valid)\n",
    "    \n",
    "    # Evaluate the model\n",
    "    mse = mean_squared_error(y_valid, predictions)\n",
    "    mse_scores.append(mse)\n",
    "    \n",
    "    r_squared = model.score(X_valid, y_valid)\n",
    "    r_squared_scores.append(r_squared)\n",
    "    \n",
    "average_mse = np.mean(mse_scores)\n",
    "average_r_squared = np.mean(r_squared_scores)\n",
    "\n",
    "print(f'TRIAL FOR MAD TF 1-MER: Average MSE: {average_mse} Average r_squared: {average_r_squared}')"
   ]
  },
  {
   "cell_type": "code",
   "execution_count": 14,
   "id": "65ca9d10-f2cd-4616-b4c9-6d56413f030d",
   "metadata": {},
   "outputs": [],
   "source": [
    "mad_sequences = mad_df['binding sequence'].tolist()\n",
    "mad_values = mad_df['binding affinity'].tolist()\n",
    "\n",
    "# One-hot encode the sequences\n",
    "mad_X = np.array([one_hot_encode_2mer(seq) for seq in mad_sequences])\n",
    "mad_y = np.array(mad_df['binding affinity'])\n",
    "\n",
    "mad_cv = KFold(n_splits=10, shuffle=True, random_state=1)"
   ]
  },
  {
   "cell_type": "code",
   "execution_count": 15,
   "id": "36a04baa-f7d8-4388-ae7f-029b7ff484a6",
   "metadata": {},
   "outputs": [
    {
     "name": "stdout",
     "output_type": "stream",
     "text": [
      "TRIAL FOR MAD TF 2-MER: Average MSE: 0.0067631008309956735 Average r_squared: 0.8491122657585828\n"
     ]
    }
   ],
   "source": [
    "# results\n",
    "mse_scores = []; r_squared_scores = []\n",
    "\n",
    "# Initialize Linear Regression model\n",
    "#model = LinearRegression()\n",
    "#model = Lasso(alpha=0.001)\n",
    "#model = Ridge(alpha=0.001)\n",
    "model = ElasticNet(alpha=0.001, l1_ratio=0.5)\n",
    "\n",
    "# Loop over each fold\n",
    "for train_index, valid_index in max_cv.split(mad_X):\n",
    "    # Split data\n",
    "    X_train, X_valid = mad_X[train_index], mad_X[valid_index]\n",
    "    y_train, y_valid = mad_y[train_index], mad_y[valid_index]\n",
    "\n",
    "    # Fit the model\n",
    "    model.fit(X_train, y_train)\n",
    "    \n",
    "    # Predict on valid set\n",
    "    predictions = model.predict(X_valid)\n",
    "    \n",
    "    # Evaluate the model\n",
    "    mse = mean_squared_error(y_valid, predictions)\n",
    "    mse_scores.append(mse)\n",
    "    \n",
    "    r_squared = model.score(X_valid, y_valid)\n",
    "    r_squared_scores.append(r_squared)\n",
    "    \n",
    "average_mse = np.mean(mse_scores)\n",
    "average_r_squared = np.mean(r_squared_scores)\n",
    "\n",
    "print(f'TRIAL FOR MAD TF 2-MER: Average MSE: {average_mse} Average r_squared: {average_r_squared}')"
   ]
  },
  {
   "cell_type": "code",
   "execution_count": 16,
   "id": "c6668e05-262d-4d17-a331-83b36ec22c4a",
   "metadata": {},
   "outputs": [],
   "source": [
    "myc_sequences = myc_df['binding sequence'].tolist()\n",
    "myc_values = myc_df['binding affinity'].tolist()\n",
    "\n",
    "# One-hot encode the sequences\n",
    "myc_X = np.array([one_hot_encode_1mer(seq) for seq in myc_sequences])\n",
    "myc_y = np.array(myc_df['binding affinity'])\n",
    "\n",
    "myc_cv = KFold(n_splits=10, shuffle=True, random_state=1)"
   ]
  },
  {
   "cell_type": "code",
   "execution_count": 17,
   "id": "8a1eee63-d052-4df1-b336-fe9b5feb3a19",
   "metadata": {},
   "outputs": [
    {
     "name": "stdout",
     "output_type": "stream",
     "text": [
      "TRIAL FOR MYC TF 1-MER: Average MSE: 0.00809276745611917 Average r_squared: 0.7750679380615456\n"
     ]
    }
   ],
   "source": [
    "# results\n",
    "mse_scores = []; r_squared_scores = []\n",
    "\n",
    "# Initialize Linear Regression model\n",
    "#model = LinearRegression()\n",
    "#model = Lasso(alpha=0.001)\n",
    "#model = Ridge(alpha=0.001)\n",
    "model = ElasticNet(alpha=0.001, l1_ratio=0.5)\n",
    "\n",
    "# Loop over each fold\n",
    "for train_index, valid_index in max_cv.split(myc_X):\n",
    "    # Split data\n",
    "    X_train, X_valid = myc_X[train_index], myc_X[valid_index]\n",
    "    y_train, y_valid = myc_y[train_index], myc_y[valid_index]\n",
    "\n",
    "    # Fit the model\n",
    "    model.fit(X_train, y_train)\n",
    "    \n",
    "    # Predict on valid set\n",
    "    predictions = model.predict(X_valid)\n",
    "    \n",
    "    # Evaluate the model\n",
    "    mse = mean_squared_error(y_valid, predictions)\n",
    "    mse_scores.append(mse)\n",
    "    \n",
    "    r_squared = model.score(X_valid, y_valid)\n",
    "    r_squared_scores.append(r_squared)\n",
    "    \n",
    "average_mse = np.mean(mse_scores)\n",
    "average_r_squared = np.mean(r_squared_scores)\n",
    "\n",
    "print(f'TRIAL FOR MYC TF 1-MER: Average MSE: {average_mse} Average r_squared: {average_r_squared}')"
   ]
  },
  {
   "cell_type": "code",
   "execution_count": 18,
   "id": "f214baf6-8d5c-42f0-8b43-c2af8ddb70aa",
   "metadata": {},
   "outputs": [],
   "source": [
    "myc_sequences = myc_df['binding sequence'].tolist()\n",
    "myc_values = myc_df['binding affinity'].tolist()\n",
    "\n",
    "# One-hot encode the sequences\n",
    "myc_X = np.array([one_hot_encode_2mer(seq) for seq in myc_sequences])\n",
    "myc_y = np.array(myc_df['binding affinity'])\n",
    "\n",
    "myc_cv = KFold(n_splits=10, shuffle=True, random_state=1)"
   ]
  },
  {
   "cell_type": "code",
   "execution_count": 19,
   "id": "51ca89c5-932b-4648-ba99-a0b4e03d2cf7",
   "metadata": {},
   "outputs": [
    {
     "name": "stdout",
     "output_type": "stream",
     "text": [
      "TRIAL FOR MYC TF 2-MER: Average MSE: 0.006143310409632919 Average r_squared: 0.829227326422146\n"
     ]
    }
   ],
   "source": [
    "# results\n",
    "mse_scores = []; r_squared_scores = []\n",
    "\n",
    "# Initialize Linear Regression model\n",
    "#model = LinearRegression()\n",
    "#model = Lasso(alpha=0.001)\n",
    "#model = Ridge(alpha=0.001)\n",
    "model = ElasticNet(alpha=0.001, l1_ratio=0.5)\n",
    "\n",
    "# Loop over each fold\n",
    "for train_index, valid_index in max_cv.split(myc_X):\n",
    "    # Split data\n",
    "    X_train, X_valid = myc_X[train_index], myc_X[valid_index]\n",
    "    y_train, y_valid = myc_y[train_index], myc_y[valid_index]\n",
    "\n",
    "    # Fit the model\n",
    "    model.fit(X_train, y_train)\n",
    "    \n",
    "    # Predict on valid set\n",
    "    predictions = model.predict(X_valid)\n",
    "    \n",
    "    # Evaluate the model\n",
    "    mse = mean_squared_error(y_valid, predictions)\n",
    "    mse_scores.append(mse)\n",
    "    \n",
    "    r_squared = model.score(X_valid, y_valid)\n",
    "    r_squared_scores.append(r_squared)\n",
    "    \n",
    "average_mse = np.mean(mse_scores)\n",
    "average_r_squared = np.mean(r_squared_scores)\n",
    "\n",
    "print(f'TRIAL FOR MYC TF 2-MER: Average MSE: {average_mse} Average r_squared: {average_r_squared}')"
   ]
  },
  {
   "cell_type": "markdown",
   "id": "fbe5efd8-c6b8-41b3-8c37-5fd437fe4c24",
   "metadata": {},
   "source": [
    "Train your two models: one using the 1mer feature and the other using the 2mer feature. After\n",
    "training, compare the model’s performance by evaluating their Mean Squared Error (MSE) and\n",
    "R-squared values. Provide an explanation of your findings. [2pt]"
   ]
  },
  {
   "cell_type": "markdown",
   "id": "dff2868a-d5db-4a1f-9b58-10e4b7ca2298",
   "metadata": {},
   "source": [
    "**Summarizing our performance metrics for all of the models we created:**\n",
    "\n",
    "|           | Mean squared error    | R-squared          |\n",
    "|-----------|-----------------------|--------------------|\n",
    "| Max 1-mer | 0.006311913071929501  | 0.78088946154413   |\n",
    "| Max 2-mer | 0.004261243948972678  | 0.8520113133526607 |\n",
    "| Mad 1-mer | 0.010255679123879247  | 0.7711734757652452 |\n",
    "| Mad 2-mer | 0.0067631008309956735 | 0.8491122657585828 |\n",
    "| Myc 1-mer | 0.00809276745611917   | 0.7750679380615456 |\n",
    "| Myc 2-mer | 0.006143310409632919  | 0.829227326422146  |\n",
    "\n",
    "**A general trend we can observe is that the 2-mer approach to one-hot encoding consistently yields enhanced performance across all of the transcription factors which we evaluated. We know that the performance is better because we see lower mean squared error and higher r-squared values for each of the 2-mer models when compared to their 1-mer counterparts. A possible explanation for why the 2-mer models may fare better is that it may be more appropriate to represent the DNA sequences in chunks of multiple nucleotides because transcription factors look for biophysical (i.e. electrostatic) signatures when binding. A protein that binds to DNA does not necessarily solely focus on the sequence of the nucleotides one-by-one, but rather it looks for an ideal pocket of a specific electronegativity, geometry, hydrophobicity, and other biophysical factors. The biophysical features only emerge when we have a system of multiple interacting nucleotides which are close to each other. Therefore, we can only appreciate these features when we break up the sequence into segments of k-mers (where k >= 2). Therefore, a one-hot encoding approach which represents the sequence in 2-mers helps represent the problem at hand in a more appropriate fashion.**\n",
    "\n",
    "**We observe similar performance across the three transcription factors, meaning that our models are able to relevant and generalizable features of protein binding while not overfitting to just one type/class of protein. Our pipeline can be improved via hyperparameter optimization (mentioned earlier) to find an optimal learning rate (eta) and lambda value. We can also obtain richer HT-SELEX and PBM datasets with a broader class of binding proteins. We could explore more approaches to one-hot encoding as well; perhaps scanning across the sequence for 3-mers, 4-mers, or larger k-mers could be better for extracting biophysical signatures from DNA.**"
   ]
  }
 ],
 "metadata": {
  "kernelspec": {
   "display_name": "Python 3 (ipykernel)",
   "language": "python",
   "name": "python3"
  },
  "language_info": {
   "codemirror_mode": {
    "name": "ipython",
    "version": 3
   },
   "file_extension": ".py",
   "mimetype": "text/x-python",
   "name": "python",
   "nbconvert_exporter": "python",
   "pygments_lexer": "ipython3",
   "version": "3.11.6"
  }
 },
 "nbformat": 4,
 "nbformat_minor": 5
}
