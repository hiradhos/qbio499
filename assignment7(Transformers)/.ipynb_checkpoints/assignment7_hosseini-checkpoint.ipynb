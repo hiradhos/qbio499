{
 "cells": [
  {
   "cell_type": "markdown",
   "id": "137bea8a-8ae4-4692-874a-dcc6fa8f7073",
   "metadata": {},
   "source": [
    "Transformers and attention mechanisms have significantly advanced deep learning by enabling the\n",
    "parallel processing of sequences, which is particularly advantageous for analyzing complex datasets like\n",
    "single-cell RNA sequencing (scRNA-seq). Their ability to process all parts of a sequence simultaneously,\n",
    "rather than sequentially, allows for more effective capture of temporal dynamics and relationships within\n",
    "scRNA-seq data. In this assignment, you'll develop an Attention-based model for scRNA-seq analysis,\n",
    "refine it through hyperparameter tuning, and compare its capabilities to a traditional LSTM model,\n",
    "exploring the practical benefits of attention mechanisms in biological data analysis."
   ]
  },
  {
   "cell_type": "markdown",
   "id": "2b75e63a-7230-4d29-9641-55e140bebc0c",
   "metadata": {},
   "source": [
    "Create a function to load scRNA-seq data from a file titled ‘gene_expression_data.csv’. This\n",
    "dataset encompasses 1000 samples, detailing time series data across 50 time points for 10\n",
    "distinct genes. The target variable, indicated as ‘Outcome’, is found in the dataset's final column.\n",
    "Utilize the ‘train_test_split’ function to partition the dataset, reserving 20% of the data for\n",
    "validation purposes. [2pt]"
   ]
  },
  {
   "cell_type": "code",
   "execution_count": 1,
   "id": "5820ad7a-39c6-49b9-a589-431bb8e41e1f",
   "metadata": {},
   "outputs": [],
   "source": [
    "import numpy as np\n",
    "import pandas as pd\n",
    "from sklearn.model_selection import train_test_split\n",
    "from tensorflow.keras.optimizers import Adam\n",
    "from tensorflow.keras.models import Model\n",
    "from tensorflow.keras.layers import MultiHeadAttention\n",
    "from tensorflow.keras.layers import Input, Dense, LayerNormalization , Dropout, GlobalAveragePooling1D\n",
    "from tensorflow.keras.regularizers import l2\n",
    "from tensorflow.keras.callbacks import EarlyStopping\n",
    "from tensorflow.keras.metrics import AUC\n",
    "import matplotlib.pyplot as plt"
   ]
  },
  {
   "cell_type": "code",
   "execution_count": 2,
   "id": "37bde9bd-826b-4659-aca9-583a4cc7dea7",
   "metadata": {},
   "outputs": [],
   "source": [
    "# Load the data\n",
    "data = pd.read_csv('gene_expression_data.csv')\n",
    "X = data.iloc[:, data.columns != 'Outcome'].values\n",
    "y = data.iloc[:, data.columns == 'Outcome'].values\n",
    "X = X.reshape(1000, 50, 10)\n",
    "\n",
    "# Split the data\n",
    "X_train, X_test, y_train, y_test = train_test_split(X, y, test_size=0.2)"
   ]
  },
  {
   "cell_type": "markdown",
   "id": "045d0e8b-4691-414e-b14a-14e38315947f",
   "metadata": {},
   "source": [
    "Construct a function to assemble an Attention model, incorporating specified layers with\n",
    "parameters: ‘input_shape’, ‘num_heads’, ‘key_dim’, ‘dropout_rate’, and ‘l2_reg’ where\n",
    "input_shape=(num_time_steps, num_genes). The model should include layers: an\n",
    "‘Input(shape=input_shape)’, a ‘MultiHeadAttention(num_heads, key_dim)’, a\n",
    "‘Dropout(dropout_rate)’, ‘LayerNormalization(epsilon=1e-6)’, ‘GlobalAveragePooling1D’,\n",
    "another ‘Dropout(dropout_rate)’, and a final ‘Dense’ output layer with a sigmoid activation and\n",
    "L2 regularization ‘(kernel_regularizer=l2(l2_reg))’. [3pt]"
   ]
  },
  {
   "cell_type": "code",
   "execution_count": 3,
   "id": "98db00e6-9d04-4467-b25b-36450f4594af",
   "metadata": {},
   "outputs": [],
   "source": [
    "def build_attention_model(input_shape, num_heads=3, key_dim=3, dropout_rate=0.1, l2_reg=0.01):\n",
    "    input = Input(shape=input_shape)\n",
    "    l = MultiHeadAttention(num_heads=num_heads, key_dim=key_dim)(input, input)\n",
    "    l = Dropout(dropout_rate)(l)\n",
    "    l = LayerNormalization(epsilon=1e-6)(l)\n",
    "    l = GlobalAveragePooling1D()(l)\n",
    "    l = Dropout(dropout_rate)(l)\n",
    "    output = Dense(1, activation='sigmoid', kernel_regularizer=l2(l2_reg))(l)\n",
    "    model = Model(input, output)\n",
    "    model.compile(optimizer=Adam(), loss='binary_crossentropy', metrics=['accuracy', AUC()])\n",
    "    return model "
   ]
  },
  {
   "cell_type": "markdown",
   "id": "f66ce05c-f8f4-4650-81a2-337ec8bfe7f7",
   "metadata": {},
   "source": [
    "Provide code to perform hyperparameter optimization with GridSearchCV from sklearn,\n",
    "targeting the parameters: ‘num_heads ( [2, 3])’, ‘key_dim ([5, 10])’, ‘dropout_rate ([0.1, 0.3])’, and\n",
    "‘l2_reg ([0.01, 0.02])’. Configure GridSearchCV to search for the optimal model configuration.\n",
    "After determining the optimal hyperparameters, proceed to train your model using these\n",
    "parameters and monitor the validation loss over epochs, anticipating a downward trend. [3pt]"
   ]
  },
  {
   "cell_type": "code",
   "execution_count": 4,
   "id": "8a193721-0420-4939-85f1-c481826b7c4c",
   "metadata": {
    "scrolled": true
   },
   "outputs": [
    {
     "name": "stdout",
     "output_type": "stream",
     "text": [
      "Requirement already satisfied: scikeras in /Users/hiradh/miniconda3/lib/python3.11/site-packages (0.12.0)\n",
      "Requirement already satisfied: packaging>=0.21 in /Users/hiradh/miniconda3/lib/python3.11/site-packages (from scikeras) (23.1)\n",
      "Requirement already satisfied: scikit-learn>=1.0.0 in /Users/hiradh/miniconda3/lib/python3.11/site-packages (from scikeras) (1.3.2)\n",
      "Requirement already satisfied: tensorflow-metal<2.0.0,>=1.1.0 in /Users/hiradh/miniconda3/lib/python3.11/site-packages (from scikeras) (1.1.0)\n",
      "Requirement already satisfied: numpy<2.0,>=1.17.3 in /Users/hiradh/miniconda3/lib/python3.11/site-packages (from scikit-learn>=1.0.0->scikeras) (1.23.5)\n",
      "Requirement already satisfied: scipy>=1.5.0 in /Users/hiradh/miniconda3/lib/python3.11/site-packages (from scikit-learn>=1.0.0->scikeras) (1.11.4)\n",
      "Requirement already satisfied: joblib>=1.1.1 in /Users/hiradh/miniconda3/lib/python3.11/site-packages (from scikit-learn>=1.0.0->scikeras) (1.3.2)\n",
      "Requirement already satisfied: threadpoolctl>=2.0.0 in /Users/hiradh/miniconda3/lib/python3.11/site-packages (from scikit-learn>=1.0.0->scikeras) (3.2.0)\n",
      "Requirement already satisfied: wheel~=0.35 in /Users/hiradh/miniconda3/lib/python3.11/site-packages (from tensorflow-metal<2.0.0,>=1.1.0->scikeras) (0.41.2)\n",
      "Requirement already satisfied: six>=1.15.0 in /Users/hiradh/miniconda3/lib/python3.11/site-packages (from tensorflow-metal<2.0.0,>=1.1.0->scikeras) (1.16.0)\n"
     ]
    }
   ],
   "source": [
    "!pip install scikeras"
   ]
  },
  {
   "cell_type": "code",
   "execution_count": 5,
   "id": "f04b4cad-c53e-4e88-8569-101fb93ead93",
   "metadata": {},
   "outputs": [],
   "source": [
    "from sklearn.model_selection import GridSearchCV\n",
    "from scikeras.wrappers import KerasClassifier"
   ]
  },
  {
   "cell_type": "code",
   "execution_count": 6,
   "id": "a33c5525-4b38-4b1f-b7db-5adfefa83cfd",
   "metadata": {},
   "outputs": [],
   "source": [
    "param_grid = {\n",
    "    'model__num_heads': [2, 3],\n",
    "    'model__key_dim': [5, 10],\n",
    "    'model__dropout_rate': [0.1, 0.3],\n",
    "    'model__l2_reg': [0.01, 0.02]\n",
    "}\n",
    "\n",
    "model = KerasClassifier(model=build_attention_model, input_shape=(50, 10), epochs=10, verbose=1)"
   ]
  },
  {
   "cell_type": "code",
   "execution_count": 7,
   "id": "b0bafef2-1e30-41a0-b903-baf4402f929f",
   "metadata": {},
   "outputs": [
    {
     "name": "stderr",
     "output_type": "stream",
     "text": [
      "2024-03-27 20:19:33.846009: I metal_plugin/src/device/metal_device.cc:1154] Metal device set to: Apple M1 Max\n",
      "2024-03-27 20:19:33.846032: I metal_plugin/src/device/metal_device.cc:296] systemMemory: 32.00 GB\n",
      "2024-03-27 20:19:33.846044: I metal_plugin/src/device/metal_device.cc:313] maxCacheSize: 10.67 GB\n",
      "2024-03-27 20:19:33.846084: I tensorflow/core/common_runtime/pluggable_device/pluggable_device_factory.cc:306] Could not identify NUMA node of platform GPU ID 0, defaulting to 0. Your kernel may not have been built with NUMA support.\n",
      "2024-03-27 20:19:33.846103: I tensorflow/core/common_runtime/pluggable_device/pluggable_device_factory.cc:272] Created TensorFlow device (/job:localhost/replica:0/task:0/device:GPU:0 with 0 MB memory) -> physical PluggableDevice (device: 0, name: METAL, pci bus id: <undefined>)\n",
      "WARNING:absl:At this time, the v2.11+ optimizer `tf.keras.optimizers.Adam` runs slowly on M1/M2 Macs, please use the legacy Keras optimizer instead, located at `tf.keras.optimizers.legacy.Adam`.\n"
     ]
    },
    {
     "name": "stdout",
     "output_type": "stream",
     "text": [
      "Epoch 1/10\n"
     ]
    },
    {
     "name": "stderr",
     "output_type": "stream",
     "text": [
      "2024-03-27 20:19:34.619284: I tensorflow/core/grappler/optimizers/custom_graph_optimizer_registry.cc:117] Plugin optimizer for device_type GPU is enabled.\n",
      "2024-03-27 20:19:34.663607: E tensorflow/core/grappler/optimizers/meta_optimizer.cc:961] model_pruner failed: INVALID_ARGUMENT: Graph does not contain terminal node Adam/AssignAddVariableOp.\n"
     ]
    },
    {
     "name": "stdout",
     "output_type": "stream",
     "text": [
      "20/20 [==============================] - 1s 23ms/step - loss: 0.6816 - accuracy: 0.6562 - auc: 0.5259\n",
      "Epoch 2/10\n",
      "20/20 [==============================] - 0s 20ms/step - loss: 0.6266 - accuracy: 0.7078 - auc: 0.5652\n",
      "Epoch 3/10\n",
      "20/20 [==============================] - 0s 21ms/step - loss: 0.6103 - accuracy: 0.7063 - auc: 0.5836\n",
      "Epoch 4/10\n",
      "20/20 [==============================] - 0s 21ms/step - loss: 0.6071 - accuracy: 0.6938 - auc: 0.5890\n",
      "Epoch 5/10\n",
      "20/20 [==============================] - 0s 20ms/step - loss: 0.6010 - accuracy: 0.7000 - auc: 0.5937\n",
      "Epoch 6/10\n",
      "20/20 [==============================] - 0s 21ms/step - loss: 0.5936 - accuracy: 0.7047 - auc: 0.6155\n",
      "Epoch 7/10\n",
      "20/20 [==============================] - 0s 21ms/step - loss: 0.5793 - accuracy: 0.7203 - auc: 0.6454\n",
      "Epoch 8/10\n",
      "20/20 [==============================] - 0s 21ms/step - loss: 0.5908 - accuracy: 0.7188 - auc: 0.6109\n",
      "Epoch 9/10\n",
      "20/20 [==============================] - 0s 20ms/step - loss: 0.5799 - accuracy: 0.7063 - auc: 0.6527\n",
      "Epoch 10/10\n",
      "20/20 [==============================] - 0s 20ms/step - loss: 0.5805 - accuracy: 0.7109 - auc: 0.6445\n",
      "5/5 [==============================] - 0s 6ms/step\n"
     ]
    },
    {
     "name": "stderr",
     "output_type": "stream",
     "text": [
      "WARNING:absl:At this time, the v2.11+ optimizer `tf.keras.optimizers.Adam` runs slowly on M1/M2 Macs, please use the legacy Keras optimizer instead, located at `tf.keras.optimizers.legacy.Adam`.\n"
     ]
    },
    {
     "name": "stdout",
     "output_type": "stream",
     "text": [
      "Epoch 1/10\n",
      "20/20 [==============================] - 1s 21ms/step - loss: 0.7135 - accuracy: 0.6391 - auc_1: 0.4511\n",
      "Epoch 2/10\n",
      "20/20 [==============================] - 0s 21ms/step - loss: 0.6426 - accuracy: 0.6953 - auc_1: 0.5093\n",
      "Epoch 3/10\n",
      "20/20 [==============================] - 0s 22ms/step - loss: 0.6115 - accuracy: 0.7063 - auc_1: 0.5881\n",
      "Epoch 4/10\n",
      "20/20 [==============================] - 0s 20ms/step - loss: 0.5997 - accuracy: 0.7203 - auc_1: 0.6128\n",
      "Epoch 5/10\n",
      "20/20 [==============================] - 0s 21ms/step - loss: 0.6039 - accuracy: 0.7000 - auc_1: 0.6055\n",
      "Epoch 6/10\n",
      "20/20 [==============================] - 0s 21ms/step - loss: 0.5981 - accuracy: 0.7250 - auc_1: 0.6150\n",
      "Epoch 7/10\n",
      "20/20 [==============================] - 0s 21ms/step - loss: 0.5891 - accuracy: 0.7188 - auc_1: 0.6432\n",
      "Epoch 8/10\n",
      "20/20 [==============================] - 0s 22ms/step - loss: 0.5874 - accuracy: 0.7312 - auc_1: 0.6359\n",
      "Epoch 9/10\n",
      "20/20 [==============================] - 0s 21ms/step - loss: 0.5818 - accuracy: 0.7219 - auc_1: 0.6557\n",
      "Epoch 10/10\n",
      "20/20 [==============================] - 0s 21ms/step - loss: 0.5996 - accuracy: 0.7063 - auc_1: 0.6170\n",
      "5/5 [==============================] - 0s 7ms/step\n"
     ]
    },
    {
     "name": "stderr",
     "output_type": "stream",
     "text": [
      "WARNING:absl:At this time, the v2.11+ optimizer `tf.keras.optimizers.Adam` runs slowly on M1/M2 Macs, please use the legacy Keras optimizer instead, located at `tf.keras.optimizers.legacy.Adam`.\n"
     ]
    },
    {
     "name": "stdout",
     "output_type": "stream",
     "text": [
      "Epoch 1/10\n",
      "20/20 [==============================] - 1s 24ms/step - loss: 0.7770 - accuracy: 0.6438 - auc_2: 0.5104\n",
      "Epoch 2/10\n",
      "20/20 [==============================] - 0s 22ms/step - loss: 0.6623 - accuracy: 0.6922 - auc_2: 0.5461\n",
      "Epoch 3/10\n",
      "20/20 [==============================] - 0s 21ms/step - loss: 0.6474 - accuracy: 0.6766 - auc_2: 0.5438\n",
      "Epoch 4/10\n",
      "20/20 [==============================] - 0s 21ms/step - loss: 0.6196 - accuracy: 0.7047 - auc_2: 0.5871\n",
      "Epoch 5/10\n",
      "20/20 [==============================] - 0s 21ms/step - loss: 0.6135 - accuracy: 0.7094 - auc_2: 0.5877\n",
      "Epoch 6/10\n",
      "20/20 [==============================] - 0s 21ms/step - loss: 0.6126 - accuracy: 0.7000 - auc_2: 0.6008\n",
      "Epoch 7/10\n",
      "20/20 [==============================] - 0s 23ms/step - loss: 0.6075 - accuracy: 0.7063 - auc_2: 0.6054\n",
      "Epoch 8/10\n",
      "20/20 [==============================] - 0s 20ms/step - loss: 0.6101 - accuracy: 0.7047 - auc_2: 0.5948\n",
      "Epoch 9/10\n",
      "20/20 [==============================] - 1s 33ms/step - loss: 0.5981 - accuracy: 0.7125 - auc_2: 0.6292\n",
      "Epoch 10/10\n",
      "20/20 [==============================] - 0s 22ms/step - loss: 0.6054 - accuracy: 0.7234 - auc_2: 0.6003\n",
      "5/5 [==============================] - 0s 6ms/step\n"
     ]
    },
    {
     "name": "stderr",
     "output_type": "stream",
     "text": [
      "WARNING:absl:At this time, the v2.11+ optimizer `tf.keras.optimizers.Adam` runs slowly on M1/M2 Macs, please use the legacy Keras optimizer instead, located at `tf.keras.optimizers.legacy.Adam`.\n"
     ]
    },
    {
     "name": "stdout",
     "output_type": "stream",
     "text": [
      "Epoch 1/10\n",
      "20/20 [==============================] - 1s 29ms/step - loss: 0.7046 - accuracy: 0.6234 - auc_3: 0.4834\n",
      "Epoch 2/10\n",
      "20/20 [==============================] - 0s 24ms/step - loss: 0.6373 - accuracy: 0.7109 - auc_3: 0.5236\n",
      "Epoch 3/10\n",
      "20/20 [==============================] - 0s 22ms/step - loss: 0.6115 - accuracy: 0.7047 - auc_3: 0.5685\n",
      "Epoch 4/10\n",
      "20/20 [==============================] - 1s 29ms/step - loss: 0.5982 - accuracy: 0.7125 - auc_3: 0.6036\n",
      "Epoch 5/10\n",
      "20/20 [==============================] - 1s 26ms/step - loss: 0.6150 - accuracy: 0.7016 - auc_3: 0.5688\n",
      "Epoch 6/10\n",
      "20/20 [==============================] - 0s 25ms/step - loss: 0.5863 - accuracy: 0.7234 - auc_3: 0.6280\n",
      "Epoch 7/10\n",
      "20/20 [==============================] - 0s 23ms/step - loss: 0.5954 - accuracy: 0.7063 - auc_3: 0.6203\n",
      "Epoch 8/10\n",
      "20/20 [==============================] - 0s 24ms/step - loss: 0.5824 - accuracy: 0.7078 - auc_3: 0.6498\n",
      "Epoch 9/10\n",
      "20/20 [==============================] - 1s 28ms/step - loss: 0.5817 - accuracy: 0.7156 - auc_3: 0.6526\n",
      "Epoch 10/10\n",
      "20/20 [==============================] - 0s 22ms/step - loss: 0.5821 - accuracy: 0.7047 - auc_3: 0.6498\n",
      "5/5 [==============================] - 0s 6ms/step\n"
     ]
    },
    {
     "name": "stderr",
     "output_type": "stream",
     "text": [
      "WARNING:absl:At this time, the v2.11+ optimizer `tf.keras.optimizers.Adam` runs slowly on M1/M2 Macs, please use the legacy Keras optimizer instead, located at `tf.keras.optimizers.legacy.Adam`.\n"
     ]
    },
    {
     "name": "stdout",
     "output_type": "stream",
     "text": [
      "Epoch 1/10\n",
      "20/20 [==============================] - 1s 28ms/step - loss: 0.8931 - accuracy: 0.5938 - auc_4: 0.4195\n",
      "Epoch 2/10\n",
      "20/20 [==============================] - 0s 24ms/step - loss: 0.7440 - accuracy: 0.6766 - auc_4: 0.4359\n",
      "Epoch 3/10\n",
      "20/20 [==============================] - 0s 22ms/step - loss: 0.6699 - accuracy: 0.6953 - auc_4: 0.4594\n",
      "Epoch 4/10\n",
      "20/20 [==============================] - 0s 24ms/step - loss: 0.6318 - accuracy: 0.7172 - auc_4: 0.5070\n",
      "Epoch 5/10\n",
      "20/20 [==============================] - 0s 21ms/step - loss: 0.6142 - accuracy: 0.7047 - auc_4: 0.5659\n",
      "Epoch 6/10\n",
      "20/20 [==============================] - 0s 22ms/step - loss: 0.6039 - accuracy: 0.7172 - auc_4: 0.5816\n",
      "Epoch 7/10\n",
      "20/20 [==============================] - 0s 21ms/step - loss: 0.6092 - accuracy: 0.7188 - auc_4: 0.5671\n",
      "Epoch 8/10\n",
      "20/20 [==============================] - 0s 22ms/step - loss: 0.6087 - accuracy: 0.7188 - auc_4: 0.5653\n",
      "Epoch 9/10\n",
      "20/20 [==============================] - 0s 21ms/step - loss: 0.6004 - accuracy: 0.7094 - auc_4: 0.6013\n",
      "Epoch 10/10\n",
      "20/20 [==============================] - 0s 21ms/step - loss: 0.5983 - accuracy: 0.7172 - auc_4: 0.6064\n",
      "5/5 [==============================] - 0s 7ms/step\n"
     ]
    },
    {
     "name": "stderr",
     "output_type": "stream",
     "text": [
      "WARNING:absl:At this time, the v2.11+ optimizer `tf.keras.optimizers.Adam` runs slowly on M1/M2 Macs, please use the legacy Keras optimizer instead, located at `tf.keras.optimizers.legacy.Adam`.\n"
     ]
    },
    {
     "name": "stdout",
     "output_type": "stream",
     "text": [
      "Epoch 1/10\n",
      "20/20 [==============================] - 1s 26ms/step - loss: 0.7355 - accuracy: 0.6422 - auc_5: 0.5533\n",
      "Epoch 2/10\n",
      "20/20 [==============================] - 0s 21ms/step - loss: 0.6529 - accuracy: 0.6938 - auc_5: 0.5686\n",
      "Epoch 3/10\n",
      "20/20 [==============================] - 0s 21ms/step - loss: 0.6188 - accuracy: 0.6922 - auc_5: 0.6098\n",
      "Epoch 4/10\n",
      "20/20 [==============================] - 0s 21ms/step - loss: 0.6173 - accuracy: 0.6922 - auc_5: 0.6076\n",
      "Epoch 5/10\n",
      "20/20 [==============================] - 0s 22ms/step - loss: 0.6105 - accuracy: 0.6938 - auc_5: 0.6176\n",
      "Epoch 6/10\n",
      "20/20 [==============================] - 0s 22ms/step - loss: 0.6050 - accuracy: 0.7109 - auc_5: 0.6307\n",
      "Epoch 7/10\n",
      "20/20 [==============================] - 0s 22ms/step - loss: 0.6034 - accuracy: 0.7063 - auc_5: 0.6332\n",
      "Epoch 8/10\n",
      "20/20 [==============================] - 0s 22ms/step - loss: 0.6014 - accuracy: 0.6938 - auc_5: 0.6385\n",
      "Epoch 9/10\n",
      "20/20 [==============================] - 0s 22ms/step - loss: 0.6083 - accuracy: 0.7063 - auc_5: 0.6183\n",
      "Epoch 10/10\n",
      "20/20 [==============================] - 0s 22ms/step - loss: 0.5973 - accuracy: 0.7172 - auc_5: 0.6408\n",
      "5/5 [==============================] - 0s 8ms/step\n"
     ]
    },
    {
     "name": "stderr",
     "output_type": "stream",
     "text": [
      "WARNING:absl:At this time, the v2.11+ optimizer `tf.keras.optimizers.Adam` runs slowly on M1/M2 Macs, please use the legacy Keras optimizer instead, located at `tf.keras.optimizers.legacy.Adam`.\n"
     ]
    },
    {
     "name": "stdout",
     "output_type": "stream",
     "text": [
      "Epoch 1/10\n",
      "20/20 [==============================] - 2s 25ms/step - loss: 0.6592 - accuracy: 0.6625 - auc_6: 0.5549\n",
      "Epoch 2/10\n",
      "20/20 [==============================] - 0s 21ms/step - loss: 0.6036 - accuracy: 0.6984 - auc_6: 0.6108\n",
      "Epoch 3/10\n",
      "20/20 [==============================] - 0s 21ms/step - loss: 0.5926 - accuracy: 0.7094 - auc_6: 0.6280\n",
      "Epoch 4/10\n",
      "20/20 [==============================] - 0s 21ms/step - loss: 0.5991 - accuracy: 0.7109 - auc_6: 0.6128\n",
      "Epoch 5/10\n",
      "20/20 [==============================] - 0s 20ms/step - loss: 0.5821 - accuracy: 0.7141 - auc_6: 0.6530\n",
      "Epoch 6/10\n",
      "20/20 [==============================] - 0s 21ms/step - loss: 0.5870 - accuracy: 0.7297 - auc_6: 0.6458\n",
      "Epoch 7/10\n",
      "20/20 [==============================] - 0s 22ms/step - loss: 0.5809 - accuracy: 0.7094 - auc_6: 0.6598\n",
      "Epoch 8/10\n",
      "20/20 [==============================] - 0s 22ms/step - loss: 0.5826 - accuracy: 0.7250 - auc_6: 0.6497\n",
      "Epoch 9/10\n",
      "20/20 [==============================] - 0s 21ms/step - loss: 0.5812 - accuracy: 0.7234 - auc_6: 0.6542\n",
      "Epoch 10/10\n",
      "20/20 [==============================] - 0s 22ms/step - loss: 0.5788 - accuracy: 0.7031 - auc_6: 0.6604\n",
      "5/5 [==============================] - 0s 6ms/step\n"
     ]
    },
    {
     "name": "stderr",
     "output_type": "stream",
     "text": [
      "WARNING:absl:At this time, the v2.11+ optimizer `tf.keras.optimizers.Adam` runs slowly on M1/M2 Macs, please use the legacy Keras optimizer instead, located at `tf.keras.optimizers.legacy.Adam`.\n"
     ]
    },
    {
     "name": "stdout",
     "output_type": "stream",
     "text": [
      "Epoch 1/10\n",
      "20/20 [==============================] - 1s 26ms/step - loss: 0.6966 - accuracy: 0.6609 - auc_7: 0.5004\n",
      "Epoch 2/10\n",
      "20/20 [==============================] - 0s 22ms/step - loss: 0.6388 - accuracy: 0.6984 - auc_7: 0.5342\n",
      "Epoch 3/10\n",
      "20/20 [==============================] - 0s 22ms/step - loss: 0.6150 - accuracy: 0.6969 - auc_7: 0.5767\n",
      "Epoch 4/10\n",
      "20/20 [==============================] - 0s 22ms/step - loss: 0.6120 - accuracy: 0.7109 - auc_7: 0.5701\n",
      "Epoch 5/10\n",
      "20/20 [==============================] - 0s 22ms/step - loss: 0.5994 - accuracy: 0.7109 - auc_7: 0.6038\n",
      "Epoch 6/10\n",
      "20/20 [==============================] - 0s 21ms/step - loss: 0.5952 - accuracy: 0.7188 - auc_7: 0.6119\n",
      "Epoch 7/10\n",
      "20/20 [==============================] - 0s 22ms/step - loss: 0.6023 - accuracy: 0.7141 - auc_7: 0.5916\n",
      "Epoch 8/10\n",
      "20/20 [==============================] - 0s 22ms/step - loss: 0.5992 - accuracy: 0.7125 - auc_7: 0.6059\n",
      "Epoch 9/10\n",
      "20/20 [==============================] - 0s 22ms/step - loss: 0.5959 - accuracy: 0.7188 - auc_7: 0.6071\n",
      "Epoch 10/10\n",
      "20/20 [==============================] - 0s 21ms/step - loss: 0.5899 - accuracy: 0.7172 - auc_7: 0.6258\n",
      "5/5 [==============================] - 0s 7ms/step\n"
     ]
    },
    {
     "name": "stderr",
     "output_type": "stream",
     "text": [
      "WARNING:absl:At this time, the v2.11+ optimizer `tf.keras.optimizers.Adam` runs slowly on M1/M2 Macs, please use the legacy Keras optimizer instead, located at `tf.keras.optimizers.legacy.Adam`.\n"
     ]
    },
    {
     "name": "stdout",
     "output_type": "stream",
     "text": [
      "Epoch 1/10\n",
      "20/20 [==============================] - 1s 27ms/step - loss: 0.7360 - accuracy: 0.6391 - auc_8: 0.4806\n",
      "Epoch 2/10\n",
      "20/20 [==============================] - 0s 22ms/step - loss: 0.6492 - accuracy: 0.6906 - auc_8: 0.5212\n",
      "Epoch 3/10\n",
      "20/20 [==============================] - 0s 22ms/step - loss: 0.6267 - accuracy: 0.6875 - auc_8: 0.5654\n",
      "Epoch 4/10\n",
      "20/20 [==============================] - 0s 22ms/step - loss: 0.6076 - accuracy: 0.6969 - auc_8: 0.6002\n",
      "Epoch 5/10\n",
      "20/20 [==============================] - 0s 22ms/step - loss: 0.6060 - accuracy: 0.7109 - auc_8: 0.6038\n",
      "Epoch 6/10\n",
      "20/20 [==============================] - 0s 22ms/step - loss: 0.6148 - accuracy: 0.6781 - auc_8: 0.6008\n",
      "Epoch 7/10\n",
      "20/20 [==============================] - 0s 22ms/step - loss: 0.6185 - accuracy: 0.6953 - auc_8: 0.5854\n",
      "Epoch 8/10\n",
      "20/20 [==============================] - 0s 22ms/step - loss: 0.6116 - accuracy: 0.6906 - auc_8: 0.6006\n",
      "Epoch 9/10\n",
      "20/20 [==============================] - 0s 22ms/step - loss: 0.5939 - accuracy: 0.7047 - auc_8: 0.6370\n",
      "Epoch 10/10\n",
      "20/20 [==============================] - 0s 22ms/step - loss: 0.5888 - accuracy: 0.7156 - auc_8: 0.6422\n",
      "5/5 [==============================] - 0s 7ms/step\n"
     ]
    },
    {
     "name": "stderr",
     "output_type": "stream",
     "text": [
      "WARNING:absl:At this time, the v2.11+ optimizer `tf.keras.optimizers.Adam` runs slowly on M1/M2 Macs, please use the legacy Keras optimizer instead, located at `tf.keras.optimizers.legacy.Adam`.\n"
     ]
    },
    {
     "name": "stdout",
     "output_type": "stream",
     "text": [
      "Epoch 1/10\n",
      "20/20 [==============================] - 1s 28ms/step - loss: 0.7403 - accuracy: 0.6703 - auc_9: 0.4324\n",
      "Epoch 2/10\n",
      "20/20 [==============================] - 0s 21ms/step - loss: 0.6347 - accuracy: 0.7109 - auc_9: 0.5145\n",
      "Epoch 3/10\n",
      "20/20 [==============================] - 0s 20ms/step - loss: 0.6111 - accuracy: 0.7078 - auc_9: 0.5758\n",
      "Epoch 4/10\n",
      "20/20 [==============================] - 0s 20ms/step - loss: 0.6014 - accuracy: 0.7078 - auc_9: 0.6102\n",
      "Epoch 5/10\n",
      "20/20 [==============================] - 0s 21ms/step - loss: 0.5970 - accuracy: 0.7188 - auc_9: 0.6166\n",
      "Epoch 6/10\n",
      "20/20 [==============================] - 0s 20ms/step - loss: 0.5805 - accuracy: 0.7250 - auc_9: 0.6559\n",
      "Epoch 7/10\n",
      "20/20 [==============================] - 0s 21ms/step - loss: 0.5916 - accuracy: 0.7031 - auc_9: 0.6362\n",
      "Epoch 8/10\n",
      "20/20 [==============================] - 0s 20ms/step - loss: 0.5878 - accuracy: 0.7141 - auc_9: 0.6442\n",
      "Epoch 9/10\n",
      "20/20 [==============================] - 0s 21ms/step - loss: 0.5923 - accuracy: 0.6906 - auc_9: 0.6381\n",
      "Epoch 10/10\n",
      "20/20 [==============================] - 0s 20ms/step - loss: 0.5862 - accuracy: 0.7172 - auc_9: 0.6417\n",
      "5/5 [==============================] - 0s 7ms/step\n"
     ]
    },
    {
     "name": "stderr",
     "output_type": "stream",
     "text": [
      "WARNING:absl:At this time, the v2.11+ optimizer `tf.keras.optimizers.Adam` runs slowly on M1/M2 Macs, please use the legacy Keras optimizer instead, located at `tf.keras.optimizers.legacy.Adam`.\n"
     ]
    },
    {
     "name": "stdout",
     "output_type": "stream",
     "text": [
      "Epoch 1/10\n",
      "20/20 [==============================] - 1s 27ms/step - loss: 0.6542 - accuracy: 0.6547 - auc_10: 0.5594\n",
      "Epoch 2/10\n",
      "20/20 [==============================] - 0s 21ms/step - loss: 0.6133 - accuracy: 0.7047 - auc_10: 0.6010\n",
      "Epoch 3/10\n",
      "20/20 [==============================] - 0s 21ms/step - loss: 0.6071 - accuracy: 0.7047 - auc_10: 0.6148\n",
      "Epoch 4/10\n",
      "20/20 [==============================] - 0s 20ms/step - loss: 0.6038 - accuracy: 0.7125 - auc_10: 0.6113\n",
      "Epoch 5/10\n",
      "20/20 [==============================] - 0s 20ms/step - loss: 0.5902 - accuracy: 0.7266 - auc_10: 0.6326\n",
      "Epoch 6/10\n",
      "20/20 [==============================] - 0s 20ms/step - loss: 0.5931 - accuracy: 0.7250 - auc_10: 0.6320\n",
      "Epoch 7/10\n",
      "20/20 [==============================] - 0s 20ms/step - loss: 0.5968 - accuracy: 0.7109 - auc_10: 0.6246\n",
      "Epoch 8/10\n",
      "20/20 [==============================] - 0s 20ms/step - loss: 0.5922 - accuracy: 0.7281 - auc_10: 0.6277\n",
      "Epoch 9/10\n",
      "20/20 [==============================] - 0s 22ms/step - loss: 0.5858 - accuracy: 0.7281 - auc_10: 0.6463\n",
      "Epoch 10/10\n",
      "20/20 [==============================] - 0s 22ms/step - loss: 0.5782 - accuracy: 0.7094 - auc_10: 0.6668\n",
      "5/5 [==============================] - 0s 7ms/step\n"
     ]
    },
    {
     "name": "stderr",
     "output_type": "stream",
     "text": [
      "WARNING:absl:At this time, the v2.11+ optimizer `tf.keras.optimizers.Adam` runs slowly on M1/M2 Macs, please use the legacy Keras optimizer instead, located at `tf.keras.optimizers.legacy.Adam`.\n"
     ]
    },
    {
     "name": "stdout",
     "output_type": "stream",
     "text": [
      "Epoch 1/10\n"
     ]
    },
    {
     "name": "stderr",
     "output_type": "stream",
     "text": [
      "2024-03-27 20:20:35.527556: E tensorflow/core/grappler/optimizers/meta_optimizer.cc:961] model_pruner failed: INVALID_ARGUMENT: Graph does not contain terminal node Adam/AssignAddVariableOp.\n"
     ]
    },
    {
     "name": "stdout",
     "output_type": "stream",
     "text": [
      "20/20 [==============================] - 1s 28ms/step - loss: 0.7106 - accuracy: 0.6578 - auc_11: 0.5374\n",
      "Epoch 2/10\n",
      "20/20 [==============================] - 0s 22ms/step - loss: 0.6507 - accuracy: 0.7078 - auc_11: 0.5535\n",
      "Epoch 3/10\n",
      "20/20 [==============================] - 0s 22ms/step - loss: 0.6371 - accuracy: 0.7031 - auc_11: 0.5768\n",
      "Epoch 4/10\n",
      "20/20 [==============================] - 0s 22ms/step - loss: 0.6199 - accuracy: 0.7219 - auc_11: 0.6093\n",
      "Epoch 5/10\n",
      "20/20 [==============================] - 0s 22ms/step - loss: 0.6198 - accuracy: 0.7172 - auc_11: 0.6097\n",
      "Epoch 6/10\n",
      "20/20 [==============================] - 0s 22ms/step - loss: 0.6124 - accuracy: 0.7172 - auc_11: 0.6248\n",
      "Epoch 7/10\n",
      "20/20 [==============================] - 0s 22ms/step - loss: 0.6105 - accuracy: 0.7141 - auc_11: 0.6370\n",
      "Epoch 8/10\n",
      "20/20 [==============================] - 0s 22ms/step - loss: 0.6097 - accuracy: 0.7125 - auc_11: 0.6302\n",
      "Epoch 9/10\n",
      "20/20 [==============================] - 0s 21ms/step - loss: 0.6073 - accuracy: 0.7219 - auc_11: 0.6380\n",
      "Epoch 10/10\n",
      "20/20 [==============================] - 0s 21ms/step - loss: 0.6054 - accuracy: 0.7188 - auc_11: 0.6437\n",
      "5/5 [==============================] - 0s 8ms/step\n"
     ]
    },
    {
     "name": "stderr",
     "output_type": "stream",
     "text": [
      "WARNING:absl:At this time, the v2.11+ optimizer `tf.keras.optimizers.Adam` runs slowly on M1/M2 Macs, please use the legacy Keras optimizer instead, located at `tf.keras.optimizers.legacy.Adam`.\n"
     ]
    },
    {
     "name": "stdout",
     "output_type": "stream",
     "text": [
      "Epoch 1/10\n",
      "20/20 [==============================] - 1s 30ms/step - loss: 0.7144 - accuracy: 0.6719 - auc_12: 0.4889\n",
      "Epoch 2/10\n",
      "20/20 [==============================] - 0s 22ms/step - loss: 0.6607 - accuracy: 0.7109 - auc_12: 0.5356\n",
      "Epoch 3/10\n",
      "20/20 [==============================] - 0s 22ms/step - loss: 0.6510 - accuracy: 0.7094 - auc_12: 0.5677\n",
      "Epoch 4/10\n",
      "20/20 [==============================] - 0s 23ms/step - loss: 0.6362 - accuracy: 0.7031 - auc_12: 0.6001\n",
      "Epoch 5/10\n",
      "20/20 [==============================] - 0s 21ms/step - loss: 0.6331 - accuracy: 0.6844 - auc_12: 0.6078\n",
      "Epoch 6/10\n",
      "20/20 [==============================] - 0s 21ms/step - loss: 0.6360 - accuracy: 0.7031 - auc_12: 0.5902\n",
      "Epoch 7/10\n",
      "20/20 [==============================] - 0s 21ms/step - loss: 0.6219 - accuracy: 0.7141 - auc_12: 0.6207\n",
      "Epoch 8/10\n",
      "20/20 [==============================] - 0s 21ms/step - loss: 0.6136 - accuracy: 0.7219 - auc_12: 0.6365\n",
      "Epoch 9/10\n",
      "20/20 [==============================] - 0s 21ms/step - loss: 0.6137 - accuracy: 0.7250 - auc_12: 0.6269\n",
      "Epoch 10/10\n",
      "20/20 [==============================] - 0s 22ms/step - loss: 0.6237 - accuracy: 0.7172 - auc_12: 0.6051\n",
      "5/5 [==============================] - 0s 8ms/step\n"
     ]
    },
    {
     "name": "stderr",
     "output_type": "stream",
     "text": [
      "WARNING:absl:At this time, the v2.11+ optimizer `tf.keras.optimizers.Adam` runs slowly on M1/M2 Macs, please use the legacy Keras optimizer instead, located at `tf.keras.optimizers.legacy.Adam`.\n"
     ]
    },
    {
     "name": "stdout",
     "output_type": "stream",
     "text": [
      "Epoch 1/10\n",
      "20/20 [==============================] - 2s 31ms/step - loss: 0.7749 - accuracy: 0.6266 - auc_13: 0.4988\n",
      "Epoch 2/10\n",
      "20/20 [==============================] - 0s 22ms/step - loss: 0.6813 - accuracy: 0.7078 - auc_13: 0.5375\n",
      "Epoch 3/10\n",
      "20/20 [==============================] - 0s 22ms/step - loss: 0.6534 - accuracy: 0.6969 - auc_13: 0.5403\n",
      "Epoch 4/10\n",
      "20/20 [==============================] - 0s 21ms/step - loss: 0.6451 - accuracy: 0.7094 - auc_13: 0.5390\n",
      "Epoch 5/10\n",
      "20/20 [==============================] - 0s 21ms/step - loss: 0.6198 - accuracy: 0.7156 - auc_13: 0.5834\n",
      "Epoch 6/10\n",
      "20/20 [==============================] - 0s 22ms/step - loss: 0.6196 - accuracy: 0.7125 - auc_13: 0.5925\n",
      "Epoch 7/10\n",
      "20/20 [==============================] - 0s 22ms/step - loss: 0.6121 - accuracy: 0.7312 - auc_13: 0.5960\n",
      "Epoch 8/10\n",
      "20/20 [==============================] - 0s 22ms/step - loss: 0.6099 - accuracy: 0.7141 - auc_13: 0.6099\n",
      "Epoch 9/10\n",
      "20/20 [==============================] - 0s 22ms/step - loss: 0.6053 - accuracy: 0.7125 - auc_13: 0.6241\n",
      "Epoch 10/10\n",
      "20/20 [==============================] - 0s 22ms/step - loss: 0.6049 - accuracy: 0.7156 - auc_13: 0.6279\n",
      "5/5 [==============================] - 0s 8ms/step\n"
     ]
    },
    {
     "name": "stderr",
     "output_type": "stream",
     "text": [
      "WARNING:absl:At this time, the v2.11+ optimizer `tf.keras.optimizers.Adam` runs slowly on M1/M2 Macs, please use the legacy Keras optimizer instead, located at `tf.keras.optimizers.legacy.Adam`.\n"
     ]
    },
    {
     "name": "stdout",
     "output_type": "stream",
     "text": [
      "Epoch 1/10\n",
      "20/20 [==============================] - 2s 27ms/step - loss: 0.6790 - accuracy: 0.6344 - auc_14: 0.5176\n",
      "Epoch 2/10\n",
      "20/20 [==============================] - 0s 22ms/step - loss: 0.6204 - accuracy: 0.6969 - auc_14: 0.5731\n",
      "Epoch 3/10\n",
      "20/20 [==============================] - 0s 21ms/step - loss: 0.6115 - accuracy: 0.7109 - auc_14: 0.5835\n",
      "Epoch 4/10\n",
      "20/20 [==============================] - 0s 22ms/step - loss: 0.6108 - accuracy: 0.6969 - auc_14: 0.5906\n",
      "Epoch 5/10\n",
      "20/20 [==============================] - 0s 21ms/step - loss: 0.6019 - accuracy: 0.7172 - auc_14: 0.6046\n",
      "Epoch 6/10\n",
      "20/20 [==============================] - 0s 21ms/step - loss: 0.5948 - accuracy: 0.7125 - auc_14: 0.6235\n",
      "Epoch 7/10\n",
      "20/20 [==============================] - 0s 21ms/step - loss: 0.5917 - accuracy: 0.7094 - auc_14: 0.6336\n",
      "Epoch 8/10\n",
      "20/20 [==============================] - 0s 21ms/step - loss: 0.5938 - accuracy: 0.7125 - auc_14: 0.6248\n",
      "Epoch 9/10\n",
      "20/20 [==============================] - 0s 22ms/step - loss: 0.5878 - accuracy: 0.7109 - auc_14: 0.6437\n",
      "Epoch 10/10\n",
      "20/20 [==============================] - 0s 21ms/step - loss: 0.5901 - accuracy: 0.7125 - auc_14: 0.6321\n",
      "5/5 [==============================] - 0s 7ms/step\n"
     ]
    },
    {
     "name": "stderr",
     "output_type": "stream",
     "text": [
      "WARNING:absl:At this time, the v2.11+ optimizer `tf.keras.optimizers.Adam` runs slowly on M1/M2 Macs, please use the legacy Keras optimizer instead, located at `tf.keras.optimizers.legacy.Adam`.\n"
     ]
    },
    {
     "name": "stdout",
     "output_type": "stream",
     "text": [
      "Epoch 1/10\n",
      "20/20 [==============================] - 2s 30ms/step - loss: 0.7991 - accuracy: 0.6484 - auc_15: 0.5500\n",
      "Epoch 2/10\n",
      "20/20 [==============================] - 1s 25ms/step - loss: 0.6787 - accuracy: 0.6812 - auc_15: 0.5861\n",
      "Epoch 3/10\n",
      "20/20 [==============================] - 0s 24ms/step - loss: 0.6219 - accuracy: 0.7172 - auc_15: 0.6328\n",
      "Epoch 4/10\n",
      "20/20 [==============================] - 0s 24ms/step - loss: 0.6060 - accuracy: 0.7281 - auc_15: 0.6447\n",
      "Epoch 5/10\n",
      "20/20 [==============================] - 0s 24ms/step - loss: 0.6052 - accuracy: 0.7125 - auc_15: 0.6544\n",
      "Epoch 6/10\n",
      "20/20 [==============================] - 0s 24ms/step - loss: 0.6071 - accuracy: 0.7109 - auc_15: 0.6440\n",
      "Epoch 7/10\n",
      "20/20 [==============================] - 0s 24ms/step - loss: 0.6082 - accuracy: 0.7141 - auc_15: 0.6389\n",
      "Epoch 8/10\n",
      "20/20 [==============================] - 0s 24ms/step - loss: 0.6116 - accuracy: 0.7172 - auc_15: 0.6241\n",
      "Epoch 9/10\n",
      "20/20 [==============================] - 0s 24ms/step - loss: 0.6084 - accuracy: 0.7078 - auc_15: 0.6377\n",
      "Epoch 10/10\n",
      "20/20 [==============================] - 0s 24ms/step - loss: 0.5971 - accuracy: 0.7031 - auc_15: 0.6586\n",
      "5/5 [==============================] - 0s 8ms/step\n"
     ]
    },
    {
     "name": "stderr",
     "output_type": "stream",
     "text": [
      "WARNING:absl:At this time, the v2.11+ optimizer `tf.keras.optimizers.Adam` runs slowly on M1/M2 Macs, please use the legacy Keras optimizer instead, located at `tf.keras.optimizers.legacy.Adam`.\n"
     ]
    },
    {
     "name": "stdout",
     "output_type": "stream",
     "text": [
      "Epoch 1/10\n",
      "20/20 [==============================] - 2s 34ms/step - loss: 0.6557 - accuracy: 0.6719 - auc_16: 0.5021\n",
      "Epoch 2/10\n",
      "20/20 [==============================] - 0s 24ms/step - loss: 0.6264 - accuracy: 0.7047 - auc_16: 0.5117\n",
      "Epoch 3/10\n",
      "20/20 [==============================] - 0s 23ms/step - loss: 0.6072 - accuracy: 0.7172 - auc_16: 0.5769\n",
      "Epoch 4/10\n",
      "20/20 [==============================] - 0s 23ms/step - loss: 0.5979 - accuracy: 0.7188 - auc_16: 0.6018\n",
      "Epoch 5/10\n",
      "20/20 [==============================] - 0s 24ms/step - loss: 0.5898 - accuracy: 0.7156 - auc_16: 0.6319\n",
      "Epoch 6/10\n",
      "20/20 [==============================] - 0s 23ms/step - loss: 0.6022 - accuracy: 0.7156 - auc_16: 0.5920\n",
      "Epoch 7/10\n",
      "20/20 [==============================] - 0s 23ms/step - loss: 0.5920 - accuracy: 0.7156 - auc_16: 0.6256\n",
      "Epoch 8/10\n",
      "20/20 [==============================] - 0s 24ms/step - loss: 0.5831 - accuracy: 0.7156 - auc_16: 0.6522\n",
      "Epoch 9/10\n",
      "20/20 [==============================] - 0s 24ms/step - loss: 0.5845 - accuracy: 0.7234 - auc_16: 0.6488\n",
      "Epoch 10/10\n",
      "20/20 [==============================] - 0s 24ms/step - loss: 0.5838 - accuracy: 0.7250 - auc_16: 0.6444\n",
      "5/5 [==============================] - 0s 8ms/step\n"
     ]
    },
    {
     "name": "stderr",
     "output_type": "stream",
     "text": [
      "WARNING:absl:At this time, the v2.11+ optimizer `tf.keras.optimizers.Adam` runs slowly on M1/M2 Macs, please use the legacy Keras optimizer instead, located at `tf.keras.optimizers.legacy.Adam`.\n"
     ]
    },
    {
     "name": "stdout",
     "output_type": "stream",
     "text": [
      "Epoch 1/10\n",
      "20/20 [==============================] - 2s 35ms/step - loss: 0.7610 - accuracy: 0.6375 - auc_17: 0.5179\n",
      "Epoch 2/10\n",
      "20/20 [==============================] - 0s 23ms/step - loss: 0.6672 - accuracy: 0.7031 - auc_17: 0.5537\n",
      "Epoch 3/10\n",
      "20/20 [==============================] - 0s 22ms/step - loss: 0.6406 - accuracy: 0.7094 - auc_17: 0.5697\n",
      "Epoch 4/10\n",
      "20/20 [==============================] - 0s 22ms/step - loss: 0.6280 - accuracy: 0.7188 - auc_17: 0.5887\n",
      "Epoch 5/10\n",
      "20/20 [==============================] - 0s 23ms/step - loss: 0.6173 - accuracy: 0.7109 - auc_17: 0.6095\n",
      "Epoch 6/10\n",
      "20/20 [==============================] - 0s 23ms/step - loss: 0.6244 - accuracy: 0.7109 - auc_17: 0.5924\n",
      "Epoch 7/10\n",
      "20/20 [==============================] - 0s 24ms/step - loss: 0.6159 - accuracy: 0.7188 - auc_17: 0.5999\n",
      "Epoch 8/10\n",
      "20/20 [==============================] - 0s 23ms/step - loss: 0.6132 - accuracy: 0.7250 - auc_17: 0.6034\n",
      "Epoch 9/10\n",
      "20/20 [==============================] - 0s 24ms/step - loss: 0.6140 - accuracy: 0.7125 - auc_17: 0.6085\n",
      "Epoch 10/10\n",
      "20/20 [==============================] - 0s 24ms/step - loss: 0.6111 - accuracy: 0.7063 - auc_17: 0.6117\n",
      "5/5 [==============================] - 0s 8ms/step\n"
     ]
    },
    {
     "name": "stderr",
     "output_type": "stream",
     "text": [
      "WARNING:absl:At this time, the v2.11+ optimizer `tf.keras.optimizers.Adam` runs slowly on M1/M2 Macs, please use the legacy Keras optimizer instead, located at `tf.keras.optimizers.legacy.Adam`.\n"
     ]
    },
    {
     "name": "stdout",
     "output_type": "stream",
     "text": [
      "Epoch 1/10\n",
      "20/20 [==============================] - 2s 34ms/step - loss: 0.7735 - accuracy: 0.6344 - auc_18: 0.5150\n",
      "Epoch 2/10\n",
      "20/20 [==============================] - 1s 25ms/step - loss: 0.6638 - accuracy: 0.6891 - auc_18: 0.5471\n",
      "Epoch 3/10\n",
      "20/20 [==============================] - 0s 25ms/step - loss: 0.6170 - accuracy: 0.7141 - auc_18: 0.6031\n",
      "Epoch 4/10\n",
      "20/20 [==============================] - 0s 22ms/step - loss: 0.6067 - accuracy: 0.7219 - auc_18: 0.6181\n",
      "Epoch 5/10\n",
      "20/20 [==============================] - 0s 22ms/step - loss: 0.6021 - accuracy: 0.7109 - auc_18: 0.6297\n",
      "Epoch 6/10\n",
      "20/20 [==============================] - 0s 23ms/step - loss: 0.6086 - accuracy: 0.7109 - auc_18: 0.6136\n",
      "Epoch 7/10\n",
      "20/20 [==============================] - 0s 23ms/step - loss: 0.6062 - accuracy: 0.7156 - auc_18: 0.6212\n",
      "Epoch 8/10\n",
      "20/20 [==============================] - 0s 22ms/step - loss: 0.6018 - accuracy: 0.7203 - auc_18: 0.6329\n",
      "Epoch 9/10\n",
      "20/20 [==============================] - 0s 23ms/step - loss: 0.5900 - accuracy: 0.7266 - auc_18: 0.6539\n",
      "Epoch 10/10\n",
      "20/20 [==============================] - 0s 23ms/step - loss: 0.5880 - accuracy: 0.7297 - auc_18: 0.6596\n",
      "5/5 [==============================] - 0s 8ms/step\n"
     ]
    },
    {
     "name": "stderr",
     "output_type": "stream",
     "text": [
      "WARNING:absl:At this time, the v2.11+ optimizer `tf.keras.optimizers.Adam` runs slowly on M1/M2 Macs, please use the legacy Keras optimizer instead, located at `tf.keras.optimizers.legacy.Adam`.\n"
     ]
    },
    {
     "name": "stdout",
     "output_type": "stream",
     "text": [
      "Epoch 1/10\n",
      "20/20 [==============================] - 2s 34ms/step - loss: 0.7862 - accuracy: 0.6062 - auc_19: 0.4164\n",
      "Epoch 2/10\n",
      "20/20 [==============================] - 0s 23ms/step - loss: 0.6771 - accuracy: 0.7078 - auc_19: 0.4653\n",
      "Epoch 3/10\n",
      "20/20 [==============================] - 0s 23ms/step - loss: 0.6417 - accuracy: 0.7000 - auc_19: 0.5266\n",
      "Epoch 4/10\n",
      "20/20 [==============================] - 0s 22ms/step - loss: 0.6161 - accuracy: 0.7250 - auc_19: 0.5914\n",
      "Epoch 5/10\n",
      "20/20 [==============================] - 0s 21ms/step - loss: 0.6126 - accuracy: 0.7219 - auc_19: 0.6071\n",
      "Epoch 6/10\n",
      "20/20 [==============================] - 0s 21ms/step - loss: 0.6189 - accuracy: 0.7109 - auc_19: 0.5920\n",
      "Epoch 7/10\n",
      "20/20 [==============================] - 0s 21ms/step - loss: 0.6047 - accuracy: 0.7063 - auc_19: 0.6413\n",
      "Epoch 8/10\n",
      "20/20 [==============================] - 0s 21ms/step - loss: 0.6068 - accuracy: 0.7188 - auc_19: 0.6200\n",
      "Epoch 9/10\n",
      "20/20 [==============================] - 0s 21ms/step - loss: 0.5990 - accuracy: 0.7188 - auc_19: 0.6497\n",
      "Epoch 10/10\n",
      "20/20 [==============================] - 0s 21ms/step - loss: 0.6043 - accuracy: 0.7125 - auc_19: 0.6350\n",
      "5/5 [==============================] - 0s 8ms/step\n"
     ]
    },
    {
     "name": "stderr",
     "output_type": "stream",
     "text": [
      "WARNING:absl:At this time, the v2.11+ optimizer `tf.keras.optimizers.Adam` runs slowly on M1/M2 Macs, please use the legacy Keras optimizer instead, located at `tf.keras.optimizers.legacy.Adam`.\n"
     ]
    },
    {
     "name": "stdout",
     "output_type": "stream",
     "text": [
      "Epoch 1/10\n",
      "20/20 [==============================] - 2s 34ms/step - loss: 0.7089 - accuracy: 0.6703 - auc_20: 0.5305\n",
      "Epoch 2/10\n",
      "20/20 [==============================] - 0s 23ms/step - loss: 0.6278 - accuracy: 0.6938 - auc_20: 0.5627\n",
      "Epoch 3/10\n",
      "20/20 [==============================] - 0s 22ms/step - loss: 0.5910 - accuracy: 0.7203 - auc_20: 0.6220\n",
      "Epoch 4/10\n",
      "20/20 [==============================] - 0s 22ms/step - loss: 0.5931 - accuracy: 0.7188 - auc_20: 0.6171\n",
      "Epoch 5/10\n",
      "20/20 [==============================] - 0s 22ms/step - loss: 0.5822 - accuracy: 0.7344 - auc_20: 0.6467\n",
      "Epoch 6/10\n",
      "20/20 [==============================] - 0s 22ms/step - loss: 0.5776 - accuracy: 0.7297 - auc_20: 0.6561\n",
      "Epoch 7/10\n",
      "20/20 [==============================] - 0s 22ms/step - loss: 0.5818 - accuracy: 0.7109 - auc_20: 0.6519\n",
      "Epoch 8/10\n",
      "20/20 [==============================] - 0s 22ms/step - loss: 0.5726 - accuracy: 0.7109 - auc_20: 0.6731\n",
      "Epoch 9/10\n",
      "20/20 [==============================] - 0s 22ms/step - loss: 0.5798 - accuracy: 0.7219 - auc_20: 0.6525\n",
      "Epoch 10/10\n",
      "20/20 [==============================] - 0s 22ms/step - loss: 0.5745 - accuracy: 0.7188 - auc_20: 0.6628\n",
      "5/5 [==============================] - 0s 8ms/step\n"
     ]
    },
    {
     "name": "stderr",
     "output_type": "stream",
     "text": [
      "WARNING:absl:At this time, the v2.11+ optimizer `tf.keras.optimizers.Adam` runs slowly on M1/M2 Macs, please use the legacy Keras optimizer instead, located at `tf.keras.optimizers.legacy.Adam`.\n"
     ]
    },
    {
     "name": "stdout",
     "output_type": "stream",
     "text": [
      "Epoch 1/10\n",
      "20/20 [==============================] - 2s 34ms/step - loss: 0.7337 - accuracy: 0.6672 - auc_21: 0.4942\n",
      "Epoch 2/10\n",
      "20/20 [==============================] - 0s 22ms/step - loss: 0.6162 - accuracy: 0.7078 - auc_21: 0.5895\n",
      "Epoch 3/10\n",
      "20/20 [==============================] - 0s 22ms/step - loss: 0.6055 - accuracy: 0.7219 - auc_21: 0.5828\n",
      "Epoch 4/10\n",
      "20/20 [==============================] - 0s 22ms/step - loss: 0.5853 - accuracy: 0.7312 - auc_21: 0.6292\n",
      "Epoch 5/10\n",
      "20/20 [==============================] - 0s 22ms/step - loss: 0.5860 - accuracy: 0.7172 - auc_21: 0.6279\n",
      "Epoch 6/10\n",
      "20/20 [==============================] - 0s 22ms/step - loss: 0.5840 - accuracy: 0.7266 - auc_21: 0.6328\n",
      "Epoch 7/10\n",
      "20/20 [==============================] - 0s 22ms/step - loss: 0.5789 - accuracy: 0.7234 - auc_21: 0.6426\n",
      "Epoch 8/10\n",
      "20/20 [==============================] - 0s 22ms/step - loss: 0.5761 - accuracy: 0.7188 - auc_21: 0.6617\n",
      "Epoch 9/10\n",
      "20/20 [==============================] - 0s 22ms/step - loss: 0.5724 - accuracy: 0.7266 - auc_21: 0.6602\n",
      "Epoch 10/10\n",
      "20/20 [==============================] - 0s 22ms/step - loss: 0.5771 - accuracy: 0.7281 - auc_21: 0.6470\n",
      "5/5 [==============================] - 0s 8ms/step\n"
     ]
    },
    {
     "name": "stderr",
     "output_type": "stream",
     "text": [
      "WARNING:absl:At this time, the v2.11+ optimizer `tf.keras.optimizers.Adam` runs slowly on M1/M2 Macs, please use the legacy Keras optimizer instead, located at `tf.keras.optimizers.legacy.Adam`.\n"
     ]
    },
    {
     "name": "stdout",
     "output_type": "stream",
     "text": [
      "Epoch 1/10\n"
     ]
    },
    {
     "name": "stderr",
     "output_type": "stream",
     "text": [
      "2024-03-27 20:21:39.764173: E tensorflow/core/grappler/optimizers/meta_optimizer.cc:961] model_pruner failed: INVALID_ARGUMENT: Graph does not contain terminal node Adam/AssignAddVariableOp.\n"
     ]
    },
    {
     "name": "stdout",
     "output_type": "stream",
     "text": [
      "20/20 [==============================] - 2s 33ms/step - loss: 0.6297 - accuracy: 0.6844 - auc_22: 0.5115\n",
      "Epoch 2/10\n",
      "20/20 [==============================] - 0s 23ms/step - loss: 0.5959 - accuracy: 0.7141 - auc_22: 0.5840\n",
      "Epoch 3/10\n",
      "20/20 [==============================] - 0s 23ms/step - loss: 0.5858 - accuracy: 0.7141 - auc_22: 0.6105\n",
      "Epoch 4/10\n",
      "20/20 [==============================] - 0s 23ms/step - loss: 0.5877 - accuracy: 0.7172 - auc_22: 0.6026\n",
      "Epoch 5/10\n",
      "20/20 [==============================] - 0s 22ms/step - loss: 0.5890 - accuracy: 0.7125 - auc_22: 0.5980\n",
      "Epoch 6/10\n",
      "20/20 [==============================] - 0s 22ms/step - loss: 0.5835 - accuracy: 0.7156 - auc_22: 0.6147\n",
      "Epoch 7/10\n",
      "20/20 [==============================] - 0s 22ms/step - loss: 0.5872 - accuracy: 0.7094 - auc_22: 0.5979\n",
      "Epoch 8/10\n",
      "20/20 [==============================] - 0s 22ms/step - loss: 0.5811 - accuracy: 0.7141 - auc_22: 0.6164\n",
      "Epoch 9/10\n",
      "20/20 [==============================] - 0s 22ms/step - loss: 0.5852 - accuracy: 0.7125 - auc_22: 0.6129\n",
      "Epoch 10/10\n",
      "20/20 [==============================] - 0s 23ms/step - loss: 0.5815 - accuracy: 0.7203 - auc_22: 0.6169\n",
      "5/5 [==============================] - 0s 9ms/step\n"
     ]
    },
    {
     "name": "stderr",
     "output_type": "stream",
     "text": [
      "WARNING:absl:At this time, the v2.11+ optimizer `tf.keras.optimizers.Adam` runs slowly on M1/M2 Macs, please use the legacy Keras optimizer instead, located at `tf.keras.optimizers.legacy.Adam`.\n"
     ]
    },
    {
     "name": "stdout",
     "output_type": "stream",
     "text": [
      "Epoch 1/10\n",
      "20/20 [==============================] - 2s 35ms/step - loss: 0.7764 - accuracy: 0.6547 - auc_23: 0.4532\n",
      "Epoch 2/10\n",
      "20/20 [==============================] - 1s 27ms/step - loss: 0.6479 - accuracy: 0.7219 - auc_23: 0.5255\n",
      "Epoch 3/10\n",
      "20/20 [==============================] - 0s 23ms/step - loss: 0.6040 - accuracy: 0.7000 - auc_23: 0.5881\n",
      "Epoch 4/10\n",
      "20/20 [==============================] - 0s 23ms/step - loss: 0.5961 - accuracy: 0.7125 - auc_23: 0.6126\n",
      "Epoch 5/10\n",
      "20/20 [==============================] - 0s 23ms/step - loss: 0.5897 - accuracy: 0.7188 - auc_23: 0.6210\n",
      "Epoch 6/10\n",
      "20/20 [==============================] - 0s 23ms/step - loss: 0.5846 - accuracy: 0.7172 - auc_23: 0.6351\n",
      "Epoch 7/10\n",
      "20/20 [==============================] - 0s 23ms/step - loss: 0.5896 - accuracy: 0.7219 - auc_23: 0.6281\n",
      "Epoch 8/10\n",
      "20/20 [==============================] - 0s 24ms/step - loss: 0.5815 - accuracy: 0.7063 - auc_23: 0.6478\n",
      "Epoch 9/10\n",
      "20/20 [==============================] - 0s 23ms/step - loss: 0.5790 - accuracy: 0.7109 - auc_23: 0.6505\n",
      "Epoch 10/10\n",
      "20/20 [==============================] - 0s 23ms/step - loss: 0.5779 - accuracy: 0.7109 - auc_23: 0.6560\n",
      "5/5 [==============================] - 0s 9ms/step\n"
     ]
    },
    {
     "name": "stderr",
     "output_type": "stream",
     "text": [
      "WARNING:absl:At this time, the v2.11+ optimizer `tf.keras.optimizers.Adam` runs slowly on M1/M2 Macs, please use the legacy Keras optimizer instead, located at `tf.keras.optimizers.legacy.Adam`.\n"
     ]
    },
    {
     "name": "stdout",
     "output_type": "stream",
     "text": [
      "Epoch 1/10\n",
      "20/20 [==============================] - 2s 34ms/step - loss: 0.6946 - accuracy: 0.6453 - auc_24: 0.5064\n",
      "Epoch 2/10\n",
      "20/20 [==============================] - 0s 24ms/step - loss: 0.6218 - accuracy: 0.7078 - auc_24: 0.5637\n",
      "Epoch 3/10\n",
      "20/20 [==============================] - 0s 23ms/step - loss: 0.6030 - accuracy: 0.7188 - auc_24: 0.6072\n",
      "Epoch 4/10\n",
      "20/20 [==============================] - 0s 23ms/step - loss: 0.5849 - accuracy: 0.7141 - auc_24: 0.6406\n",
      "Epoch 5/10\n",
      "20/20 [==============================] - 0s 22ms/step - loss: 0.5873 - accuracy: 0.7109 - auc_24: 0.6441\n",
      "Epoch 6/10\n",
      "20/20 [==============================] - 0s 23ms/step - loss: 0.5985 - accuracy: 0.6984 - auc_24: 0.6143\n",
      "Epoch 7/10\n",
      "20/20 [==============================] - 0s 23ms/step - loss: 0.5894 - accuracy: 0.7078 - auc_24: 0.6428\n",
      "Epoch 8/10\n",
      "20/20 [==============================] - 0s 23ms/step - loss: 0.5826 - accuracy: 0.7172 - auc_24: 0.6430\n",
      "Epoch 9/10\n",
      "20/20 [==============================] - 0s 23ms/step - loss: 0.5863 - accuracy: 0.7156 - auc_24: 0.6350\n",
      "Epoch 10/10\n",
      "20/20 [==============================] - 0s 23ms/step - loss: 0.5827 - accuracy: 0.7172 - auc_24: 0.6512\n",
      "5/5 [==============================] - 0s 9ms/step\n"
     ]
    },
    {
     "name": "stderr",
     "output_type": "stream",
     "text": [
      "WARNING:absl:At this time, the v2.11+ optimizer `tf.keras.optimizers.Adam` runs slowly on M1/M2 Macs, please use the legacy Keras optimizer instead, located at `tf.keras.optimizers.legacy.Adam`.\n"
     ]
    },
    {
     "name": "stdout",
     "output_type": "stream",
     "text": [
      "Epoch 1/10\n",
      "20/20 [==============================] - 2s 35ms/step - loss: 0.7972 - accuracy: 0.6172 - auc_25: 0.4403\n",
      "Epoch 2/10\n",
      "20/20 [==============================] - 0s 23ms/step - loss: 0.6577 - accuracy: 0.7016 - auc_25: 0.5074\n",
      "Epoch 3/10\n",
      "20/20 [==============================] - 0s 22ms/step - loss: 0.6119 - accuracy: 0.7063 - auc_25: 0.5557\n",
      "Epoch 4/10\n",
      "20/20 [==============================] - 0s 21ms/step - loss: 0.5993 - accuracy: 0.7109 - auc_25: 0.5992\n",
      "Epoch 5/10\n",
      "20/20 [==============================] - 0s 22ms/step - loss: 0.5844 - accuracy: 0.7094 - auc_25: 0.6344\n",
      "Epoch 6/10\n",
      "20/20 [==============================] - 0s 21ms/step - loss: 0.5767 - accuracy: 0.7219 - auc_25: 0.6495\n",
      "Epoch 7/10\n",
      "20/20 [==============================] - 0s 23ms/step - loss: 0.5873 - accuracy: 0.7063 - auc_25: 0.6282\n",
      "Epoch 8/10\n",
      "20/20 [==============================] - 0s 23ms/step - loss: 0.5749 - accuracy: 0.7219 - auc_25: 0.6518\n",
      "Epoch 9/10\n",
      "20/20 [==============================] - 0s 22ms/step - loss: 0.5816 - accuracy: 0.7109 - auc_25: 0.6382\n",
      "Epoch 10/10\n",
      "20/20 [==============================] - 0s 22ms/step - loss: 0.5803 - accuracy: 0.7047 - auc_25: 0.6447\n",
      "5/5 [==============================] - 0s 7ms/step\n"
     ]
    },
    {
     "name": "stderr",
     "output_type": "stream",
     "text": [
      "WARNING:absl:At this time, the v2.11+ optimizer `tf.keras.optimizers.Adam` runs slowly on M1/M2 Macs, please use the legacy Keras optimizer instead, located at `tf.keras.optimizers.legacy.Adam`.\n"
     ]
    },
    {
     "name": "stdout",
     "output_type": "stream",
     "text": [
      "Epoch 1/10\n",
      "20/20 [==============================] - 2s 37ms/step - loss: 0.7003 - accuracy: 0.6859 - auc_26: 0.5249\n",
      "Epoch 2/10\n",
      "20/20 [==============================] - 1s 26ms/step - loss: 0.6068 - accuracy: 0.7016 - auc_26: 0.6276\n",
      "Epoch 3/10\n",
      "20/20 [==============================] - 0s 24ms/step - loss: 0.5978 - accuracy: 0.7047 - auc_26: 0.6328\n",
      "Epoch 4/10\n",
      "20/20 [==============================] - 0s 23ms/step - loss: 0.5865 - accuracy: 0.7188 - auc_26: 0.6518\n",
      "Epoch 5/10\n",
      "20/20 [==============================] - 0s 23ms/step - loss: 0.5819 - accuracy: 0.7188 - auc_26: 0.6646\n",
      "Epoch 6/10\n",
      "20/20 [==============================] - 0s 23ms/step - loss: 0.5775 - accuracy: 0.7156 - auc_26: 0.6753\n",
      "Epoch 7/10\n",
      "20/20 [==============================] - 0s 23ms/step - loss: 0.5733 - accuracy: 0.7250 - auc_26: 0.6812\n",
      "Epoch 8/10\n",
      "20/20 [==============================] - 0s 23ms/step - loss: 0.5781 - accuracy: 0.7172 - auc_26: 0.6674\n",
      "Epoch 9/10\n",
      "20/20 [==============================] - 0s 23ms/step - loss: 0.5817 - accuracy: 0.7234 - auc_26: 0.6594\n",
      "Epoch 10/10\n",
      "20/20 [==============================] - 0s 23ms/step - loss: 0.5829 - accuracy: 0.7094 - auc_26: 0.6617\n",
      "5/5 [==============================] - 0s 10ms/step\n"
     ]
    },
    {
     "name": "stderr",
     "output_type": "stream",
     "text": [
      "WARNING:absl:At this time, the v2.11+ optimizer `tf.keras.optimizers.Adam` runs slowly on M1/M2 Macs, please use the legacy Keras optimizer instead, located at `tf.keras.optimizers.legacy.Adam`.\n"
     ]
    },
    {
     "name": "stdout",
     "output_type": "stream",
     "text": [
      "Epoch 1/10\n",
      "20/20 [==============================] - 2s 36ms/step - loss: 0.7125 - accuracy: 0.6516 - auc_27: 0.4971\n",
      "Epoch 2/10\n",
      "20/20 [==============================] - 1s 26ms/step - loss: 0.6249 - accuracy: 0.6953 - auc_27: 0.5981\n",
      "Epoch 3/10\n",
      "20/20 [==============================] - 0s 23ms/step - loss: 0.6128 - accuracy: 0.7000 - auc_27: 0.6040\n",
      "Epoch 4/10\n",
      "20/20 [==============================] - 0s 23ms/step - loss: 0.6247 - accuracy: 0.6938 - auc_27: 0.5796\n",
      "Epoch 5/10\n",
      "20/20 [==============================] - 0s 24ms/step - loss: 0.6081 - accuracy: 0.6938 - auc_27: 0.6127\n",
      "Epoch 6/10\n",
      "20/20 [==============================] - 0s 24ms/step - loss: 0.5975 - accuracy: 0.7188 - auc_27: 0.6172\n",
      "Epoch 7/10\n",
      "20/20 [==============================] - 0s 24ms/step - loss: 0.5971 - accuracy: 0.7094 - auc_27: 0.6312\n",
      "Epoch 8/10\n",
      "20/20 [==============================] - 0s 23ms/step - loss: 0.6103 - accuracy: 0.6906 - auc_27: 0.6002\n",
      "Epoch 9/10\n",
      "20/20 [==============================] - 0s 23ms/step - loss: 0.6042 - accuracy: 0.7000 - auc_27: 0.6129\n",
      "Epoch 10/10\n",
      "20/20 [==============================] - 0s 23ms/step - loss: 0.5991 - accuracy: 0.7094 - auc_27: 0.6127\n",
      "5/5 [==============================] - 0s 8ms/step\n"
     ]
    },
    {
     "name": "stderr",
     "output_type": "stream",
     "text": [
      "WARNING:absl:At this time, the v2.11+ optimizer `tf.keras.optimizers.Adam` runs slowly on M1/M2 Macs, please use the legacy Keras optimizer instead, located at `tf.keras.optimizers.legacy.Adam`.\n"
     ]
    },
    {
     "name": "stdout",
     "output_type": "stream",
     "text": [
      "Epoch 1/10\n",
      "20/20 [==============================] - 2s 36ms/step - loss: 0.6686 - accuracy: 0.6875 - auc_28: 0.5262\n",
      "Epoch 2/10\n",
      "20/20 [==============================] - 1s 25ms/step - loss: 0.5976 - accuracy: 0.7047 - auc_28: 0.6338\n",
      "Epoch 3/10\n",
      "20/20 [==============================] - 0s 22ms/step - loss: 0.6002 - accuracy: 0.6984 - auc_28: 0.6253\n",
      "Epoch 4/10\n",
      "20/20 [==============================] - 0s 21ms/step - loss: 0.5958 - accuracy: 0.7047 - auc_28: 0.6219\n",
      "Epoch 5/10\n",
      "20/20 [==============================] - 0s 22ms/step - loss: 0.5825 - accuracy: 0.7125 - auc_28: 0.6491\n",
      "Epoch 6/10\n",
      "20/20 [==============================] - 0s 22ms/step - loss: 0.5863 - accuracy: 0.7047 - auc_28: 0.6451\n",
      "Epoch 7/10\n",
      "20/20 [==============================] - 0s 22ms/step - loss: 0.5857 - accuracy: 0.7156 - auc_28: 0.6457\n",
      "Epoch 8/10\n",
      "20/20 [==============================] - 0s 22ms/step - loss: 0.5777 - accuracy: 0.6953 - auc_28: 0.6648\n",
      "Epoch 9/10\n",
      "20/20 [==============================] - 0s 22ms/step - loss: 0.5789 - accuracy: 0.7219 - auc_28: 0.6606\n",
      "Epoch 10/10\n",
      "20/20 [==============================] - 0s 22ms/step - loss: 0.5819 - accuracy: 0.7078 - auc_28: 0.6534\n",
      "5/5 [==============================] - 0s 8ms/step\n"
     ]
    },
    {
     "name": "stderr",
     "output_type": "stream",
     "text": [
      "WARNING:absl:At this time, the v2.11+ optimizer `tf.keras.optimizers.Adam` runs slowly on M1/M2 Macs, please use the legacy Keras optimizer instead, located at `tf.keras.optimizers.legacy.Adam`.\n"
     ]
    },
    {
     "name": "stdout",
     "output_type": "stream",
     "text": [
      "Epoch 1/10\n",
      "20/20 [==============================] - 2s 35ms/step - loss: 0.7050 - accuracy: 0.6719 - auc_29: 0.5332\n",
      "Epoch 2/10\n",
      "20/20 [==============================] - 1s 27ms/step - loss: 0.6189 - accuracy: 0.7094 - auc_29: 0.5846\n",
      "Epoch 3/10\n",
      "20/20 [==============================] - 0s 23ms/step - loss: 0.5896 - accuracy: 0.7141 - auc_29: 0.6248\n",
      "Epoch 4/10\n",
      "20/20 [==============================] - 0s 24ms/step - loss: 0.5736 - accuracy: 0.7172 - auc_29: 0.6538\n",
      "Epoch 5/10\n",
      "20/20 [==============================] - 0s 22ms/step - loss: 0.5785 - accuracy: 0.7141 - auc_29: 0.6418\n",
      "Epoch 6/10\n",
      "20/20 [==============================] - 0s 22ms/step - loss: 0.5769 - accuracy: 0.7172 - auc_29: 0.6457\n",
      "Epoch 7/10\n",
      "20/20 [==============================] - 0s 23ms/step - loss: 0.5705 - accuracy: 0.7063 - auc_29: 0.6652\n",
      "Epoch 8/10\n",
      "20/20 [==============================] - 0s 22ms/step - loss: 0.5714 - accuracy: 0.7141 - auc_29: 0.6644\n",
      "Epoch 9/10\n",
      "20/20 [==============================] - 0s 22ms/step - loss: 0.5750 - accuracy: 0.7188 - auc_29: 0.6463\n",
      "Epoch 10/10\n",
      "20/20 [==============================] - 0s 22ms/step - loss: 0.5707 - accuracy: 0.7188 - auc_29: 0.6577\n",
      "5/5 [==============================] - 0s 9ms/step\n"
     ]
    },
    {
     "name": "stderr",
     "output_type": "stream",
     "text": [
      "WARNING:absl:At this time, the v2.11+ optimizer `tf.keras.optimizers.Adam` runs slowly on M1/M2 Macs, please use the legacy Keras optimizer instead, located at `tf.keras.optimizers.legacy.Adam`.\n"
     ]
    },
    {
     "name": "stdout",
     "output_type": "stream",
     "text": [
      "Epoch 1/10\n",
      "20/20 [==============================] - 2s 36ms/step - loss: 0.6747 - accuracy: 0.6359 - auc_30: 0.5332\n",
      "Epoch 2/10\n",
      "20/20 [==============================] - 1s 26ms/step - loss: 0.6194 - accuracy: 0.7109 - auc_30: 0.5726\n",
      "Epoch 3/10\n",
      "20/20 [==============================] - 0s 22ms/step - loss: 0.5979 - accuracy: 0.7125 - auc_30: 0.6099\n",
      "Epoch 4/10\n",
      "20/20 [==============================] - 0s 22ms/step - loss: 0.5928 - accuracy: 0.7172 - auc_30: 0.6197\n",
      "Epoch 5/10\n",
      "20/20 [==============================] - 0s 22ms/step - loss: 0.5882 - accuracy: 0.7109 - auc_30: 0.6457\n",
      "Epoch 6/10\n",
      "20/20 [==============================] - 0s 22ms/step - loss: 0.5866 - accuracy: 0.7188 - auc_30: 0.6437\n",
      "Epoch 7/10\n",
      "20/20 [==============================] - 0s 22ms/step - loss: 0.5888 - accuracy: 0.7078 - auc_30: 0.6346\n",
      "Epoch 8/10\n",
      "20/20 [==============================] - 0s 22ms/step - loss: 0.5824 - accuracy: 0.7172 - auc_30: 0.6436\n",
      "Epoch 9/10\n",
      "20/20 [==============================] - 0s 22ms/step - loss: 0.5779 - accuracy: 0.7250 - auc_30: 0.6595\n",
      "Epoch 10/10\n",
      "20/20 [==============================] - 0s 21ms/step - loss: 0.5824 - accuracy: 0.7000 - auc_30: 0.6527\n",
      "5/5 [==============================] - 0s 10ms/step\n"
     ]
    },
    {
     "name": "stderr",
     "output_type": "stream",
     "text": [
      "WARNING:absl:At this time, the v2.11+ optimizer `tf.keras.optimizers.Adam` runs slowly on M1/M2 Macs, please use the legacy Keras optimizer instead, located at `tf.keras.optimizers.legacy.Adam`.\n"
     ]
    },
    {
     "name": "stdout",
     "output_type": "stream",
     "text": [
      "Epoch 1/10\n",
      "20/20 [==============================] - 2s 41ms/step - loss: 0.7323 - accuracy: 0.6547 - auc_31: 0.5052\n",
      "Epoch 2/10\n",
      "20/20 [==============================] - 1s 26ms/step - loss: 0.6381 - accuracy: 0.7016 - auc_31: 0.5646\n",
      "Epoch 3/10\n",
      "20/20 [==============================] - 1s 25ms/step - loss: 0.6066 - accuracy: 0.7188 - auc_31: 0.6229\n",
      "Epoch 4/10\n",
      "20/20 [==============================] - 0s 24ms/step - loss: 0.5889 - accuracy: 0.7281 - auc_31: 0.6670\n",
      "Epoch 5/10\n",
      "20/20 [==============================] - 0s 23ms/step - loss: 0.5952 - accuracy: 0.7250 - auc_31: 0.6464\n",
      "Epoch 6/10\n",
      "20/20 [==============================] - 0s 24ms/step - loss: 0.6012 - accuracy: 0.7250 - auc_31: 0.6312\n",
      "Epoch 7/10\n",
      "20/20 [==============================] - 0s 24ms/step - loss: 0.5999 - accuracy: 0.7141 - auc_31: 0.6371\n",
      "Epoch 8/10\n",
      "20/20 [==============================] - 0s 24ms/step - loss: 0.5945 - accuracy: 0.7219 - auc_31: 0.6527\n",
      "Epoch 9/10\n",
      "20/20 [==============================] - 0s 24ms/step - loss: 0.5869 - accuracy: 0.7219 - auc_31: 0.6599\n",
      "Epoch 10/10\n",
      "20/20 [==============================] - 0s 23ms/step - loss: 0.5964 - accuracy: 0.7156 - auc_31: 0.6409\n",
      "5/5 [==============================] - 0s 11ms/step\n"
     ]
    },
    {
     "name": "stderr",
     "output_type": "stream",
     "text": [
      "WARNING:absl:At this time, the v2.11+ optimizer `tf.keras.optimizers.Adam` runs slowly on M1/M2 Macs, please use the legacy Keras optimizer instead, located at `tf.keras.optimizers.legacy.Adam`.\n"
     ]
    },
    {
     "name": "stdout",
     "output_type": "stream",
     "text": [
      "Epoch 1/10\n"
     ]
    },
    {
     "name": "stderr",
     "output_type": "stream",
     "text": [
      "2024-03-27 20:22:40.745635: E tensorflow/core/grappler/optimizers/meta_optimizer.cc:961] model_pruner failed: INVALID_ARGUMENT: Graph does not contain terminal node Adam/AssignAddVariableOp.\n"
     ]
    },
    {
     "name": "stdout",
     "output_type": "stream",
     "text": [
      "20/20 [==============================] - 2s 44ms/step - loss: 0.7507 - accuracy: 0.6656 - auc_32: 0.5238\n",
      "Epoch 2/10\n",
      "20/20 [==============================] - 0s 25ms/step - loss: 0.6705 - accuracy: 0.6953 - auc_32: 0.5544\n",
      "Epoch 3/10\n",
      "20/20 [==============================] - 0s 21ms/step - loss: 0.6304 - accuracy: 0.7094 - auc_32: 0.5925\n",
      "Epoch 4/10\n",
      "20/20 [==============================] - 0s 21ms/step - loss: 0.6266 - accuracy: 0.7078 - auc_32: 0.5913\n",
      "Epoch 5/10\n",
      "20/20 [==============================] - 0s 21ms/step - loss: 0.6146 - accuracy: 0.7063 - auc_32: 0.6132\n",
      "Epoch 6/10\n",
      "20/20 [==============================] - 0s 21ms/step - loss: 0.6102 - accuracy: 0.7188 - auc_32: 0.6170\n",
      "Epoch 7/10\n",
      "20/20 [==============================] - 0s 22ms/step - loss: 0.6131 - accuracy: 0.7109 - auc_32: 0.6125\n",
      "Epoch 8/10\n",
      "20/20 [==============================] - 0s 22ms/step - loss: 0.5996 - accuracy: 0.7047 - auc_32: 0.6427\n",
      "Epoch 9/10\n",
      "20/20 [==============================] - 0s 22ms/step - loss: 0.6136 - accuracy: 0.6969 - auc_32: 0.6044\n",
      "Epoch 10/10\n",
      "20/20 [==============================] - 0s 22ms/step - loss: 0.6044 - accuracy: 0.7125 - auc_32: 0.6238\n",
      "5/5 [==============================] - 0s 9ms/step\n"
     ]
    },
    {
     "name": "stderr",
     "output_type": "stream",
     "text": [
      "WARNING:absl:At this time, the v2.11+ optimizer `tf.keras.optimizers.Adam` runs slowly on M1/M2 Macs, please use the legacy Keras optimizer instead, located at `tf.keras.optimizers.legacy.Adam`.\n"
     ]
    },
    {
     "name": "stdout",
     "output_type": "stream",
     "text": [
      "Epoch 1/10\n",
      "20/20 [==============================] - 2s 48ms/step - loss: 0.7017 - accuracy: 0.6828 - auc_33: 0.5608\n",
      "Epoch 2/10\n",
      "20/20 [==============================] - 1s 28ms/step - loss: 0.6248 - accuracy: 0.7078 - auc_33: 0.6141\n",
      "Epoch 3/10\n",
      "20/20 [==============================] - 0s 24ms/step - loss: 0.6250 - accuracy: 0.7141 - auc_33: 0.6078\n",
      "Epoch 4/10\n",
      "20/20 [==============================] - 0s 24ms/step - loss: 0.6148 - accuracy: 0.7000 - auc_33: 0.6314\n",
      "Epoch 5/10\n",
      "20/20 [==============================] - 0s 24ms/step - loss: 0.6236 - accuracy: 0.7000 - auc_33: 0.6155\n",
      "Epoch 6/10\n",
      "20/20 [==============================] - 0s 25ms/step - loss: 0.6079 - accuracy: 0.6984 - auc_33: 0.6342\n",
      "Epoch 7/10\n",
      "20/20 [==============================] - 1s 25ms/step - loss: 0.6104 - accuracy: 0.7078 - auc_33: 0.6272\n",
      "Epoch 8/10\n",
      "20/20 [==============================] - 1s 25ms/step - loss: 0.5960 - accuracy: 0.7219 - auc_33: 0.6543\n",
      "Epoch 9/10\n",
      "20/20 [==============================] - 0s 25ms/step - loss: 0.5891 - accuracy: 0.7172 - auc_33: 0.6687\n",
      "Epoch 10/10\n",
      "20/20 [==============================] - 1s 25ms/step - loss: 0.5979 - accuracy: 0.7109 - auc_33: 0.6448\n",
      "5/5 [==============================] - 0s 10ms/step\n"
     ]
    },
    {
     "name": "stderr",
     "output_type": "stream",
     "text": [
      "WARNING:absl:At this time, the v2.11+ optimizer `tf.keras.optimizers.Adam` runs slowly on M1/M2 Macs, please use the legacy Keras optimizer instead, located at `tf.keras.optimizers.legacy.Adam`.\n"
     ]
    },
    {
     "name": "stdout",
     "output_type": "stream",
     "text": [
      "Epoch 1/10\n",
      "20/20 [==============================] - 2s 47ms/step - loss: 0.6989 - accuracy: 0.6828 - auc_34: 0.5420\n",
      "Epoch 2/10\n",
      "20/20 [==============================] - 1s 26ms/step - loss: 0.6331 - accuracy: 0.7031 - auc_34: 0.5976\n",
      "Epoch 3/10\n",
      "20/20 [==============================] - 1s 26ms/step - loss: 0.6191 - accuracy: 0.6906 - auc_34: 0.6187\n",
      "Epoch 4/10\n",
      "20/20 [==============================] - 0s 24ms/step - loss: 0.6230 - accuracy: 0.6969 - auc_34: 0.5951\n",
      "Epoch 5/10\n",
      "20/20 [==============================] - 0s 24ms/step - loss: 0.6175 - accuracy: 0.6969 - auc_34: 0.6061\n",
      "Epoch 6/10\n",
      "20/20 [==============================] - 0s 24ms/step - loss: 0.6120 - accuracy: 0.7156 - auc_34: 0.6103\n",
      "Epoch 7/10\n",
      "20/20 [==============================] - 0s 24ms/step - loss: 0.5945 - accuracy: 0.7188 - auc_34: 0.6561\n",
      "Epoch 8/10\n",
      "20/20 [==============================] - 0s 24ms/step - loss: 0.5998 - accuracy: 0.7188 - auc_34: 0.6398\n",
      "Epoch 9/10\n",
      "20/20 [==============================] - 0s 24ms/step - loss: 0.6067 - accuracy: 0.7078 - auc_34: 0.6250\n",
      "Epoch 10/10\n",
      "20/20 [==============================] - 0s 24ms/step - loss: 0.5920 - accuracy: 0.7203 - auc_34: 0.6534\n",
      "5/5 [==============================] - 0s 12ms/step\n"
     ]
    },
    {
     "name": "stderr",
     "output_type": "stream",
     "text": [
      "WARNING:absl:At this time, the v2.11+ optimizer `tf.keras.optimizers.Adam` runs slowly on M1/M2 Macs, please use the legacy Keras optimizer instead, located at `tf.keras.optimizers.legacy.Adam`.\n"
     ]
    },
    {
     "name": "stdout",
     "output_type": "stream",
     "text": [
      "Epoch 1/10\n",
      "20/20 [==============================] - 2s 48ms/step - loss: 0.7088 - accuracy: 0.6672 - auc_35: 0.5547\n",
      "Epoch 2/10\n",
      "20/20 [==============================] - 1s 27ms/step - loss: 0.6557 - accuracy: 0.6922 - auc_35: 0.5654\n",
      "Epoch 3/10\n",
      "20/20 [==============================] - 0s 23ms/step - loss: 0.6255 - accuracy: 0.7188 - auc_35: 0.6158\n",
      "Epoch 4/10\n",
      "20/20 [==============================] - 0s 23ms/step - loss: 0.6107 - accuracy: 0.7000 - auc_35: 0.6497\n",
      "Epoch 5/10\n",
      "20/20 [==============================] - 0s 23ms/step - loss: 0.6162 - accuracy: 0.7172 - auc_35: 0.6286\n",
      "Epoch 6/10\n",
      "20/20 [==============================] - 0s 23ms/step - loss: 0.6106 - accuracy: 0.6953 - auc_35: 0.6462\n",
      "Epoch 7/10\n",
      "20/20 [==============================] - 0s 23ms/step - loss: 0.6094 - accuracy: 0.7156 - auc_35: 0.6465\n",
      "Epoch 8/10\n",
      "20/20 [==============================] - 0s 23ms/step - loss: 0.6229 - accuracy: 0.7016 - auc_35: 0.6176\n",
      "Epoch 9/10\n",
      "20/20 [==============================] - 0s 23ms/step - loss: 0.6049 - accuracy: 0.7156 - auc_35: 0.6464\n",
      "Epoch 10/10\n",
      "20/20 [==============================] - 0s 22ms/step - loss: 0.5971 - accuracy: 0.7250 - auc_35: 0.6584\n",
      "5/5 [==============================] - 0s 12ms/step\n"
     ]
    },
    {
     "name": "stderr",
     "output_type": "stream",
     "text": [
      "WARNING:absl:At this time, the v2.11+ optimizer `tf.keras.optimizers.Adam` runs slowly on M1/M2 Macs, please use the legacy Keras optimizer instead, located at `tf.keras.optimizers.legacy.Adam`.\n"
     ]
    },
    {
     "name": "stdout",
     "output_type": "stream",
     "text": [
      "Epoch 1/10\n",
      "20/20 [==============================] - 2s 40ms/step - loss: 0.7134 - accuracy: 0.6578 - auc_36: 0.4831\n",
      "Epoch 2/10\n",
      "20/20 [==============================] - 0s 22ms/step - loss: 0.6205 - accuracy: 0.7109 - auc_36: 0.5713\n",
      "Epoch 3/10\n",
      "20/20 [==============================] - 0s 24ms/step - loss: 0.6003 - accuracy: 0.7156 - auc_36: 0.6200\n",
      "Epoch 4/10\n",
      "20/20 [==============================] - 0s 22ms/step - loss: 0.5984 - accuracy: 0.7203 - auc_36: 0.6305\n",
      "Epoch 5/10\n",
      "20/20 [==============================] - 0s 22ms/step - loss: 0.5965 - accuracy: 0.7094 - auc_36: 0.6349\n",
      "Epoch 6/10\n",
      "20/20 [==============================] - 0s 21ms/step - loss: 0.5953 - accuracy: 0.7188 - auc_36: 0.6388\n",
      "Epoch 7/10\n",
      "20/20 [==============================] - 0s 22ms/step - loss: 0.5850 - accuracy: 0.7344 - auc_36: 0.6478\n",
      "Epoch 8/10\n",
      "20/20 [==============================] - 0s 22ms/step - loss: 0.5864 - accuracy: 0.7172 - auc_36: 0.6619\n",
      "Epoch 9/10\n",
      "20/20 [==============================] - 0s 22ms/step - loss: 0.5859 - accuracy: 0.7203 - auc_36: 0.6537\n",
      "Epoch 10/10\n",
      "20/20 [==============================] - 0s 22ms/step - loss: 0.5809 - accuracy: 0.7219 - auc_36: 0.6637\n",
      "5/5 [==============================] - 0s 10ms/step\n"
     ]
    },
    {
     "name": "stderr",
     "output_type": "stream",
     "text": [
      "WARNING:absl:At this time, the v2.11+ optimizer `tf.keras.optimizers.Adam` runs slowly on M1/M2 Macs, please use the legacy Keras optimizer instead, located at `tf.keras.optimizers.legacy.Adam`.\n"
     ]
    },
    {
     "name": "stdout",
     "output_type": "stream",
     "text": [
      "Epoch 1/10\n",
      "20/20 [==============================] - 2s 40ms/step - loss: 0.6949 - accuracy: 0.6359 - auc_37: 0.4661\n",
      "Epoch 2/10\n",
      "20/20 [==============================] - 1s 25ms/step - loss: 0.6313 - accuracy: 0.7047 - auc_37: 0.5334\n",
      "Epoch 3/10\n",
      "20/20 [==============================] - 0s 24ms/step - loss: 0.6136 - accuracy: 0.6953 - auc_37: 0.5502\n",
      "Epoch 4/10\n",
      "20/20 [==============================] - 0s 23ms/step - loss: 0.6015 - accuracy: 0.7156 - auc_37: 0.5773\n",
      "Epoch 5/10\n",
      "20/20 [==============================] - 0s 22ms/step - loss: 0.5968 - accuracy: 0.7047 - auc_37: 0.6045\n",
      "Epoch 6/10\n",
      "20/20 [==============================] - 0s 22ms/step - loss: 0.5963 - accuracy: 0.6938 - auc_37: 0.6096\n",
      "Epoch 7/10\n",
      "20/20 [==============================] - 0s 23ms/step - loss: 0.5960 - accuracy: 0.7031 - auc_37: 0.6124\n",
      "Epoch 8/10\n",
      "20/20 [==============================] - 0s 23ms/step - loss: 0.5981 - accuracy: 0.7047 - auc_37: 0.5976\n",
      "Epoch 9/10\n",
      "20/20 [==============================] - 0s 23ms/step - loss: 0.5940 - accuracy: 0.7094 - auc_37: 0.6055\n",
      "Epoch 10/10\n",
      "20/20 [==============================] - 0s 23ms/step - loss: 0.5897 - accuracy: 0.7172 - auc_37: 0.6163\n",
      "5/5 [==============================] - 0s 9ms/step\n"
     ]
    },
    {
     "name": "stderr",
     "output_type": "stream",
     "text": [
      "WARNING:absl:At this time, the v2.11+ optimizer `tf.keras.optimizers.Adam` runs slowly on M1/M2 Macs, please use the legacy Keras optimizer instead, located at `tf.keras.optimizers.legacy.Adam`.\n"
     ]
    },
    {
     "name": "stdout",
     "output_type": "stream",
     "text": [
      "Epoch 1/10\n",
      "20/20 [==============================] - 2s 42ms/step - loss: 0.7006 - accuracy: 0.6828 - auc_38: 0.5432\n",
      "Epoch 2/10\n",
      "20/20 [==============================] - 1s 27ms/step - loss: 0.6294 - accuracy: 0.6859 - auc_38: 0.6196\n",
      "Epoch 3/10\n",
      "20/20 [==============================] - 0s 23ms/step - loss: 0.6232 - accuracy: 0.6938 - auc_38: 0.6271\n",
      "Epoch 4/10\n",
      "20/20 [==============================] - 1s 25ms/step - loss: 0.6191 - accuracy: 0.7016 - auc_38: 0.6152\n",
      "Epoch 5/10\n",
      "20/20 [==============================] - 0s 24ms/step - loss: 0.6066 - accuracy: 0.7125 - auc_38: 0.6436\n",
      "Epoch 6/10\n",
      "20/20 [==============================] - 0s 25ms/step - loss: 0.6195 - accuracy: 0.6906 - auc_38: 0.6225\n",
      "Epoch 7/10\n",
      "20/20 [==============================] - 0s 24ms/step - loss: 0.6063 - accuracy: 0.6953 - auc_38: 0.6516\n",
      "Epoch 8/10\n",
      "20/20 [==============================] - 0s 25ms/step - loss: 0.6068 - accuracy: 0.7063 - auc_38: 0.6463\n",
      "Epoch 9/10\n",
      "20/20 [==============================] - 0s 24ms/step - loss: 0.6007 - accuracy: 0.7156 - auc_38: 0.6462\n",
      "Epoch 10/10\n",
      "20/20 [==============================] - 0s 24ms/step - loss: 0.6069 - accuracy: 0.7125 - auc_38: 0.6390\n",
      "5/5 [==============================] - 0s 11ms/step\n"
     ]
    },
    {
     "name": "stderr",
     "output_type": "stream",
     "text": [
      "WARNING:absl:At this time, the v2.11+ optimizer `tf.keras.optimizers.Adam` runs slowly on M1/M2 Macs, please use the legacy Keras optimizer instead, located at `tf.keras.optimizers.legacy.Adam`.\n"
     ]
    },
    {
     "name": "stdout",
     "output_type": "stream",
     "text": [
      "Epoch 1/10\n",
      "20/20 [==============================] - 2s 46ms/step - loss: 0.7665 - accuracy: 0.6609 - auc_39: 0.4901\n",
      "Epoch 2/10\n",
      "20/20 [==============================] - 1s 27ms/step - loss: 0.6379 - accuracy: 0.6969 - auc_39: 0.5983\n",
      "Epoch 3/10\n",
      "20/20 [==============================] - 0s 24ms/step - loss: 0.6190 - accuracy: 0.7047 - auc_39: 0.6361\n",
      "Epoch 4/10\n",
      "20/20 [==============================] - 0s 25ms/step - loss: 0.6223 - accuracy: 0.6906 - auc_39: 0.6282\n",
      "Epoch 5/10\n",
      "20/20 [==============================] - 0s 24ms/step - loss: 0.6246 - accuracy: 0.6938 - auc_39: 0.6255\n",
      "Epoch 6/10\n",
      "20/20 [==============================] - 0s 24ms/step - loss: 0.6033 - accuracy: 0.7063 - auc_39: 0.6603\n",
      "Epoch 7/10\n",
      "20/20 [==============================] - 0s 24ms/step - loss: 0.6064 - accuracy: 0.7094 - auc_39: 0.6445\n",
      "Epoch 8/10\n",
      "20/20 [==============================] - 1s 25ms/step - loss: 0.6001 - accuracy: 0.7125 - auc_39: 0.6592\n",
      "Epoch 9/10\n",
      "20/20 [==============================] - 0s 25ms/step - loss: 0.5951 - accuracy: 0.7000 - auc_39: 0.6679\n",
      "Epoch 10/10\n",
      "20/20 [==============================] - 0s 24ms/step - loss: 0.6062 - accuracy: 0.7219 - auc_39: 0.6426\n",
      "5/5 [==============================] - 0s 11ms/step\n"
     ]
    },
    {
     "name": "stderr",
     "output_type": "stream",
     "text": [
      "WARNING:absl:At this time, the v2.11+ optimizer `tf.keras.optimizers.Adam` runs slowly on M1/M2 Macs, please use the legacy Keras optimizer instead, located at `tf.keras.optimizers.legacy.Adam`.\n"
     ]
    },
    {
     "name": "stdout",
     "output_type": "stream",
     "text": [
      "Epoch 1/10\n",
      "20/20 [==============================] - 2s 44ms/step - loss: 0.6457 - accuracy: 0.6672 - auc_40: 0.5599\n",
      "Epoch 2/10\n",
      "20/20 [==============================] - 1s 25ms/step - loss: 0.6301 - accuracy: 0.6938 - auc_40: 0.5392\n",
      "Epoch 3/10\n",
      "20/20 [==============================] - 0s 24ms/step - loss: 0.6070 - accuracy: 0.6922 - auc_40: 0.5775\n",
      "Epoch 4/10\n",
      "20/20 [==============================] - 0s 23ms/step - loss: 0.6112 - accuracy: 0.6828 - auc_40: 0.5720\n",
      "Epoch 5/10\n",
      "20/20 [==============================] - 0s 23ms/step - loss: 0.5982 - accuracy: 0.6969 - auc_40: 0.5951\n",
      "Epoch 6/10\n",
      "20/20 [==============================] - 0s 23ms/step - loss: 0.5975 - accuracy: 0.7078 - auc_40: 0.6016\n",
      "Epoch 7/10\n",
      "20/20 [==============================] - 0s 23ms/step - loss: 0.5913 - accuracy: 0.7078 - auc_40: 0.6133\n",
      "Epoch 8/10\n",
      "20/20 [==============================] - 0s 23ms/step - loss: 0.5886 - accuracy: 0.7094 - auc_40: 0.6148\n",
      "Epoch 9/10\n",
      "20/20 [==============================] - 0s 23ms/step - loss: 0.5803 - accuracy: 0.7156 - auc_40: 0.6367\n",
      "Epoch 10/10\n",
      "20/20 [==============================] - 0s 23ms/step - loss: 0.5914 - accuracy: 0.7156 - auc_40: 0.6162\n",
      "5/5 [==============================] - 0s 9ms/step\n"
     ]
    },
    {
     "name": "stderr",
     "output_type": "stream",
     "text": [
      "WARNING:absl:At this time, the v2.11+ optimizer `tf.keras.optimizers.Adam` runs slowly on M1/M2 Macs, please use the legacy Keras optimizer instead, located at `tf.keras.optimizers.legacy.Adam`.\n"
     ]
    },
    {
     "name": "stdout",
     "output_type": "stream",
     "text": [
      "Epoch 1/10\n",
      "20/20 [==============================] - 2s 44ms/step - loss: 0.6832 - accuracy: 0.6531 - auc_41: 0.5502\n",
      "Epoch 2/10\n",
      "20/20 [==============================] - 1s 28ms/step - loss: 0.6255 - accuracy: 0.7141 - auc_41: 0.5990\n",
      "Epoch 3/10\n",
      "20/20 [==============================] - 0s 23ms/step - loss: 0.6049 - accuracy: 0.7063 - auc_41: 0.6220\n",
      "Epoch 4/10\n",
      "20/20 [==============================] - 0s 23ms/step - loss: 0.6078 - accuracy: 0.6953 - auc_41: 0.6182\n",
      "Epoch 5/10\n",
      "20/20 [==============================] - 0s 22ms/step - loss: 0.6030 - accuracy: 0.7141 - auc_41: 0.6139\n",
      "Epoch 6/10\n",
      "20/20 [==============================] - 0s 24ms/step - loss: 0.5906 - accuracy: 0.7203 - auc_41: 0.6491\n",
      "Epoch 7/10\n",
      "20/20 [==============================] - 0s 23ms/step - loss: 0.5954 - accuracy: 0.7078 - auc_41: 0.6357\n",
      "Epoch 8/10\n",
      "20/20 [==============================] - 0s 21ms/step - loss: 0.5886 - accuracy: 0.7094 - auc_41: 0.6443\n",
      "Epoch 9/10\n",
      "20/20 [==============================] - 0s 22ms/step - loss: 0.5816 - accuracy: 0.7125 - auc_41: 0.6591\n",
      "Epoch 10/10\n",
      "20/20 [==============================] - 0s 22ms/step - loss: 0.5833 - accuracy: 0.7094 - auc_41: 0.6478\n",
      "5/5 [==============================] - 0s 11ms/step\n"
     ]
    },
    {
     "name": "stderr",
     "output_type": "stream",
     "text": [
      "WARNING:absl:At this time, the v2.11+ optimizer `tf.keras.optimizers.Adam` runs slowly on M1/M2 Macs, please use the legacy Keras optimizer instead, located at `tf.keras.optimizers.legacy.Adam`.\n"
     ]
    },
    {
     "name": "stdout",
     "output_type": "stream",
     "text": [
      "Epoch 1/10\n"
     ]
    },
    {
     "name": "stderr",
     "output_type": "stream",
     "text": [
      "2024-03-27 20:23:45.516828: E tensorflow/core/grappler/optimizers/meta_optimizer.cc:961] model_pruner failed: INVALID_ARGUMENT: Graph does not contain terminal node Adam/AssignAddVariableOp.\n"
     ]
    },
    {
     "name": "stdout",
     "output_type": "stream",
     "text": [
      "20/20 [==============================] - 2s 48ms/step - loss: 0.7201 - accuracy: 0.6125 - auc_42: 0.4773\n",
      "Epoch 2/10\n",
      "20/20 [==============================] - 1s 24ms/step - loss: 0.6522 - accuracy: 0.7016 - auc_42: 0.5168\n",
      "Epoch 3/10\n",
      "20/20 [==============================] - 0s 23ms/step - loss: 0.6257 - accuracy: 0.7078 - auc_42: 0.5384\n",
      "Epoch 4/10\n",
      "20/20 [==============================] - 0s 23ms/step - loss: 0.6219 - accuracy: 0.6953 - auc_42: 0.5446\n",
      "Epoch 5/10\n",
      "20/20 [==============================] - 0s 23ms/step - loss: 0.6178 - accuracy: 0.6984 - auc_42: 0.5410\n",
      "Epoch 6/10\n",
      "20/20 [==============================] - 0s 23ms/step - loss: 0.6042 - accuracy: 0.6984 - auc_42: 0.5774\n",
      "Epoch 7/10\n",
      "20/20 [==============================] - 0s 24ms/step - loss: 0.5964 - accuracy: 0.7234 - auc_42: 0.5898\n",
      "Epoch 8/10\n",
      "20/20 [==============================] - 0s 23ms/step - loss: 0.5956 - accuracy: 0.7188 - auc_42: 0.5873\n",
      "Epoch 9/10\n",
      "20/20 [==============================] - 0s 24ms/step - loss: 0.6012 - accuracy: 0.6984 - auc_42: 0.5811\n",
      "Epoch 10/10\n",
      "20/20 [==============================] - 0s 24ms/step - loss: 0.6071 - accuracy: 0.7063 - auc_42: 0.5654\n",
      "5/5 [==============================] - 0s 14ms/step\n"
     ]
    },
    {
     "name": "stderr",
     "output_type": "stream",
     "text": [
      "WARNING:absl:At this time, the v2.11+ optimizer `tf.keras.optimizers.Adam` runs slowly on M1/M2 Macs, please use the legacy Keras optimizer instead, located at `tf.keras.optimizers.legacy.Adam`.\n"
     ]
    },
    {
     "name": "stdout",
     "output_type": "stream",
     "text": [
      "Epoch 1/10\n",
      "20/20 [==============================] - 2s 51ms/step - loss: 0.7658 - accuracy: 0.5703 - auc_43: 0.4674\n",
      "Epoch 2/10\n",
      "20/20 [==============================] - 0s 24ms/step - loss: 0.7103 - accuracy: 0.6656 - auc_43: 0.4503\n",
      "Epoch 3/10\n",
      "20/20 [==============================] - 0s 23ms/step - loss: 0.6640 - accuracy: 0.6625 - auc_43: 0.5097\n",
      "Epoch 4/10\n",
      "20/20 [==============================] - 0s 23ms/step - loss: 0.6354 - accuracy: 0.7031 - auc_43: 0.5368\n",
      "Epoch 5/10\n",
      "20/20 [==============================] - 0s 23ms/step - loss: 0.6558 - accuracy: 0.6687 - auc_43: 0.5169\n",
      "Epoch 6/10\n",
      "20/20 [==============================] - 0s 23ms/step - loss: 0.6313 - accuracy: 0.6859 - auc_43: 0.5460\n",
      "Epoch 7/10\n",
      "20/20 [==============================] - 0s 23ms/step - loss: 0.6208 - accuracy: 0.6969 - auc_43: 0.5658\n",
      "Epoch 8/10\n",
      "20/20 [==============================] - 0s 23ms/step - loss: 0.6034 - accuracy: 0.7125 - auc_43: 0.6047\n",
      "Epoch 9/10\n",
      "20/20 [==============================] - 0s 22ms/step - loss: 0.6032 - accuracy: 0.6984 - auc_43: 0.6034\n",
      "Epoch 10/10\n",
      "20/20 [==============================] - 0s 22ms/step - loss: 0.6238 - accuracy: 0.6891 - auc_43: 0.5513\n",
      "5/5 [==============================] - 0s 11ms/step\n"
     ]
    },
    {
     "name": "stderr",
     "output_type": "stream",
     "text": [
      "WARNING:absl:At this time, the v2.11+ optimizer `tf.keras.optimizers.Adam` runs slowly on M1/M2 Macs, please use the legacy Keras optimizer instead, located at `tf.keras.optimizers.legacy.Adam`.\n"
     ]
    },
    {
     "name": "stdout",
     "output_type": "stream",
     "text": [
      "Epoch 1/10\n",
      "20/20 [==============================] - 2s 47ms/step - loss: 0.7257 - accuracy: 0.6250 - auc_44: 0.5342\n",
      "Epoch 2/10\n",
      "20/20 [==============================] - 0s 23ms/step - loss: 0.6957 - accuracy: 0.6781 - auc_44: 0.5024\n",
      "Epoch 3/10\n",
      "20/20 [==============================] - 0s 23ms/step - loss: 0.6486 - accuracy: 0.6781 - auc_44: 0.5627\n",
      "Epoch 4/10\n",
      "20/20 [==============================] - 0s 22ms/step - loss: 0.6323 - accuracy: 0.6875 - auc_44: 0.5828\n",
      "Epoch 5/10\n",
      "20/20 [==============================] - 0s 22ms/step - loss: 0.6349 - accuracy: 0.6844 - auc_44: 0.5650\n",
      "Epoch 6/10\n",
      "20/20 [==============================] - 0s 22ms/step - loss: 0.6192 - accuracy: 0.6828 - auc_44: 0.5899\n",
      "Epoch 7/10\n",
      "20/20 [==============================] - 0s 22ms/step - loss: 0.6361 - accuracy: 0.6781 - auc_44: 0.5583\n",
      "Epoch 8/10\n",
      "20/20 [==============================] - 0s 23ms/step - loss: 0.6120 - accuracy: 0.7047 - auc_44: 0.6120\n",
      "Epoch 9/10\n",
      "20/20 [==============================] - 0s 22ms/step - loss: 0.6123 - accuracy: 0.7094 - auc_44: 0.5875\n",
      "Epoch 10/10\n",
      "20/20 [==============================] - 0s 23ms/step - loss: 0.6048 - accuracy: 0.7219 - auc_44: 0.6081\n",
      "5/5 [==============================] - 0s 12ms/step\n"
     ]
    },
    {
     "name": "stderr",
     "output_type": "stream",
     "text": [
      "WARNING:absl:At this time, the v2.11+ optimizer `tf.keras.optimizers.Adam` runs slowly on M1/M2 Macs, please use the legacy Keras optimizer instead, located at `tf.keras.optimizers.legacy.Adam`.\n"
     ]
    },
    {
     "name": "stdout",
     "output_type": "stream",
     "text": [
      "Epoch 1/10\n",
      "20/20 [==============================] - 2s 46ms/step - loss: 0.8197 - accuracy: 0.6172 - auc_45: 0.5029\n",
      "Epoch 2/10\n",
      "20/20 [==============================] - 1s 26ms/step - loss: 0.7188 - accuracy: 0.6922 - auc_45: 0.5495\n",
      "Epoch 3/10\n",
      "20/20 [==============================] - 0s 23ms/step - loss: 0.6728 - accuracy: 0.6516 - auc_45: 0.5497\n",
      "Epoch 4/10\n",
      "20/20 [==============================] - 0s 22ms/step - loss: 0.6246 - accuracy: 0.6906 - auc_45: 0.6105\n",
      "Epoch 5/10\n",
      "20/20 [==============================] - 0s 22ms/step - loss: 0.6300 - accuracy: 0.7047 - auc_45: 0.5910\n",
      "Epoch 6/10\n",
      "20/20 [==============================] - 0s 22ms/step - loss: 0.6321 - accuracy: 0.6953 - auc_45: 0.5643\n",
      "Epoch 7/10\n",
      "20/20 [==============================] - 0s 22ms/step - loss: 0.6223 - accuracy: 0.6953 - auc_45: 0.5777\n",
      "Epoch 8/10\n",
      "20/20 [==============================] - 0s 22ms/step - loss: 0.5877 - accuracy: 0.7094 - auc_45: 0.6517\n",
      "Epoch 9/10\n",
      "20/20 [==============================] - 0s 23ms/step - loss: 0.6083 - accuracy: 0.7047 - auc_45: 0.6103\n",
      "Epoch 10/10\n",
      "20/20 [==============================] - 0s 22ms/step - loss: 0.5994 - accuracy: 0.7109 - auc_45: 0.6247\n",
      "5/5 [==============================] - 0s 11ms/step\n"
     ]
    },
    {
     "name": "stderr",
     "output_type": "stream",
     "text": [
      "WARNING:absl:At this time, the v2.11+ optimizer `tf.keras.optimizers.Adam` runs slowly on M1/M2 Macs, please use the legacy Keras optimizer instead, located at `tf.keras.optimizers.legacy.Adam`.\n"
     ]
    },
    {
     "name": "stdout",
     "output_type": "stream",
     "text": [
      "Epoch 1/10\n",
      "20/20 [==============================] - 2s 42ms/step - loss: 0.7557 - accuracy: 0.6500 - auc_46: 0.4894\n",
      "Epoch 2/10\n",
      "20/20 [==============================] - 1s 27ms/step - loss: 0.6508 - accuracy: 0.7016 - auc_46: 0.5575\n",
      "Epoch 3/10\n",
      "20/20 [==============================] - 0s 24ms/step - loss: 0.6725 - accuracy: 0.6516 - auc_46: 0.5168\n",
      "Epoch 4/10\n",
      "20/20 [==============================] - 0s 22ms/step - loss: 0.6455 - accuracy: 0.6875 - auc_46: 0.5449\n",
      "Epoch 5/10\n",
      "20/20 [==============================] - 0s 24ms/step - loss: 0.6176 - accuracy: 0.7016 - auc_46: 0.5802\n",
      "Epoch 6/10\n",
      "20/20 [==============================] - 0s 22ms/step - loss: 0.6191 - accuracy: 0.7094 - auc_46: 0.5670\n",
      "Epoch 7/10\n",
      "20/20 [==============================] - 0s 22ms/step - loss: 0.6021 - accuracy: 0.7172 - auc_46: 0.6051\n",
      "Epoch 8/10\n",
      "20/20 [==============================] - 0s 22ms/step - loss: 0.6010 - accuracy: 0.7109 - auc_46: 0.6117\n",
      "Epoch 9/10\n",
      "20/20 [==============================] - 0s 22ms/step - loss: 0.6003 - accuracy: 0.7203 - auc_46: 0.6049\n",
      "Epoch 10/10\n",
      "20/20 [==============================] - 0s 22ms/step - loss: 0.5860 - accuracy: 0.7172 - auc_46: 0.6388\n",
      "5/5 [==============================] - 0s 11ms/step\n"
     ]
    },
    {
     "name": "stderr",
     "output_type": "stream",
     "text": [
      "WARNING:absl:At this time, the v2.11+ optimizer `tf.keras.optimizers.Adam` runs slowly on M1/M2 Macs, please use the legacy Keras optimizer instead, located at `tf.keras.optimizers.legacy.Adam`.\n"
     ]
    },
    {
     "name": "stdout",
     "output_type": "stream",
     "text": [
      "Epoch 1/10\n",
      "20/20 [==============================] - 2s 45ms/step - loss: 1.0042 - accuracy: 0.5938 - auc_47: 0.4387\n",
      "Epoch 2/10\n",
      "20/20 [==============================] - 1s 28ms/step - loss: 0.8087 - accuracy: 0.6500 - auc_47: 0.4623\n",
      "Epoch 3/10\n",
      "20/20 [==============================] - 1s 24ms/step - loss: 0.7070 - accuracy: 0.6609 - auc_47: 0.4937\n",
      "Epoch 4/10\n",
      "20/20 [==============================] - 0s 23ms/step - loss: 0.6717 - accuracy: 0.6672 - auc_47: 0.5182\n",
      "Epoch 5/10\n",
      "20/20 [==============================] - 1s 25ms/step - loss: 0.6563 - accuracy: 0.6828 - auc_47: 0.5293\n",
      "Epoch 6/10\n",
      "20/20 [==============================] - 0s 24ms/step - loss: 0.6516 - accuracy: 0.6984 - auc_47: 0.5306\n",
      "Epoch 7/10\n",
      "20/20 [==============================] - 0s 24ms/step - loss: 0.6284 - accuracy: 0.6969 - auc_47: 0.5810\n",
      "Epoch 8/10\n",
      "20/20 [==============================] - 0s 24ms/step - loss: 0.6320 - accuracy: 0.7031 - auc_47: 0.5658\n",
      "Epoch 9/10\n",
      "20/20 [==============================] - 0s 24ms/step - loss: 0.6346 - accuracy: 0.7063 - auc_47: 0.5466\n",
      "Epoch 10/10\n",
      "20/20 [==============================] - 0s 25ms/step - loss: 0.6274 - accuracy: 0.7063 - auc_47: 0.5613\n",
      "5/5 [==============================] - 0s 13ms/step\n"
     ]
    },
    {
     "name": "stderr",
     "output_type": "stream",
     "text": [
      "WARNING:absl:At this time, the v2.11+ optimizer `tf.keras.optimizers.Adam` runs slowly on M1/M2 Macs, please use the legacy Keras optimizer instead, located at `tf.keras.optimizers.legacy.Adam`.\n"
     ]
    },
    {
     "name": "stdout",
     "output_type": "stream",
     "text": [
      "Epoch 1/10\n",
      "20/20 [==============================] - 2s 43ms/step - loss: 0.7343 - accuracy: 0.6266 - auc_48: 0.5182\n",
      "Epoch 2/10\n",
      "20/20 [==============================] - 1s 29ms/step - loss: 0.6493 - accuracy: 0.6812 - auc_48: 0.5495\n",
      "Epoch 3/10\n",
      "20/20 [==============================] - 0s 22ms/step - loss: 0.6261 - accuracy: 0.6828 - auc_48: 0.5903\n",
      "Epoch 4/10\n",
      "20/20 [==============================] - 0s 22ms/step - loss: 0.6174 - accuracy: 0.7109 - auc_48: 0.5891\n",
      "Epoch 5/10\n",
      "20/20 [==============================] - 0s 22ms/step - loss: 0.6192 - accuracy: 0.6953 - auc_48: 0.5768\n",
      "Epoch 6/10\n",
      "20/20 [==============================] - 0s 22ms/step - loss: 0.6206 - accuracy: 0.7078 - auc_48: 0.5593\n",
      "Epoch 7/10\n",
      "20/20 [==============================] - 0s 21ms/step - loss: 0.6204 - accuracy: 0.7094 - auc_48: 0.5652\n",
      "Epoch 8/10\n",
      "20/20 [==============================] - 0s 22ms/step - loss: 0.5989 - accuracy: 0.7141 - auc_48: 0.6033\n",
      "Epoch 9/10\n",
      "20/20 [==============================] - 0s 22ms/step - loss: 0.5981 - accuracy: 0.7188 - auc_48: 0.5992\n",
      "Epoch 10/10\n",
      "20/20 [==============================] - 0s 22ms/step - loss: 0.5915 - accuracy: 0.7125 - auc_48: 0.6235\n",
      "5/5 [==============================] - 0s 13ms/step\n"
     ]
    },
    {
     "name": "stderr",
     "output_type": "stream",
     "text": [
      "WARNING:absl:At this time, the v2.11+ optimizer `tf.keras.optimizers.Adam` runs slowly on M1/M2 Macs, please use the legacy Keras optimizer instead, located at `tf.keras.optimizers.legacy.Adam`.\n"
     ]
    },
    {
     "name": "stdout",
     "output_type": "stream",
     "text": [
      "Epoch 1/10\n",
      "20/20 [==============================] - 3s 44ms/step - loss: 0.6773 - accuracy: 0.6641 - auc_49: 0.5731\n",
      "Epoch 2/10\n",
      "20/20 [==============================] - 1s 27ms/step - loss: 0.6613 - accuracy: 0.6859 - auc_49: 0.5304\n",
      "Epoch 3/10\n",
      "20/20 [==============================] - 0s 25ms/step - loss: 0.6296 - accuracy: 0.6906 - auc_49: 0.5705\n",
      "Epoch 4/10\n",
      "20/20 [==============================] - 0s 25ms/step - loss: 0.6206 - accuracy: 0.7016 - auc_49: 0.5867\n",
      "Epoch 5/10\n",
      "20/20 [==============================] - 0s 24ms/step - loss: 0.6098 - accuracy: 0.7172 - auc_49: 0.6032\n",
      "Epoch 6/10\n",
      "20/20 [==============================] - 0s 23ms/step - loss: 0.5954 - accuracy: 0.7078 - auc_49: 0.6199\n",
      "Epoch 7/10\n",
      "20/20 [==============================] - 0s 24ms/step - loss: 0.6119 - accuracy: 0.7141 - auc_49: 0.5875\n",
      "Epoch 8/10\n",
      "20/20 [==============================] - 0s 24ms/step - loss: 0.5890 - accuracy: 0.7125 - auc_49: 0.6312\n",
      "Epoch 9/10\n",
      "20/20 [==============================] - 0s 24ms/step - loss: 0.5749 - accuracy: 0.7328 - auc_49: 0.6578\n",
      "Epoch 10/10\n",
      "20/20 [==============================] - 0s 24ms/step - loss: 0.5881 - accuracy: 0.7109 - auc_49: 0.6396\n",
      "5/5 [==============================] - 0s 11ms/step\n"
     ]
    },
    {
     "name": "stderr",
     "output_type": "stream",
     "text": [
      "WARNING:absl:At this time, the v2.11+ optimizer `tf.keras.optimizers.Adam` runs slowly on M1/M2 Macs, please use the legacy Keras optimizer instead, located at `tf.keras.optimizers.legacy.Adam`.\n"
     ]
    },
    {
     "name": "stdout",
     "output_type": "stream",
     "text": [
      "Epoch 1/10\n",
      "20/20 [==============================] - 2s 45ms/step - loss: 0.7070 - accuracy: 0.6453 - auc_50: 0.5094\n",
      "Epoch 2/10\n",
      "20/20 [==============================] - 0s 24ms/step - loss: 0.6507 - accuracy: 0.6922 - auc_50: 0.5531\n",
      "Epoch 3/10\n",
      "20/20 [==============================] - 0s 22ms/step - loss: 0.6482 - accuracy: 0.7016 - auc_50: 0.5376\n",
      "Epoch 4/10\n",
      "20/20 [==============================] - 0s 22ms/step - loss: 0.6207 - accuracy: 0.6797 - auc_50: 0.5985\n",
      "Epoch 5/10\n",
      "20/20 [==============================] - 0s 24ms/step - loss: 0.6321 - accuracy: 0.6938 - auc_50: 0.5618\n",
      "Epoch 6/10\n",
      "20/20 [==============================] - 0s 22ms/step - loss: 0.6240 - accuracy: 0.6906 - auc_50: 0.5803\n",
      "Epoch 7/10\n",
      "20/20 [==============================] - 0s 22ms/step - loss: 0.6231 - accuracy: 0.7000 - auc_50: 0.5791\n",
      "Epoch 8/10\n",
      "20/20 [==============================] - 0s 22ms/step - loss: 0.6103 - accuracy: 0.6953 - auc_50: 0.6099\n",
      "Epoch 9/10\n",
      "20/20 [==============================] - 0s 22ms/step - loss: 0.6015 - accuracy: 0.7063 - auc_50: 0.6226\n",
      "Epoch 10/10\n",
      "20/20 [==============================] - 0s 22ms/step - loss: 0.6106 - accuracy: 0.7078 - auc_50: 0.6091\n",
      "5/5 [==============================] - 0s 11ms/step\n"
     ]
    },
    {
     "name": "stderr",
     "output_type": "stream",
     "text": [
      "WARNING:absl:At this time, the v2.11+ optimizer `tf.keras.optimizers.Adam` runs slowly on M1/M2 Macs, please use the legacy Keras optimizer instead, located at `tf.keras.optimizers.legacy.Adam`.\n"
     ]
    },
    {
     "name": "stdout",
     "output_type": "stream",
     "text": [
      "Epoch 1/10\n",
      "20/20 [==============================] - 2s 46ms/step - loss: 0.7266 - accuracy: 0.6250 - auc_51: 0.4919\n",
      "Epoch 2/10\n",
      "20/20 [==============================] - 0s 25ms/step - loss: 0.6787 - accuracy: 0.6938 - auc_51: 0.5223\n",
      "Epoch 3/10\n",
      "20/20 [==============================] - 0s 21ms/step - loss: 0.6703 - accuracy: 0.6828 - auc_51: 0.5237\n",
      "Epoch 4/10\n",
      "20/20 [==============================] - 0s 21ms/step - loss: 0.6368 - accuracy: 0.7094 - auc_51: 0.5616\n",
      "Epoch 5/10\n",
      "20/20 [==============================] - 0s 21ms/step - loss: 0.6286 - accuracy: 0.7125 - auc_51: 0.5872\n",
      "Epoch 6/10\n",
      "20/20 [==============================] - 0s 21ms/step - loss: 0.6159 - accuracy: 0.7141 - auc_51: 0.6093\n",
      "Epoch 7/10\n",
      "20/20 [==============================] - 0s 21ms/step - loss: 0.6323 - accuracy: 0.7016 - auc_51: 0.5648\n",
      "Epoch 8/10\n",
      "20/20 [==============================] - 0s 21ms/step - loss: 0.5997 - accuracy: 0.7188 - auc_51: 0.6465\n",
      "Epoch 9/10\n",
      "20/20 [==============================] - 0s 21ms/step - loss: 0.5937 - accuracy: 0.7188 - auc_51: 0.6505\n",
      "Epoch 10/10\n",
      "20/20 [==============================] - 0s 21ms/step - loss: 0.5955 - accuracy: 0.7078 - auc_51: 0.6498\n",
      "5/5 [==============================] - 0s 12ms/step\n"
     ]
    },
    {
     "name": "stderr",
     "output_type": "stream",
     "text": [
      "WARNING:absl:At this time, the v2.11+ optimizer `tf.keras.optimizers.Adam` runs slowly on M1/M2 Macs, please use the legacy Keras optimizer instead, located at `tf.keras.optimizers.legacy.Adam`.\n"
     ]
    },
    {
     "name": "stdout",
     "output_type": "stream",
     "text": [
      "Epoch 1/10\n"
     ]
    },
    {
     "name": "stderr",
     "output_type": "stream",
     "text": [
      "2024-03-27 20:24:50.073626: E tensorflow/core/grappler/optimizers/meta_optimizer.cc:961] model_pruner failed: INVALID_ARGUMENT: Graph does not contain terminal node Adam/AssignAddVariableOp.\n"
     ]
    },
    {
     "name": "stdout",
     "output_type": "stream",
     "text": [
      "20/20 [==============================] - 2s 47ms/step - loss: 0.7940 - accuracy: 0.6625 - auc_52: 0.5719\n",
      "Epoch 2/10\n",
      "20/20 [==============================] - 0s 24ms/step - loss: 0.7241 - accuracy: 0.6734 - auc_52: 0.5862\n",
      "Epoch 3/10\n",
      "20/20 [==============================] - 0s 22ms/step - loss: 0.6793 - accuracy: 0.6875 - auc_52: 0.6120\n",
      "Epoch 4/10\n",
      "20/20 [==============================] - 0s 21ms/step - loss: 0.6940 - accuracy: 0.6766 - auc_52: 0.5560\n",
      "Epoch 5/10\n",
      "20/20 [==============================] - 0s 22ms/step - loss: 0.6943 - accuracy: 0.6766 - auc_52: 0.5448\n",
      "Epoch 6/10\n",
      "20/20 [==============================] - 0s 22ms/step - loss: 0.6787 - accuracy: 0.6984 - auc_52: 0.5492\n",
      "Epoch 7/10\n",
      "20/20 [==============================] - 0s 22ms/step - loss: 0.6444 - accuracy: 0.7063 - auc_52: 0.5993\n",
      "Epoch 8/10\n",
      "20/20 [==============================] - 0s 21ms/step - loss: 0.6474 - accuracy: 0.7016 - auc_52: 0.5857\n",
      "Epoch 9/10\n",
      "20/20 [==============================] - 0s 22ms/step - loss: 0.6278 - accuracy: 0.7125 - auc_52: 0.6228\n",
      "Epoch 10/10\n",
      "20/20 [==============================] - 0s 22ms/step - loss: 0.6509 - accuracy: 0.6938 - auc_52: 0.5718\n",
      "5/5 [==============================] - 0s 9ms/step\n"
     ]
    },
    {
     "name": "stderr",
     "output_type": "stream",
     "text": [
      "WARNING:absl:At this time, the v2.11+ optimizer `tf.keras.optimizers.Adam` runs slowly on M1/M2 Macs, please use the legacy Keras optimizer instead, located at `tf.keras.optimizers.legacy.Adam`.\n"
     ]
    },
    {
     "name": "stdout",
     "output_type": "stream",
     "text": [
      "Epoch 1/10\n",
      "20/20 [==============================] - 2s 50ms/step - loss: 0.8930 - accuracy: 0.6078 - auc_53: 0.5704\n",
      "Epoch 2/10\n",
      "20/20 [==============================] - 1s 26ms/step - loss: 0.7789 - accuracy: 0.6594 - auc_53: 0.5538\n",
      "Epoch 3/10\n",
      "20/20 [==============================] - 0s 24ms/step - loss: 0.7090 - accuracy: 0.6719 - auc_53: 0.5738\n",
      "Epoch 4/10\n",
      "20/20 [==============================] - 0s 24ms/step - loss: 0.6697 - accuracy: 0.6781 - auc_53: 0.5821\n",
      "Epoch 5/10\n",
      "20/20 [==============================] - 0s 24ms/step - loss: 0.6446 - accuracy: 0.7016 - auc_53: 0.5924\n",
      "Epoch 6/10\n",
      "20/20 [==============================] - 0s 25ms/step - loss: 0.6448 - accuracy: 0.6953 - auc_53: 0.5752\n",
      "Epoch 7/10\n",
      "20/20 [==============================] - 0s 24ms/step - loss: 0.6239 - accuracy: 0.6906 - auc_53: 0.6133\n",
      "Epoch 8/10\n",
      "20/20 [==============================] - 0s 24ms/step - loss: 0.6149 - accuracy: 0.7125 - auc_53: 0.6205\n",
      "Epoch 9/10\n",
      "20/20 [==============================] - 0s 24ms/step - loss: 0.6142 - accuracy: 0.7125 - auc_53: 0.6052\n",
      "Epoch 10/10\n",
      "20/20 [==============================] - 0s 24ms/step - loss: 0.6195 - accuracy: 0.7078 - auc_53: 0.5994\n",
      "5/5 [==============================] - 0s 12ms/step\n"
     ]
    },
    {
     "name": "stderr",
     "output_type": "stream",
     "text": [
      "WARNING:absl:At this time, the v2.11+ optimizer `tf.keras.optimizers.Adam` runs slowly on M1/M2 Macs, please use the legacy Keras optimizer instead, located at `tf.keras.optimizers.legacy.Adam`.\n"
     ]
    },
    {
     "name": "stdout",
     "output_type": "stream",
     "text": [
      "Epoch 1/10\n",
      "20/20 [==============================] - 2s 47ms/step - loss: 0.7713 - accuracy: 0.6234 - auc_54: 0.5197\n",
      "Epoch 2/10\n",
      "20/20 [==============================] - 1s 28ms/step - loss: 0.6740 - accuracy: 0.6812 - auc_54: 0.5795\n",
      "Epoch 3/10\n",
      "20/20 [==============================] - 0s 24ms/step - loss: 0.6589 - accuracy: 0.6938 - auc_54: 0.5770\n",
      "Epoch 4/10\n",
      "20/20 [==============================] - 0s 24ms/step - loss: 0.6414 - accuracy: 0.7078 - auc_54: 0.5978\n",
      "Epoch 5/10\n",
      "20/20 [==============================] - 0s 24ms/step - loss: 0.6369 - accuracy: 0.6922 - auc_54: 0.5965\n",
      "Epoch 6/10\n",
      "20/20 [==============================] - 0s 24ms/step - loss: 0.6329 - accuracy: 0.6859 - auc_54: 0.6117\n",
      "Epoch 7/10\n",
      "20/20 [==============================] - 0s 24ms/step - loss: 0.6149 - accuracy: 0.7063 - auc_54: 0.6302\n",
      "Epoch 8/10\n",
      "20/20 [==============================] - 0s 23ms/step - loss: 0.6187 - accuracy: 0.7047 - auc_54: 0.6189\n",
      "Epoch 9/10\n",
      "20/20 [==============================] - 0s 24ms/step - loss: 0.6236 - accuracy: 0.7047 - auc_54: 0.5957\n",
      "Epoch 10/10\n",
      "20/20 [==============================] - 0s 24ms/step - loss: 0.6178 - accuracy: 0.7078 - auc_54: 0.6148\n",
      "5/5 [==============================] - 0s 10ms/step\n"
     ]
    },
    {
     "name": "stderr",
     "output_type": "stream",
     "text": [
      "WARNING:absl:At this time, the v2.11+ optimizer `tf.keras.optimizers.Adam` runs slowly on M1/M2 Macs, please use the legacy Keras optimizer instead, located at `tf.keras.optimizers.legacy.Adam`.\n"
     ]
    },
    {
     "name": "stdout",
     "output_type": "stream",
     "text": [
      "Epoch 1/10\n",
      "20/20 [==============================] - 2s 45ms/step - loss: 0.7431 - accuracy: 0.6687 - auc_55: 0.5244\n",
      "Epoch 2/10\n",
      "20/20 [==============================] - 1s 25ms/step - loss: 0.6816 - accuracy: 0.6844 - auc_55: 0.5580\n",
      "Epoch 3/10\n",
      "20/20 [==============================] - 0s 23ms/step - loss: 0.6421 - accuracy: 0.6844 - auc_55: 0.5948\n",
      "Epoch 4/10\n",
      "20/20 [==============================] - 0s 24ms/step - loss: 0.6195 - accuracy: 0.6969 - auc_55: 0.6116\n",
      "Epoch 5/10\n",
      "20/20 [==============================] - 0s 24ms/step - loss: 0.6015 - accuracy: 0.7031 - auc_55: 0.6478\n",
      "Epoch 6/10\n",
      "20/20 [==============================] - 0s 25ms/step - loss: 0.6082 - accuracy: 0.7063 - auc_55: 0.6263\n",
      "Epoch 7/10\n",
      "20/20 [==============================] - 0s 23ms/step - loss: 0.5925 - accuracy: 0.7109 - auc_55: 0.6572\n",
      "Epoch 8/10\n",
      "20/20 [==============================] - 0s 23ms/step - loss: 0.6063 - accuracy: 0.7094 - auc_55: 0.6251\n",
      "Epoch 9/10\n",
      "20/20 [==============================] - 0s 22ms/step - loss: 0.5914 - accuracy: 0.6984 - auc_55: 0.6569\n",
      "Epoch 10/10\n",
      "20/20 [==============================] - 0s 22ms/step - loss: 0.6085 - accuracy: 0.7172 - auc_55: 0.6157\n",
      "5/5 [==============================] - 0s 13ms/step\n"
     ]
    },
    {
     "name": "stderr",
     "output_type": "stream",
     "text": [
      "WARNING:absl:At this time, the v2.11+ optimizer `tf.keras.optimizers.Adam` runs slowly on M1/M2 Macs, please use the legacy Keras optimizer instead, located at `tf.keras.optimizers.legacy.Adam`.\n"
     ]
    },
    {
     "name": "stdout",
     "output_type": "stream",
     "text": [
      "Epoch 1/10\n",
      "20/20 [==============================] - 2s 46ms/step - loss: 0.7486 - accuracy: 0.6438 - auc_56: 0.4692\n",
      "Epoch 2/10\n",
      "20/20 [==============================] - 0s 25ms/step - loss: 0.6551 - accuracy: 0.6922 - auc_56: 0.5514\n",
      "Epoch 3/10\n",
      "20/20 [==============================] - 1s 25ms/step - loss: 0.6356 - accuracy: 0.6984 - auc_56: 0.5569\n",
      "Epoch 4/10\n",
      "20/20 [==============================] - 1s 26ms/step - loss: 0.6236 - accuracy: 0.7125 - auc_56: 0.5604\n",
      "Epoch 5/10\n",
      "20/20 [==============================] - 0s 24ms/step - loss: 0.6100 - accuracy: 0.7094 - auc_56: 0.5899\n",
      "Epoch 6/10\n",
      "20/20 [==============================] - 0s 24ms/step - loss: 0.5947 - accuracy: 0.7203 - auc_56: 0.6297\n",
      "Epoch 7/10\n",
      "20/20 [==============================] - 0s 24ms/step - loss: 0.6097 - accuracy: 0.7141 - auc_56: 0.5914\n",
      "Epoch 8/10\n",
      "20/20 [==============================] - 0s 24ms/step - loss: 0.6197 - accuracy: 0.6969 - auc_56: 0.5718\n",
      "Epoch 9/10\n",
      "20/20 [==============================] - 0s 24ms/step - loss: 0.5970 - accuracy: 0.7156 - auc_56: 0.6153\n",
      "Epoch 10/10\n",
      "20/20 [==============================] - 0s 24ms/step - loss: 0.6055 - accuracy: 0.7188 - auc_56: 0.5963\n",
      "5/5 [==============================] - 0s 13ms/step\n"
     ]
    },
    {
     "name": "stderr",
     "output_type": "stream",
     "text": [
      "WARNING:absl:At this time, the v2.11+ optimizer `tf.keras.optimizers.Adam` runs slowly on M1/M2 Macs, please use the legacy Keras optimizer instead, located at `tf.keras.optimizers.legacy.Adam`.\n"
     ]
    },
    {
     "name": "stdout",
     "output_type": "stream",
     "text": [
      "Epoch 1/10\n",
      "20/20 [==============================] - 2s 48ms/step - loss: 0.6597 - accuracy: 0.6687 - auc_57: 0.5560\n",
      "Epoch 2/10\n",
      "20/20 [==============================] - 1s 26ms/step - loss: 0.6416 - accuracy: 0.6922 - auc_57: 0.5558\n",
      "Epoch 3/10\n",
      "20/20 [==============================] - 0s 23ms/step - loss: 0.6263 - accuracy: 0.7016 - auc_57: 0.5725\n",
      "Epoch 4/10\n",
      "20/20 [==============================] - 0s 22ms/step - loss: 0.6053 - accuracy: 0.6938 - auc_57: 0.6205\n",
      "Epoch 5/10\n",
      "20/20 [==============================] - 0s 22ms/step - loss: 0.6218 - accuracy: 0.7016 - auc_57: 0.5710\n",
      "Epoch 6/10\n",
      "20/20 [==============================] - 0s 22ms/step - loss: 0.6135 - accuracy: 0.7016 - auc_57: 0.5910\n",
      "Epoch 7/10\n",
      "20/20 [==============================] - 0s 22ms/step - loss: 0.6074 - accuracy: 0.7109 - auc_57: 0.6031\n",
      "Epoch 8/10\n",
      "20/20 [==============================] - 0s 22ms/step - loss: 0.6021 - accuracy: 0.7141 - auc_57: 0.6158\n",
      "Epoch 9/10\n",
      "20/20 [==============================] - 0s 22ms/step - loss: 0.5901 - accuracy: 0.7109 - auc_57: 0.6418\n",
      "Epoch 10/10\n",
      "20/20 [==============================] - 0s 23ms/step - loss: 0.5972 - accuracy: 0.7125 - auc_57: 0.6180\n",
      "5/5 [==============================] - 0s 10ms/step\n"
     ]
    },
    {
     "name": "stderr",
     "output_type": "stream",
     "text": [
      "WARNING:absl:At this time, the v2.11+ optimizer `tf.keras.optimizers.Adam` runs slowly on M1/M2 Macs, please use the legacy Keras optimizer instead, located at `tf.keras.optimizers.legacy.Adam`.\n"
     ]
    },
    {
     "name": "stdout",
     "output_type": "stream",
     "text": [
      "Epoch 1/10\n",
      "20/20 [==============================] - 2s 47ms/step - loss: 0.9137 - accuracy: 0.5766 - auc_58: 0.4095\n",
      "Epoch 2/10\n",
      "20/20 [==============================] - 1s 30ms/step - loss: 0.7767 - accuracy: 0.6719 - auc_58: 0.4494\n",
      "Epoch 3/10\n",
      "20/20 [==============================] - 0s 25ms/step - loss: 0.7011 - accuracy: 0.6656 - auc_58: 0.4939\n",
      "Epoch 4/10\n",
      "20/20 [==============================] - 0s 25ms/step - loss: 0.6903 - accuracy: 0.6672 - auc_58: 0.4822\n",
      "Epoch 5/10\n",
      "20/20 [==============================] - 0s 24ms/step - loss: 0.6528 - accuracy: 0.6891 - auc_58: 0.5550\n",
      "Epoch 6/10\n",
      "20/20 [==============================] - 0s 24ms/step - loss: 0.6504 - accuracy: 0.6984 - auc_58: 0.5590\n",
      "Epoch 7/10\n",
      "20/20 [==============================] - 0s 24ms/step - loss: 0.6480 - accuracy: 0.6844 - auc_58: 0.5711\n",
      "Epoch 8/10\n",
      "20/20 [==============================] - 0s 24ms/step - loss: 0.6236 - accuracy: 0.7016 - auc_58: 0.6121\n",
      "Epoch 9/10\n",
      "20/20 [==============================] - 0s 24ms/step - loss: 0.6393 - accuracy: 0.7000 - auc_58: 0.5763\n",
      "Epoch 10/10\n",
      "20/20 [==============================] - 0s 24ms/step - loss: 0.6216 - accuracy: 0.7203 - auc_58: 0.6051\n",
      "5/5 [==============================] - 0s 12ms/step\n"
     ]
    },
    {
     "name": "stderr",
     "output_type": "stream",
     "text": [
      "WARNING:absl:At this time, the v2.11+ optimizer `tf.keras.optimizers.Adam` runs slowly on M1/M2 Macs, please use the legacy Keras optimizer instead, located at `tf.keras.optimizers.legacy.Adam`.\n"
     ]
    },
    {
     "name": "stdout",
     "output_type": "stream",
     "text": [
      "Epoch 1/10\n",
      "20/20 [==============================] - 2s 45ms/step - loss: 0.7838 - accuracy: 0.6125 - auc_59: 0.4502\n",
      "Epoch 2/10\n",
      "20/20 [==============================] - 1s 25ms/step - loss: 0.7104 - accuracy: 0.6844 - auc_59: 0.4631\n",
      "Epoch 3/10\n",
      "20/20 [==============================] - 0s 25ms/step - loss: 0.6614 - accuracy: 0.6859 - auc_59: 0.5042\n",
      "Epoch 4/10\n",
      "20/20 [==============================] - 0s 22ms/step - loss: 0.6269 - accuracy: 0.6969 - auc_59: 0.5672\n",
      "Epoch 5/10\n",
      "20/20 [==============================] - 0s 22ms/step - loss: 0.6222 - accuracy: 0.7016 - auc_59: 0.5648\n",
      "Epoch 6/10\n",
      "20/20 [==============================] - 0s 22ms/step - loss: 0.6191 - accuracy: 0.7047 - auc_59: 0.5855\n",
      "Epoch 7/10\n",
      "20/20 [==============================] - 0s 22ms/step - loss: 0.6053 - accuracy: 0.7141 - auc_59: 0.5996\n",
      "Epoch 8/10\n",
      "20/20 [==============================] - 0s 22ms/step - loss: 0.6030 - accuracy: 0.7172 - auc_59: 0.6049\n",
      "Epoch 9/10\n",
      "20/20 [==============================] - 0s 23ms/step - loss: 0.6009 - accuracy: 0.7078 - auc_59: 0.6231\n",
      "Epoch 10/10\n",
      "20/20 [==============================] - 0s 23ms/step - loss: 0.6081 - accuracy: 0.7078 - auc_59: 0.5958\n",
      "5/5 [==============================] - 0s 9ms/step\n"
     ]
    },
    {
     "name": "stderr",
     "output_type": "stream",
     "text": [
      "WARNING:absl:At this time, the v2.11+ optimizer `tf.keras.optimizers.Adam` runs slowly on M1/M2 Macs, please use the legacy Keras optimizer instead, located at `tf.keras.optimizers.legacy.Adam`.\n"
     ]
    },
    {
     "name": "stdout",
     "output_type": "stream",
     "text": [
      "Epoch 1/10\n",
      "20/20 [==============================] - 2s 50ms/step - loss: 0.7189 - accuracy: 0.6266 - auc_60: 0.4864\n",
      "Epoch 2/10\n",
      "20/20 [==============================] - 1s 37ms/step - loss: 0.6650 - accuracy: 0.6969 - auc_60: 0.4966\n",
      "Epoch 3/10\n",
      "20/20 [==============================] - 0s 24ms/step - loss: 0.6271 - accuracy: 0.6969 - auc_60: 0.5650\n",
      "Epoch 4/10\n",
      "20/20 [==============================] - 0s 24ms/step - loss: 0.6369 - accuracy: 0.6875 - auc_60: 0.5371\n",
      "Epoch 5/10\n",
      "20/20 [==============================] - 0s 24ms/step - loss: 0.6224 - accuracy: 0.6953 - auc_60: 0.5633\n",
      "Epoch 6/10\n",
      "20/20 [==============================] - 0s 25ms/step - loss: 0.6150 - accuracy: 0.7063 - auc_60: 0.5798\n",
      "Epoch 7/10\n",
      "20/20 [==============================] - 0s 24ms/step - loss: 0.6105 - accuracy: 0.7047 - auc_60: 0.5857\n",
      "Epoch 8/10\n",
      "20/20 [==============================] - 0s 24ms/step - loss: 0.6119 - accuracy: 0.7156 - auc_60: 0.5778\n",
      "Epoch 9/10\n",
      "20/20 [==============================] - 0s 24ms/step - loss: 0.6183 - accuracy: 0.7016 - auc_60: 0.5672\n",
      "Epoch 10/10\n",
      "20/20 [==============================] - 0s 25ms/step - loss: 0.6216 - accuracy: 0.7016 - auc_60: 0.5687\n",
      "5/5 [==============================] - 0s 15ms/step\n"
     ]
    },
    {
     "name": "stderr",
     "output_type": "stream",
     "text": [
      "WARNING:absl:At this time, the v2.11+ optimizer `tf.keras.optimizers.Adam` runs slowly on M1/M2 Macs, please use the legacy Keras optimizer instead, located at `tf.keras.optimizers.legacy.Adam`.\n"
     ]
    },
    {
     "name": "stdout",
     "output_type": "stream",
     "text": [
      "Epoch 1/10\n",
      "20/20 [==============================] - 2s 47ms/step - loss: 0.7232 - accuracy: 0.6281 - auc_61: 0.5419\n",
      "Epoch 2/10\n",
      "20/20 [==============================] - 1s 29ms/step - loss: 0.6478 - accuracy: 0.6938 - auc_61: 0.5709\n",
      "Epoch 3/10\n",
      "20/20 [==============================] - 0s 24ms/step - loss: 0.6299 - accuracy: 0.6844 - auc_61: 0.5792\n",
      "Epoch 4/10\n",
      "20/20 [==============================] - 0s 24ms/step - loss: 0.6128 - accuracy: 0.7094 - auc_61: 0.5887\n",
      "Epoch 5/10\n",
      "20/20 [==============================] - 0s 23ms/step - loss: 0.6011 - accuracy: 0.7141 - auc_61: 0.6179\n",
      "Epoch 6/10\n",
      "20/20 [==============================] - 0s 24ms/step - loss: 0.5936 - accuracy: 0.6984 - auc_61: 0.6325\n",
      "Epoch 7/10\n",
      "20/20 [==============================] - 0s 24ms/step - loss: 0.5982 - accuracy: 0.7281 - auc_61: 0.6065\n",
      "Epoch 8/10\n",
      "20/20 [==============================] - 0s 25ms/step - loss: 0.5986 - accuracy: 0.7156 - auc_61: 0.6143\n",
      "Epoch 9/10\n",
      "20/20 [==============================] - 0s 24ms/step - loss: 0.5887 - accuracy: 0.7234 - auc_61: 0.6381\n",
      "Epoch 10/10\n",
      "20/20 [==============================] - 0s 24ms/step - loss: 0.5873 - accuracy: 0.7078 - auc_61: 0.6367\n",
      "5/5 [==============================] - 0s 12ms/step\n"
     ]
    },
    {
     "name": "stderr",
     "output_type": "stream",
     "text": [
      "WARNING:absl:At this time, the v2.11+ optimizer `tf.keras.optimizers.Adam` runs slowly on M1/M2 Macs, please use the legacy Keras optimizer instead, located at `tf.keras.optimizers.legacy.Adam`.\n"
     ]
    },
    {
     "name": "stdout",
     "output_type": "stream",
     "text": [
      "Epoch 1/10\n"
     ]
    },
    {
     "name": "stderr",
     "output_type": "stream",
     "text": [
      "2024-03-27 20:25:55.878437: E tensorflow/core/grappler/optimizers/meta_optimizer.cc:961] model_pruner failed: INVALID_ARGUMENT: Graph does not contain terminal node Adam/AssignAddVariableOp.\n"
     ]
    },
    {
     "name": "stdout",
     "output_type": "stream",
     "text": [
      "20/20 [==============================] - 2s 47ms/step - loss: 0.7399 - accuracy: 0.6172 - auc_62: 0.4564\n",
      "Epoch 2/10\n",
      "20/20 [==============================] - 1s 31ms/step - loss: 0.6690 - accuracy: 0.6953 - auc_62: 0.4853\n",
      "Epoch 3/10\n",
      "20/20 [==============================] - 1s 26ms/step - loss: 0.6247 - accuracy: 0.6984 - auc_62: 0.5415\n",
      "Epoch 4/10\n",
      "20/20 [==============================] - 0s 25ms/step - loss: 0.6374 - accuracy: 0.7016 - auc_62: 0.5091\n",
      "Epoch 5/10\n",
      "20/20 [==============================] - 0s 25ms/step - loss: 0.6315 - accuracy: 0.7031 - auc_62: 0.5109\n",
      "Epoch 6/10\n",
      "20/20 [==============================] - 1s 25ms/step - loss: 0.6204 - accuracy: 0.6938 - auc_62: 0.5578\n",
      "Epoch 7/10\n",
      "20/20 [==============================] - 1s 26ms/step - loss: 0.6087 - accuracy: 0.7109 - auc_62: 0.5664\n",
      "Epoch 8/10\n",
      "20/20 [==============================] - 1s 26ms/step - loss: 0.6224 - accuracy: 0.7063 - auc_62: 0.5322\n",
      "Epoch 9/10\n",
      "20/20 [==============================] - 1s 25ms/step - loss: 0.6139 - accuracy: 0.7063 - auc_62: 0.5660\n",
      "Epoch 10/10\n",
      "20/20 [==============================] - 1s 25ms/step - loss: 0.6128 - accuracy: 0.7203 - auc_62: 0.5569\n",
      "5/5 [==============================] - 0s 13ms/step\n"
     ]
    },
    {
     "name": "stderr",
     "output_type": "stream",
     "text": [
      "WARNING:absl:At this time, the v2.11+ optimizer `tf.keras.optimizers.Adam` runs slowly on M1/M2 Macs, please use the legacy Keras optimizer instead, located at `tf.keras.optimizers.legacy.Adam`.\n"
     ]
    },
    {
     "name": "stdout",
     "output_type": "stream",
     "text": [
      "Epoch 1/10\n",
      "20/20 [==============================] - 2s 52ms/step - loss: 0.6621 - accuracy: 0.6453 - auc_63: 0.5610\n",
      "Epoch 2/10\n",
      "20/20 [==============================] - 1s 25ms/step - loss: 0.6380 - accuracy: 0.7000 - auc_63: 0.5555\n",
      "Epoch 3/10\n",
      "20/20 [==============================] - 1s 28ms/step - loss: 0.6102 - accuracy: 0.6953 - auc_63: 0.6053\n",
      "Epoch 4/10\n",
      "20/20 [==============================] - 1s 25ms/step - loss: 0.5973 - accuracy: 0.7063 - auc_63: 0.6245\n",
      "Epoch 5/10\n",
      "20/20 [==============================] - 0s 25ms/step - loss: 0.6117 - accuracy: 0.7078 - auc_63: 0.5969\n",
      "Epoch 6/10\n",
      "20/20 [==============================] - 0s 25ms/step - loss: 0.5990 - accuracy: 0.7031 - auc_63: 0.6190\n",
      "Epoch 7/10\n",
      "20/20 [==============================] - 0s 24ms/step - loss: 0.6061 - accuracy: 0.7016 - auc_63: 0.5974\n",
      "Epoch 8/10\n",
      "20/20 [==============================] - 1s 25ms/step - loss: 0.5931 - accuracy: 0.7141 - auc_63: 0.6230\n",
      "Epoch 9/10\n",
      "20/20 [==============================] - 0s 24ms/step - loss: 0.5876 - accuracy: 0.7250 - auc_63: 0.6269\n",
      "Epoch 10/10\n",
      "20/20 [==============================] - 1s 25ms/step - loss: 0.5935 - accuracy: 0.7234 - auc_63: 0.6146\n",
      "5/5 [==============================] - 0s 12ms/step\n"
     ]
    },
    {
     "name": "stderr",
     "output_type": "stream",
     "text": [
      "WARNING:absl:At this time, the v2.11+ optimizer `tf.keras.optimizers.Adam` runs slowly on M1/M2 Macs, please use the legacy Keras optimizer instead, located at `tf.keras.optimizers.legacy.Adam`.\n"
     ]
    },
    {
     "name": "stdout",
     "output_type": "stream",
     "text": [
      "Epoch 1/10\n",
      "20/20 [==============================] - 2s 59ms/step - loss: 0.6992 - accuracy: 0.6687 - auc_64: 0.4892\n",
      "Epoch 2/10\n",
      "20/20 [==============================] - 1s 26ms/step - loss: 0.6150 - accuracy: 0.6984 - auc_64: 0.5805\n",
      "Epoch 3/10\n",
      "20/20 [==============================] - 1s 26ms/step - loss: 0.6081 - accuracy: 0.7031 - auc_64: 0.5995\n",
      "Epoch 4/10\n",
      "20/20 [==============================] - 0s 24ms/step - loss: 0.6051 - accuracy: 0.7250 - auc_64: 0.5979\n",
      "Epoch 5/10\n",
      "20/20 [==============================] - 0s 23ms/step - loss: 0.5946 - accuracy: 0.7188 - auc_64: 0.6201\n",
      "Epoch 6/10\n",
      "20/20 [==============================] - 0s 24ms/step - loss: 0.6035 - accuracy: 0.7109 - auc_64: 0.5997\n",
      "Epoch 7/10\n",
      "20/20 [==============================] - 0s 23ms/step - loss: 0.5837 - accuracy: 0.7250 - auc_64: 0.6428\n",
      "Epoch 8/10\n",
      "20/20 [==============================] - 0s 24ms/step - loss: 0.5918 - accuracy: 0.7141 - auc_64: 0.6237\n",
      "Epoch 9/10\n",
      "20/20 [==============================] - 0s 24ms/step - loss: 0.5835 - accuracy: 0.7016 - auc_64: 0.6455\n",
      "Epoch 10/10\n",
      "20/20 [==============================] - 0s 25ms/step - loss: 0.5716 - accuracy: 0.7188 - auc_64: 0.6768\n",
      "5/5 [==============================] - 0s 14ms/step\n"
     ]
    },
    {
     "name": "stderr",
     "output_type": "stream",
     "text": [
      "WARNING:absl:At this time, the v2.11+ optimizer `tf.keras.optimizers.Adam` runs slowly on M1/M2 Macs, please use the legacy Keras optimizer instead, located at `tf.keras.optimizers.legacy.Adam`.\n"
     ]
    },
    {
     "name": "stdout",
     "output_type": "stream",
     "text": [
      "Epoch 1/10\n",
      "20/20 [==============================] - 3s 51ms/step - loss: 0.7354 - accuracy: 0.6625 - auc_65: 0.4995\n",
      "Epoch 2/10\n",
      "20/20 [==============================] - 1s 31ms/step - loss: 0.6686 - accuracy: 0.6859 - auc_65: 0.5568\n",
      "Epoch 3/10\n",
      "20/20 [==============================] - 1s 25ms/step - loss: 0.6341 - accuracy: 0.6891 - auc_65: 0.6059\n",
      "Epoch 4/10\n",
      "20/20 [==============================] - 0s 25ms/step - loss: 0.6481 - accuracy: 0.6984 - auc_65: 0.5760\n",
      "Epoch 5/10\n",
      "20/20 [==============================] - 1s 26ms/step - loss: 0.6247 - accuracy: 0.6875 - auc_65: 0.6127\n",
      "Epoch 6/10\n",
      "20/20 [==============================] - 0s 25ms/step - loss: 0.6182 - accuracy: 0.7078 - auc_65: 0.6077\n",
      "Epoch 7/10\n",
      "20/20 [==============================] - 0s 25ms/step - loss: 0.6203 - accuracy: 0.6984 - auc_65: 0.6051\n",
      "Epoch 8/10\n",
      "20/20 [==============================] - 0s 25ms/step - loss: 0.5975 - accuracy: 0.7016 - auc_65: 0.6436\n",
      "Epoch 9/10\n",
      "20/20 [==============================] - 1s 26ms/step - loss: 0.6094 - accuracy: 0.7031 - auc_65: 0.6183\n",
      "Epoch 10/10\n",
      "20/20 [==============================] - 0s 25ms/step - loss: 0.6135 - accuracy: 0.6875 - auc_65: 0.6210\n",
      "5/5 [==============================] - 0s 9ms/step\n"
     ]
    },
    {
     "name": "stderr",
     "output_type": "stream",
     "text": [
      "WARNING:absl:At this time, the v2.11+ optimizer `tf.keras.optimizers.Adam` runs slowly on M1/M2 Macs, please use the legacy Keras optimizer instead, located at `tf.keras.optimizers.legacy.Adam`.\n"
     ]
    },
    {
     "name": "stdout",
     "output_type": "stream",
     "text": [
      "Epoch 1/10\n",
      "20/20 [==============================] - 2s 55ms/step - loss: 0.8104 - accuracy: 0.6328 - auc_66: 0.4812\n",
      "Epoch 2/10\n",
      "20/20 [==============================] - 1s 27ms/step - loss: 0.6859 - accuracy: 0.6391 - auc_66: 0.5533\n",
      "Epoch 3/10\n",
      "20/20 [==============================] - 1s 25ms/step - loss: 0.6453 - accuracy: 0.7125 - auc_66: 0.5981\n",
      "Epoch 4/10\n",
      "20/20 [==============================] - 0s 24ms/step - loss: 0.6548 - accuracy: 0.6641 - auc_66: 0.5844\n",
      "Epoch 5/10\n",
      "20/20 [==============================] - 0s 24ms/step - loss: 0.6333 - accuracy: 0.7109 - auc_66: 0.5828\n",
      "Epoch 6/10\n",
      "20/20 [==============================] - 0s 24ms/step - loss: 0.6231 - accuracy: 0.6938 - auc_66: 0.5836\n",
      "Epoch 7/10\n",
      "20/20 [==============================] - 0s 24ms/step - loss: 0.6020 - accuracy: 0.7047 - auc_66: 0.6204\n",
      "Epoch 8/10\n",
      "20/20 [==============================] - 0s 24ms/step - loss: 0.5906 - accuracy: 0.7219 - auc_66: 0.6434\n",
      "Epoch 9/10\n",
      "20/20 [==============================] - 0s 24ms/step - loss: 0.6065 - accuracy: 0.7172 - auc_66: 0.6032\n",
      "Epoch 10/10\n",
      "20/20 [==============================] - 0s 24ms/step - loss: 0.6040 - accuracy: 0.7078 - auc_66: 0.6233\n",
      "5/5 [==============================] - 0s 12ms/step\n"
     ]
    },
    {
     "name": "stderr",
     "output_type": "stream",
     "text": [
      "WARNING:absl:At this time, the v2.11+ optimizer `tf.keras.optimizers.Adam` runs slowly on M1/M2 Macs, please use the legacy Keras optimizer instead, located at `tf.keras.optimizers.legacy.Adam`.\n"
     ]
    },
    {
     "name": "stdout",
     "output_type": "stream",
     "text": [
      "Epoch 1/10\n",
      "20/20 [==============================] - 2s 54ms/step - loss: 0.8158 - accuracy: 0.6219 - auc_67: 0.4367\n",
      "Epoch 2/10\n",
      "20/20 [==============================] - 1s 29ms/step - loss: 0.6496 - accuracy: 0.6844 - auc_67: 0.5444\n",
      "Epoch 3/10\n",
      "20/20 [==============================] - 0s 24ms/step - loss: 0.6426 - accuracy: 0.6922 - auc_67: 0.5390\n",
      "Epoch 4/10\n",
      "20/20 [==============================] - 0s 23ms/step - loss: 0.6297 - accuracy: 0.6953 - auc_67: 0.5588\n",
      "Epoch 5/10\n",
      "20/20 [==============================] - 0s 23ms/step - loss: 0.6296 - accuracy: 0.6969 - auc_67: 0.5603\n",
      "Epoch 6/10\n",
      "20/20 [==============================] - 0s 23ms/step - loss: 0.6233 - accuracy: 0.6953 - auc_67: 0.5649\n",
      "Epoch 7/10\n",
      "20/20 [==============================] - 0s 23ms/step - loss: 0.6333 - accuracy: 0.7016 - auc_67: 0.5298\n",
      "Epoch 8/10\n",
      "20/20 [==============================] - 0s 24ms/step - loss: 0.6222 - accuracy: 0.6953 - auc_67: 0.5572\n",
      "Epoch 9/10\n",
      "20/20 [==============================] - 0s 24ms/step - loss: 0.6074 - accuracy: 0.7141 - auc_67: 0.5838\n",
      "Epoch 10/10\n",
      "20/20 [==============================] - 0s 24ms/step - loss: 0.5908 - accuracy: 0.7141 - auc_67: 0.6259\n",
      "5/5 [==============================] - 0s 15ms/step\n"
     ]
    },
    {
     "name": "stderr",
     "output_type": "stream",
     "text": [
      "WARNING:absl:At this time, the v2.11+ optimizer `tf.keras.optimizers.Adam` runs slowly on M1/M2 Macs, please use the legacy Keras optimizer instead, located at `tf.keras.optimizers.legacy.Adam`.\n"
     ]
    },
    {
     "name": "stdout",
     "output_type": "stream",
     "text": [
      "Epoch 1/10\n",
      "20/20 [==============================] - 2s 53ms/step - loss: 0.6363 - accuracy: 0.6953 - auc_68: 0.5979\n",
      "Epoch 2/10\n",
      "20/20 [==============================] - 1s 30ms/step - loss: 0.6290 - accuracy: 0.7000 - auc_68: 0.5737\n",
      "Epoch 3/10\n",
      "20/20 [==============================] - 1s 29ms/step - loss: 0.6143 - accuracy: 0.7172 - auc_68: 0.5926\n",
      "Epoch 4/10\n",
      "20/20 [==============================] - 1s 26ms/step - loss: 0.6027 - accuracy: 0.6891 - auc_68: 0.6152\n",
      "Epoch 5/10\n",
      "20/20 [==============================] - 1s 26ms/step - loss: 0.6021 - accuracy: 0.7063 - auc_68: 0.6138\n",
      "Epoch 6/10\n",
      "20/20 [==============================] - 1s 26ms/step - loss: 0.5968 - accuracy: 0.7188 - auc_68: 0.6265\n",
      "Epoch 7/10\n",
      "20/20 [==============================] - 1s 26ms/step - loss: 0.5920 - accuracy: 0.7203 - auc_68: 0.6240\n",
      "Epoch 8/10\n",
      "20/20 [==============================] - 1s 26ms/step - loss: 0.5849 - accuracy: 0.7078 - auc_68: 0.6471\n",
      "Epoch 9/10\n",
      "20/20 [==============================] - 1s 26ms/step - loss: 0.5924 - accuracy: 0.7047 - auc_68: 0.6308\n",
      "Epoch 10/10\n",
      "20/20 [==============================] - 1s 26ms/step - loss: 0.5811 - accuracy: 0.7203 - auc_68: 0.6529\n",
      "5/5 [==============================] - 0s 14ms/step\n"
     ]
    },
    {
     "name": "stderr",
     "output_type": "stream",
     "text": [
      "WARNING:absl:At this time, the v2.11+ optimizer `tf.keras.optimizers.Adam` runs slowly on M1/M2 Macs, please use the legacy Keras optimizer instead, located at `tf.keras.optimizers.legacy.Adam`.\n"
     ]
    },
    {
     "name": "stdout",
     "output_type": "stream",
     "text": [
      "Epoch 1/10\n",
      "20/20 [==============================] - 2s 54ms/step - loss: 0.7261 - accuracy: 0.6703 - auc_69: 0.4907\n",
      "Epoch 2/10\n",
      "20/20 [==============================] - 1s 33ms/step - loss: 0.6440 - accuracy: 0.6687 - auc_69: 0.5787\n",
      "Epoch 3/10\n",
      "20/20 [==============================] - 1s 28ms/step - loss: 0.6435 - accuracy: 0.6812 - auc_69: 0.5769\n",
      "Epoch 4/10\n",
      "20/20 [==============================] - 1s 33ms/step - loss: 0.6291 - accuracy: 0.6906 - auc_69: 0.5783\n",
      "Epoch 5/10\n",
      "20/20 [==============================] - 1s 29ms/step - loss: 0.6287 - accuracy: 0.6703 - auc_69: 0.6070\n",
      "Epoch 6/10\n",
      "20/20 [==============================] - 1s 26ms/step - loss: 0.6003 - accuracy: 0.7156 - auc_69: 0.6256\n",
      "Epoch 7/10\n",
      "20/20 [==============================] - 0s 25ms/step - loss: 0.6054 - accuracy: 0.7000 - auc_69: 0.6096\n",
      "Epoch 8/10\n",
      "20/20 [==============================] - 0s 24ms/step - loss: 0.5940 - accuracy: 0.7016 - auc_69: 0.6311\n",
      "Epoch 9/10\n",
      "20/20 [==============================] - 0s 24ms/step - loss: 0.5921 - accuracy: 0.7078 - auc_69: 0.6362\n",
      "Epoch 10/10\n",
      "20/20 [==============================] - 0s 24ms/step - loss: 0.5893 - accuracy: 0.7125 - auc_69: 0.6388\n",
      "5/5 [==============================] - 0s 12ms/step\n"
     ]
    },
    {
     "name": "stderr",
     "output_type": "stream",
     "text": [
      "WARNING:absl:At this time, the v2.11+ optimizer `tf.keras.optimizers.Adam` runs slowly on M1/M2 Macs, please use the legacy Keras optimizer instead, located at `tf.keras.optimizers.legacy.Adam`.\n"
     ]
    },
    {
     "name": "stdout",
     "output_type": "stream",
     "text": [
      "Epoch 1/10\n",
      "20/20 [==============================] - 2s 62ms/step - loss: 0.7574 - accuracy: 0.6125 - auc_70: 0.4728\n",
      "Epoch 2/10\n",
      "20/20 [==============================] - 1s 27ms/step - loss: 0.6735 - accuracy: 0.7031 - auc_70: 0.4926\n",
      "Epoch 3/10\n",
      "20/20 [==============================] - 1s 27ms/step - loss: 0.6235 - accuracy: 0.7172 - auc_70: 0.5406\n",
      "Epoch 4/10\n",
      "20/20 [==============================] - 1s 28ms/step - loss: 0.6154 - accuracy: 0.7234 - auc_70: 0.5464\n",
      "Epoch 5/10\n",
      "20/20 [==============================] - 1s 28ms/step - loss: 0.6135 - accuracy: 0.6984 - auc_70: 0.5613\n",
      "Epoch 6/10\n",
      "20/20 [==============================] - 1s 27ms/step - loss: 0.5999 - accuracy: 0.7141 - auc_70: 0.5912\n",
      "Epoch 7/10\n",
      "20/20 [==============================] - 1s 28ms/step - loss: 0.5947 - accuracy: 0.7203 - auc_70: 0.6113\n",
      "Epoch 8/10\n",
      "20/20 [==============================] - 1s 28ms/step - loss: 0.5910 - accuracy: 0.7172 - auc_70: 0.6230\n",
      "Epoch 9/10\n",
      "20/20 [==============================] - 1s 27ms/step - loss: 0.5878 - accuracy: 0.7125 - auc_70: 0.6308\n",
      "Epoch 10/10\n",
      "20/20 [==============================] - 1s 27ms/step - loss: 0.5869 - accuracy: 0.7250 - auc_70: 0.6366\n",
      "5/5 [==============================] - 0s 14ms/step\n"
     ]
    },
    {
     "name": "stderr",
     "output_type": "stream",
     "text": [
      "WARNING:absl:At this time, the v2.11+ optimizer `tf.keras.optimizers.Adam` runs slowly on M1/M2 Macs, please use the legacy Keras optimizer instead, located at `tf.keras.optimizers.legacy.Adam`.\n"
     ]
    },
    {
     "name": "stdout",
     "output_type": "stream",
     "text": [
      "Epoch 1/10\n"
     ]
    },
    {
     "name": "stderr",
     "output_type": "stream",
     "text": [
      "2024-03-27 20:27:00.975413: E tensorflow/core/grappler/optimizers/meta_optimizer.cc:961] model_pruner failed: INVALID_ARGUMENT: Graph does not contain terminal node Adam/AssignAddVariableOp.\n"
     ]
    },
    {
     "name": "stdout",
     "output_type": "stream",
     "text": [
      "20/20 [==============================] - 2s 54ms/step - loss: 0.7376 - accuracy: 0.6359 - auc_71: 0.5024\n",
      "Epoch 2/10\n",
      "20/20 [==============================] - 1s 32ms/step - loss: 0.6704 - accuracy: 0.6766 - auc_71: 0.5213\n",
      "Epoch 3/10\n",
      "20/20 [==============================] - 0s 24ms/step - loss: 0.6322 - accuracy: 0.7016 - auc_71: 0.5614\n",
      "Epoch 4/10\n",
      "20/20 [==============================] - 0s 24ms/step - loss: 0.6095 - accuracy: 0.6969 - auc_71: 0.6087\n",
      "Epoch 5/10\n",
      "20/20 [==============================] - 0s 23ms/step - loss: 0.6113 - accuracy: 0.6953 - auc_71: 0.6098\n",
      "Epoch 6/10\n",
      "20/20 [==============================] - 0s 24ms/step - loss: 0.6001 - accuracy: 0.7031 - auc_71: 0.6201\n",
      "Epoch 7/10\n",
      "20/20 [==============================] - 0s 25ms/step - loss: 0.6065 - accuracy: 0.7172 - auc_71: 0.5996\n",
      "Epoch 8/10\n",
      "20/20 [==============================] - 0s 24ms/step - loss: 0.5897 - accuracy: 0.7188 - auc_71: 0.6379\n",
      "Epoch 9/10\n",
      "20/20 [==============================] - 0s 24ms/step - loss: 0.5782 - accuracy: 0.7250 - auc_71: 0.6575\n",
      "Epoch 10/10\n",
      "20/20 [==============================] - 0s 23ms/step - loss: 0.5895 - accuracy: 0.7328 - auc_71: 0.6361\n",
      "5/5 [==============================] - 0s 9ms/step\n"
     ]
    },
    {
     "name": "stderr",
     "output_type": "stream",
     "text": [
      "WARNING:absl:At this time, the v2.11+ optimizer `tf.keras.optimizers.Adam` runs slowly on M1/M2 Macs, please use the legacy Keras optimizer instead, located at `tf.keras.optimizers.legacy.Adam`.\n"
     ]
    },
    {
     "name": "stdout",
     "output_type": "stream",
     "text": [
      "Epoch 1/10\n",
      "20/20 [==============================] - 2s 51ms/step - loss: 0.7470 - accuracy: 0.6703 - auc_72: 0.5255\n",
      "Epoch 2/10\n",
      "20/20 [==============================] - 1s 32ms/step - loss: 0.6771 - accuracy: 0.7047 - auc_72: 0.5451\n",
      "Epoch 3/10\n",
      "20/20 [==============================] - 1s 31ms/step - loss: 0.6428 - accuracy: 0.6844 - auc_72: 0.5814\n",
      "Epoch 4/10\n",
      "20/20 [==============================] - 1s 25ms/step - loss: 0.6378 - accuracy: 0.6906 - auc_72: 0.5675\n",
      "Epoch 5/10\n",
      "20/20 [==============================] - 1s 26ms/step - loss: 0.6276 - accuracy: 0.7125 - auc_72: 0.5814\n",
      "Epoch 6/10\n",
      "20/20 [==============================] - 1s 26ms/step - loss: 0.6243 - accuracy: 0.7141 - auc_72: 0.5774\n",
      "Epoch 7/10\n",
      "20/20 [==============================] - 1s 26ms/step - loss: 0.6257 - accuracy: 0.7016 - auc_72: 0.5713\n",
      "Epoch 8/10\n",
      "20/20 [==============================] - 1s 25ms/step - loss: 0.6078 - accuracy: 0.7234 - auc_72: 0.6116\n",
      "Epoch 9/10\n",
      "20/20 [==============================] - 1s 26ms/step - loss: 0.6051 - accuracy: 0.7156 - auc_72: 0.6231\n",
      "Epoch 10/10\n",
      "20/20 [==============================] - 1s 25ms/step - loss: 0.6032 - accuracy: 0.7156 - auc_72: 0.6248\n",
      "5/5 [==============================] - 0s 15ms/step\n"
     ]
    },
    {
     "name": "stderr",
     "output_type": "stream",
     "text": [
      "WARNING:absl:At this time, the v2.11+ optimizer `tf.keras.optimizers.Adam` runs slowly on M1/M2 Macs, please use the legacy Keras optimizer instead, located at `tf.keras.optimizers.legacy.Adam`.\n"
     ]
    },
    {
     "name": "stdout",
     "output_type": "stream",
     "text": [
      "Epoch 1/10\n",
      "20/20 [==============================] - 2s 62ms/step - loss: 0.6986 - accuracy: 0.6609 - auc_73: 0.4971\n",
      "Epoch 2/10\n",
      "20/20 [==============================] - 1s 32ms/step - loss: 0.6504 - accuracy: 0.6750 - auc_73: 0.5384\n",
      "Epoch 3/10\n",
      "20/20 [==============================] - 1s 28ms/step - loss: 0.6316 - accuracy: 0.6766 - auc_73: 0.5625\n",
      "Epoch 4/10\n",
      "20/20 [==============================] - 1s 26ms/step - loss: 0.6358 - accuracy: 0.6984 - auc_73: 0.5390\n",
      "Epoch 5/10\n",
      "20/20 [==============================] - 1s 26ms/step - loss: 0.6177 - accuracy: 0.7031 - auc_73: 0.5812\n",
      "Epoch 6/10\n",
      "20/20 [==============================] - 1s 27ms/step - loss: 0.6117 - accuracy: 0.6969 - auc_73: 0.5964\n",
      "Epoch 7/10\n",
      "20/20 [==============================] - 1s 26ms/step - loss: 0.6033 - accuracy: 0.7094 - auc_73: 0.6037\n",
      "Epoch 8/10\n",
      "20/20 [==============================] - 1s 27ms/step - loss: 0.5925 - accuracy: 0.7063 - auc_73: 0.6394\n",
      "Epoch 9/10\n",
      "20/20 [==============================] - 1s 27ms/step - loss: 0.5966 - accuracy: 0.7109 - auc_73: 0.6182\n",
      "Epoch 10/10\n",
      "20/20 [==============================] - 1s 27ms/step - loss: 0.5947 - accuracy: 0.7078 - auc_73: 0.6217\n",
      "5/5 [==============================] - 0s 16ms/step\n"
     ]
    },
    {
     "name": "stderr",
     "output_type": "stream",
     "text": [
      "WARNING:absl:At this time, the v2.11+ optimizer `tf.keras.optimizers.Adam` runs slowly on M1/M2 Macs, please use the legacy Keras optimizer instead, located at `tf.keras.optimizers.legacy.Adam`.\n"
     ]
    },
    {
     "name": "stdout",
     "output_type": "stream",
     "text": [
      "Epoch 1/10\n",
      "20/20 [==============================] - 2s 62ms/step - loss: 0.7881 - accuracy: 0.6203 - auc_74: 0.4733\n",
      "Epoch 2/10\n",
      "20/20 [==============================] - 1s 33ms/step - loss: 0.7044 - accuracy: 0.6797 - auc_74: 0.5244\n",
      "Epoch 3/10\n",
      "20/20 [==============================] - 1s 26ms/step - loss: 0.6527 - accuracy: 0.6969 - auc_74: 0.5788\n",
      "Epoch 4/10\n",
      "20/20 [==============================] - 1s 26ms/step - loss: 0.6303 - accuracy: 0.7031 - auc_74: 0.6188\n",
      "Epoch 5/10\n",
      "20/20 [==============================] - 1s 26ms/step - loss: 0.6374 - accuracy: 0.7031 - auc_74: 0.5954\n",
      "Epoch 6/10\n",
      "20/20 [==============================] - 1s 26ms/step - loss: 0.6456 - accuracy: 0.6938 - auc_74: 0.5797\n",
      "Epoch 7/10\n",
      "20/20 [==============================] - 1s 26ms/step - loss: 0.6406 - accuracy: 0.7078 - auc_74: 0.5920\n",
      "Epoch 8/10\n",
      "20/20 [==============================] - 1s 26ms/step - loss: 0.6184 - accuracy: 0.7109 - auc_74: 0.6236\n",
      "Epoch 9/10\n",
      "20/20 [==============================] - 1s 26ms/step - loss: 0.6028 - accuracy: 0.7063 - auc_74: 0.6533\n",
      "Epoch 10/10\n",
      "20/20 [==============================] - 1s 26ms/step - loss: 0.6244 - accuracy: 0.6781 - auc_74: 0.6170\n",
      "5/5 [==============================] - 0s 13ms/step\n"
     ]
    },
    {
     "name": "stderr",
     "output_type": "stream",
     "text": [
      "WARNING:absl:At this time, the v2.11+ optimizer `tf.keras.optimizers.Adam` runs slowly on M1/M2 Macs, please use the legacy Keras optimizer instead, located at `tf.keras.optimizers.legacy.Adam`.\n"
     ]
    },
    {
     "name": "stdout",
     "output_type": "stream",
     "text": [
      "Epoch 1/10\n",
      "20/20 [==============================] - 3s 71ms/step - loss: 0.7214 - accuracy: 0.6344 - auc_75: 0.4854\n",
      "Epoch 2/10\n",
      "20/20 [==============================] - 1s 31ms/step - loss: 0.6399 - accuracy: 0.6812 - auc_75: 0.5566\n",
      "Epoch 3/10\n",
      "20/20 [==============================] - 1s 27ms/step - loss: 0.6275 - accuracy: 0.6766 - auc_75: 0.5761\n",
      "Epoch 4/10\n",
      "20/20 [==============================] - 1s 28ms/step - loss: 0.6178 - accuracy: 0.6812 - auc_75: 0.5930\n",
      "Epoch 5/10\n",
      "20/20 [==============================] - 1s 27ms/step - loss: 0.6045 - accuracy: 0.6906 - auc_75: 0.6179\n",
      "Epoch 6/10\n",
      "20/20 [==============================] - 1s 28ms/step - loss: 0.5986 - accuracy: 0.6984 - auc_75: 0.6275\n",
      "Epoch 7/10\n",
      "20/20 [==============================] - 1s 28ms/step - loss: 0.5880 - accuracy: 0.7063 - auc_75: 0.6505\n",
      "Epoch 8/10\n",
      "20/20 [==============================] - 1s 27ms/step - loss: 0.5993 - accuracy: 0.7016 - auc_75: 0.6225\n",
      "Epoch 9/10\n",
      "20/20 [==============================] - 1s 28ms/step - loss: 0.5875 - accuracy: 0.7109 - auc_75: 0.6433\n",
      "Epoch 10/10\n",
      "20/20 [==============================] - 1s 27ms/step - loss: 0.5824 - accuracy: 0.7219 - auc_75: 0.6505\n",
      "5/5 [==============================] - 0s 20ms/step\n"
     ]
    },
    {
     "name": "stderr",
     "output_type": "stream",
     "text": [
      "WARNING:absl:At this time, the v2.11+ optimizer `tf.keras.optimizers.Adam` runs slowly on M1/M2 Macs, please use the legacy Keras optimizer instead, located at `tf.keras.optimizers.legacy.Adam`.\n"
     ]
    },
    {
     "name": "stdout",
     "output_type": "stream",
     "text": [
      "Epoch 1/10\n",
      "20/20 [==============================] - 3s 69ms/step - loss: 0.7271 - accuracy: 0.6547 - auc_76: 0.5069\n",
      "Epoch 2/10\n",
      "20/20 [==============================] - 1s 33ms/step - loss: 0.6623 - accuracy: 0.6984 - auc_76: 0.5461\n",
      "Epoch 3/10\n",
      "20/20 [==============================] - 1s 27ms/step - loss: 0.6139 - accuracy: 0.7266 - auc_76: 0.6206\n",
      "Epoch 4/10\n",
      "20/20 [==============================] - 1s 27ms/step - loss: 0.6139 - accuracy: 0.7125 - auc_76: 0.6145\n",
      "Epoch 5/10\n",
      "20/20 [==============================] - 1s 28ms/step - loss: 0.6162 - accuracy: 0.7109 - auc_76: 0.6043\n",
      "Epoch 6/10\n",
      "20/20 [==============================] - 1s 28ms/step - loss: 0.6035 - accuracy: 0.7266 - auc_76: 0.6339\n",
      "Epoch 7/10\n",
      "20/20 [==============================] - 1s 27ms/step - loss: 0.6086 - accuracy: 0.7031 - auc_76: 0.6255\n",
      "Epoch 8/10\n",
      "20/20 [==============================] - 1s 27ms/step - loss: 0.6142 - accuracy: 0.7125 - auc_76: 0.6002\n",
      "Epoch 9/10\n",
      "20/20 [==============================] - 1s 28ms/step - loss: 0.6008 - accuracy: 0.7063 - auc_76: 0.6379\n",
      "Epoch 10/10\n",
      "20/20 [==============================] - 1s 28ms/step - loss: 0.5975 - accuracy: 0.7141 - auc_76: 0.6411\n",
      "5/5 [==============================] - 0s 15ms/step\n"
     ]
    },
    {
     "name": "stderr",
     "output_type": "stream",
     "text": [
      "WARNING:absl:At this time, the v2.11+ optimizer `tf.keras.optimizers.Adam` runs slowly on M1/M2 Macs, please use the legacy Keras optimizer instead, located at `tf.keras.optimizers.legacy.Adam`.\n"
     ]
    },
    {
     "name": "stdout",
     "output_type": "stream",
     "text": [
      "Epoch 1/10\n",
      "20/20 [==============================] - 3s 66ms/step - loss: 0.7817 - accuracy: 0.6078 - auc_77: 0.5028\n",
      "Epoch 2/10\n",
      "20/20 [==============================] - 1s 29ms/step - loss: 0.6817 - accuracy: 0.6766 - auc_77: 0.5025\n",
      "Epoch 3/10\n",
      "20/20 [==============================] - 1s 32ms/step - loss: 0.6454 - accuracy: 0.6703 - auc_77: 0.5357\n",
      "Epoch 4/10\n",
      "20/20 [==============================] - 1s 27ms/step - loss: 0.6292 - accuracy: 0.6938 - auc_77: 0.5533\n",
      "Epoch 5/10\n",
      "20/20 [==============================] - 1s 31ms/step - loss: 0.6115 - accuracy: 0.7141 - auc_77: 0.5925\n",
      "Epoch 6/10\n",
      "20/20 [==============================] - 1s 28ms/step - loss: 0.6101 - accuracy: 0.7063 - auc_77: 0.6017\n",
      "Epoch 7/10\n",
      "20/20 [==============================] - 1s 28ms/step - loss: 0.6076 - accuracy: 0.7078 - auc_77: 0.5991\n",
      "Epoch 8/10\n",
      "20/20 [==============================] - 1s 29ms/step - loss: 0.6023 - accuracy: 0.7141 - auc_77: 0.6094\n",
      "Epoch 9/10\n",
      "20/20 [==============================] - 1s 29ms/step - loss: 0.6050 - accuracy: 0.7094 - auc_77: 0.6002\n",
      "Epoch 10/10\n",
      "20/20 [==============================] - 1s 29ms/step - loss: 0.5989 - accuracy: 0.7078 - auc_77: 0.6174\n",
      "5/5 [==============================] - 0s 20ms/step\n"
     ]
    },
    {
     "name": "stderr",
     "output_type": "stream",
     "text": [
      "WARNING:absl:At this time, the v2.11+ optimizer `tf.keras.optimizers.Adam` runs slowly on M1/M2 Macs, please use the legacy Keras optimizer instead, located at `tf.keras.optimizers.legacy.Adam`.\n"
     ]
    },
    {
     "name": "stdout",
     "output_type": "stream",
     "text": [
      "Epoch 1/10\n",
      "20/20 [==============================] - 3s 74ms/step - loss: 0.6932 - accuracy: 0.6453 - auc_78: 0.5079\n",
      "Epoch 2/10\n",
      "20/20 [==============================] - 1s 30ms/step - loss: 0.6290 - accuracy: 0.7094 - auc_78: 0.5776\n",
      "Epoch 3/10\n",
      "20/20 [==============================] - 1s 26ms/step - loss: 0.6253 - accuracy: 0.7016 - auc_78: 0.5662\n",
      "Epoch 4/10\n",
      "20/20 [==============================] - 1s 25ms/step - loss: 0.6095 - accuracy: 0.7078 - auc_78: 0.6047\n",
      "Epoch 5/10\n",
      "20/20 [==============================] - 1s 26ms/step - loss: 0.6063 - accuracy: 0.7141 - auc_78: 0.5991\n",
      "Epoch 6/10\n",
      "20/20 [==============================] - 0s 25ms/step - loss: 0.5998 - accuracy: 0.7125 - auc_78: 0.6148\n",
      "Epoch 7/10\n",
      "20/20 [==============================] - 0s 25ms/step - loss: 0.6071 - accuracy: 0.7109 - auc_78: 0.5988\n",
      "Epoch 8/10\n",
      "20/20 [==============================] - 1s 25ms/step - loss: 0.6018 - accuracy: 0.7094 - auc_78: 0.6181\n",
      "Epoch 9/10\n",
      "20/20 [==============================] - 1s 25ms/step - loss: 0.5956 - accuracy: 0.7188 - auc_78: 0.6255\n",
      "Epoch 10/10\n",
      "20/20 [==============================] - 1s 25ms/step - loss: 0.5930 - accuracy: 0.7156 - auc_78: 0.6266\n",
      "5/5 [==============================] - 0s 17ms/step\n"
     ]
    },
    {
     "name": "stderr",
     "output_type": "stream",
     "text": [
      "WARNING:absl:At this time, the v2.11+ optimizer `tf.keras.optimizers.Adam` runs slowly on M1/M2 Macs, please use the legacy Keras optimizer instead, located at `tf.keras.optimizers.legacy.Adam`.\n"
     ]
    },
    {
     "name": "stdout",
     "output_type": "stream",
     "text": [
      "Epoch 1/10\n"
     ]
    },
    {
     "name": "stderr",
     "output_type": "stream",
     "text": [
      "2024-03-27 20:28:02.767111: E tensorflow/core/grappler/optimizers/meta_optimizer.cc:961] model_pruner failed: INVALID_ARGUMENT: Graph does not contain terminal node Adam/AssignAddVariableOp.\n"
     ]
    },
    {
     "name": "stdout",
     "output_type": "stream",
     "text": [
      "20/20 [==============================] - 3s 80ms/step - loss: 0.7583 - accuracy: 0.6516 - auc_79: 0.4894\n",
      "Epoch 2/10\n",
      "20/20 [==============================] - 1s 28ms/step - loss: 0.6736 - accuracy: 0.6641 - auc_79: 0.5393\n",
      "Epoch 3/10\n",
      "20/20 [==============================] - 1s 28ms/step - loss: 0.6488 - accuracy: 0.6859 - auc_79: 0.5605\n",
      "Epoch 4/10\n",
      "20/20 [==============================] - 1s 27ms/step - loss: 0.6487 - accuracy: 0.6938 - auc_79: 0.5549\n",
      "Epoch 5/10\n",
      "20/20 [==============================] - 1s 27ms/step - loss: 0.6389 - accuracy: 0.6875 - auc_79: 0.5677\n",
      "Epoch 6/10\n",
      "20/20 [==============================] - 1s 27ms/step - loss: 0.6048 - accuracy: 0.7188 - auc_79: 0.6360\n",
      "Epoch 7/10\n",
      "20/20 [==============================] - 1s 27ms/step - loss: 0.6048 - accuracy: 0.7156 - auc_79: 0.6368\n",
      "Epoch 8/10\n",
      "20/20 [==============================] - 1s 27ms/step - loss: 0.6115 - accuracy: 0.7094 - auc_79: 0.6163\n",
      "Epoch 9/10\n",
      "20/20 [==============================] - 1s 27ms/step - loss: 0.6126 - accuracy: 0.7094 - auc_79: 0.6082\n",
      "Epoch 10/10\n",
      "20/20 [==============================] - 1s 27ms/step - loss: 0.6039 - accuracy: 0.7172 - auc_79: 0.6220\n",
      "5/5 [==============================] - 0s 18ms/step\n"
     ]
    },
    {
     "name": "stderr",
     "output_type": "stream",
     "text": [
      "WARNING:absl:At this time, the v2.11+ optimizer `tf.keras.optimizers.Adam` runs slowly on M1/M2 Macs, please use the legacy Keras optimizer instead, located at `tf.keras.optimizers.legacy.Adam`.\n"
     ]
    },
    {
     "name": "stdout",
     "output_type": "stream",
     "text": [
      "Epoch 1/10\n",
      "25/25 [==============================] - 3s 66ms/step - loss: 0.6982 - accuracy: 0.6587 - auc_80: 0.5725\n",
      "Epoch 2/10\n",
      "25/25 [==============================] - 1s 26ms/step - loss: 0.6453 - accuracy: 0.6963 - auc_80: 0.5912\n",
      "Epoch 3/10\n",
      "25/25 [==============================] - 1s 24ms/step - loss: 0.6284 - accuracy: 0.6988 - auc_80: 0.6030\n",
      "Epoch 4/10\n",
      "25/25 [==============================] - 1s 24ms/step - loss: 0.6234 - accuracy: 0.7013 - auc_80: 0.6175\n",
      "Epoch 5/10\n",
      "25/25 [==============================] - 1s 24ms/step - loss: 0.6161 - accuracy: 0.7138 - auc_80: 0.6196\n",
      "Epoch 6/10\n",
      "25/25 [==============================] - 1s 24ms/step - loss: 0.6108 - accuracy: 0.7113 - auc_80: 0.6249\n",
      "Epoch 7/10\n",
      "25/25 [==============================] - 1s 24ms/step - loss: 0.6015 - accuracy: 0.7163 - auc_80: 0.6475\n",
      "Epoch 8/10\n",
      "25/25 [==============================] - 1s 24ms/step - loss: 0.5966 - accuracy: 0.7150 - auc_80: 0.6574\n",
      "Epoch 9/10\n",
      "25/25 [==============================] - 1s 24ms/step - loss: 0.6064 - accuracy: 0.7100 - auc_80: 0.6342\n",
      "Epoch 10/10\n",
      "25/25 [==============================] - 1s 24ms/step - loss: 0.6004 - accuracy: 0.7163 - auc_80: 0.6458\n",
      "Best: 0.720000 using {'model__dropout_rate': 0.1, 'model__key_dim': 5, 'model__l2_reg': 0.02, 'model__num_heads': 2}\n"
     ]
    }
   ],
   "source": [
    "grid = GridSearchCV(estimator=model, param_grid=param_grid)\n",
    "   \n",
    "# fitting the model for grid search \n",
    "grid_result = grid.fit(X_train, y_train) \n",
    "   \n",
    "# print classification report \n",
    "print(\"Best: %f using %s\" % (grid_result.best_score_, grid_result.best_params_))"
   ]
  },
  {
   "cell_type": "code",
   "execution_count": 8,
   "id": "e9877462-cd65-43f4-adde-7523a3c73f46",
   "metadata": {},
   "outputs": [
    {
     "name": "stderr",
     "output_type": "stream",
     "text": [
      "WARNING:absl:At this time, the v2.11+ optimizer `tf.keras.optimizers.Adam` runs slowly on M1/M2 Macs, please use the legacy Keras optimizer instead, located at `tf.keras.optimizers.legacy.Adam`.\n"
     ]
    },
    {
     "name": "stdout",
     "output_type": "stream",
     "text": [
      "Epoch 1/50\n",
      "20/20 [==============================] - 3s 115ms/step - loss: 0.8282 - accuracy: 0.5922 - auc_81: 0.4569 - val_loss: 0.6933 - val_accuracy: 0.7063 - val_auc_81: 0.5308\n",
      "Epoch 2/50\n",
      "20/20 [==============================] - 1s 44ms/step - loss: 0.7123 - accuracy: 0.6906 - auc_81: 0.4812 - val_loss: 0.6523 - val_accuracy: 0.7125 - val_auc_81: 0.5327\n",
      "Epoch 3/50\n",
      "20/20 [==============================] - 1s 34ms/step - loss: 0.6635 - accuracy: 0.7016 - auc_81: 0.4856 - val_loss: 0.6293 - val_accuracy: 0.7125 - val_auc_81: 0.5301\n",
      "Epoch 4/50\n",
      "20/20 [==============================] - 1s 34ms/step - loss: 0.6266 - accuracy: 0.7031 - auc_81: 0.5464 - val_loss: 0.6226 - val_accuracy: 0.7188 - val_auc_81: 0.5426\n",
      "Epoch 5/50\n",
      "20/20 [==============================] - 1s 33ms/step - loss: 0.6182 - accuracy: 0.7125 - auc_81: 0.5647 - val_loss: 0.6202 - val_accuracy: 0.7125 - val_auc_81: 0.5485\n",
      "Epoch 6/50\n",
      "20/20 [==============================] - 1s 31ms/step - loss: 0.6257 - accuracy: 0.7172 - auc_81: 0.5300 - val_loss: 0.6179 - val_accuracy: 0.7125 - val_auc_81: 0.5599\n",
      "Epoch 7/50\n",
      "20/20 [==============================] - 1s 31ms/step - loss: 0.5995 - accuracy: 0.7141 - auc_81: 0.6218 - val_loss: 0.6158 - val_accuracy: 0.7125 - val_auc_81: 0.5664\n",
      "Epoch 8/50\n",
      "20/20 [==============================] - 1s 31ms/step - loss: 0.6057 - accuracy: 0.7188 - auc_81: 0.5989 - val_loss: 0.6151 - val_accuracy: 0.7125 - val_auc_81: 0.5761\n",
      "Epoch 9/50\n",
      "20/20 [==============================] - 1s 31ms/step - loss: 0.5977 - accuracy: 0.7156 - auc_81: 0.6238 - val_loss: 0.6153 - val_accuracy: 0.7125 - val_auc_81: 0.5729\n",
      "Epoch 10/50\n",
      "20/20 [==============================] - 1s 31ms/step - loss: 0.5985 - accuracy: 0.7203 - auc_81: 0.6223 - val_loss: 0.6142 - val_accuracy: 0.7125 - val_auc_81: 0.5808\n",
      "Epoch 11/50\n",
      "20/20 [==============================] - 1s 32ms/step - loss: 0.5998 - accuracy: 0.7125 - auc_81: 0.6085 - val_loss: 0.6141 - val_accuracy: 0.7125 - val_auc_81: 0.5791\n",
      "Epoch 12/50\n",
      "20/20 [==============================] - 1s 32ms/step - loss: 0.5899 - accuracy: 0.7156 - auc_81: 0.6371 - val_loss: 0.6135 - val_accuracy: 0.7125 - val_auc_81: 0.5820\n",
      "Epoch 13/50\n",
      "20/20 [==============================] - 1s 32ms/step - loss: 0.5870 - accuracy: 0.7156 - auc_81: 0.6487 - val_loss: 0.6127 - val_accuracy: 0.7125 - val_auc_81: 0.5837\n",
      "Epoch 14/50\n",
      "20/20 [==============================] - 1s 31ms/step - loss: 0.5927 - accuracy: 0.7172 - auc_81: 0.6280 - val_loss: 0.6151 - val_accuracy: 0.7125 - val_auc_81: 0.5793\n",
      "Epoch 15/50\n",
      "20/20 [==============================] - 1s 33ms/step - loss: 0.5933 - accuracy: 0.7109 - auc_81: 0.6343 - val_loss: 0.6152 - val_accuracy: 0.7125 - val_auc_81: 0.5765\n",
      "Epoch 16/50\n",
      "20/20 [==============================] - 1s 31ms/step - loss: 0.5880 - accuracy: 0.7156 - auc_81: 0.6395 - val_loss: 0.6141 - val_accuracy: 0.7125 - val_auc_81: 0.5819\n",
      "Epoch 17/50\n",
      "20/20 [==============================] - 1s 31ms/step - loss: 0.5956 - accuracy: 0.7188 - auc_81: 0.6161 - val_loss: 0.6147 - val_accuracy: 0.7000 - val_auc_81: 0.5805\n",
      "Epoch 18/50\n",
      "20/20 [==============================] - 1s 32ms/step - loss: 0.5851 - accuracy: 0.7219 - auc_81: 0.6465 - val_loss: 0.6153 - val_accuracy: 0.7125 - val_auc_81: 0.5787\n"
     ]
    },
    {
     "data": {
      "image/png": "[encoded data removed]",
      "text/plain": [
       "<Figure size 640x480 with 1 Axes>"
      ]
     },
     "metadata": {},
     "output_type": "display_data"
    }
   ],
   "source": [
    "# Extract the best hyperparameters\n",
    "best_params = grid_result.best_params_\n",
    "best_num_heads = best_params['model__num_heads']\n",
    "best_key_dim = best_params['model__key_dim']\n",
    "best_dropout_rate = best_params['model__dropout_rate']\n",
    "best_l2_reg = best_params['model__l2_reg']\n",
    "\n",
    "# Build and compile the final model using the best hyperparameters\n",
    "final_model = build_attention_model(input_shape=(50, 10),\n",
    "                                    num_heads=best_num_heads,\n",
    "                                    key_dim=best_key_dim,\n",
    "                                    dropout_rate=best_dropout_rate,\n",
    "                                    l2_reg=best_l2_reg)\n",
    "\n",
    "early_stopping_callback = EarlyStopping(monitor='val_loss', patience=5, restore_best_weights=True)\n",
    "\n",
    "history = final_model.fit(X_train, y_train,\n",
    "                          epochs=50,  \n",
    "                          validation_split=0.2,  \n",
    "                          callbacks=[early_stopping_callback],\n",
    "                          verbose=1)\n",
    "\n",
    "plt.plot(history.history['val_loss'])\n",
    "plt.title('Validation Loss Over Epochs')\n",
    "plt.xlabel('Epoch')\n",
    "plt.ylabel('Validation Loss')\n",
    "plt.show()"
   ]
  }
 ],
 "metadata": {
  "kernelspec": {
   "display_name": "Python 3 (ipykernel)",
   "language": "python",
   "name": "python3"
  },
  "language_info": {
   "codemirror_mode": {
    "name": "ipython",
    "version": 3
   },
   "file_extension": ".py",
   "mimetype": "text/x-python",
   "name": "python",
   "nbconvert_exporter": "python",
   "pygments_lexer": "ipython3",
   "version": "3.11.6"
  }
 },
 "nbformat": 4,
 "nbformat_minor": 5
}
